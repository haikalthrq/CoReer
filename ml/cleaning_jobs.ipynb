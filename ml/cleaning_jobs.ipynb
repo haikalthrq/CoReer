{
 "cells": [
  {
   "cell_type": "markdown",
   "metadata": {},
   "source": [
    "# **Data Cleaning - Proses Pembersihan Data**\n",
    "\n",
    "> **Tujuan Utama:** Notebook ini bertanggung jawab untuk membersihkan dataset mentah (`jobs_dataset.csv`) yang telah di-scrape. Tujuannya adalah untuk menghasilkan dataset bersih (`jobs_cleaned.csv`) yang siap untuk diproses lebih lanjut oleh model machine learning.\n",
    "\n",
    "**Alur Kerja Pembersihan:**\n",
    "1.  **Impor Library & Memuat Data:** Memuat library yang dibutuhkan dan dataset mentah secara fleksibel (bisa dari lokal atau Kaggle).\n",
    "2.  **Analisis & Pembersihan Data:** Melakukan serangkaian langkah pembersihan, termasuk:\n",
    "    * Mengganti nilai \"Not Found\" dengan NaN (Not a Number) agar mudah diolah.\n",
    "    * Menghapus data duplikat.\n",
    "    * Menghapus baris data yang tidak memiliki informasi esensial (`Job Description` atau `Job Requirements`).\n",
    "3.  **Penyimpanan Data Bersih:** Menyimpan hasil pembersihan ke dalam file `jobs_cleaned.csv`."
   ]
  },
  {
   "cell_type": "markdown",
   "metadata": {},
   "source": [
    "### **Langkah 1: Import Libraries**"
   ]
  },
  {
   "cell_type": "code",
   "execution_count": 1,
   "metadata": {
    "_cell_guid": "b1076dfc-b9ad-4769-8c92-a6c4dae69d19",
    "_uuid": "8f2839f25d086af736a60e9eeb907d3b93b6e0e5",
    "execution": {
     "iopub.execute_input": "2025-06-10T10:08:05.654297Z",
     "iopub.status.busy": "2025-06-10T10:08:05.654033Z",
     "iopub.status.idle": "2025-06-10T10:08:08.023793Z",
     "shell.execute_reply": "2025-06-10T10:08:08.022783Z",
     "shell.execute_reply.started": "2025-06-10T10:08:05.654267Z"
    },
    "trusted": true
   },
   "outputs": [
    {
     "name": "stdout",
     "output_type": "stream",
     "text": [
      "Library pandas dan numpy berhasil diimpor.\n"
     ]
    }
   ],
   "source": [
    "import numpy as np\n",
    "import pandas as pd\n",
    "import os\n",
    "\n",
    "print(\"Library pandas dan numpy berhasil diimpor.\")"
   ]
  },
  {
   "cell_type": "markdown",
   "metadata": {},
   "source": [
    "### **Langkah 2: Memuat Dataset**\n",
    "\n",
    "Untuk membuat *notebook* ini portabel, kita akan membuat kode yang secara otomatis mendeteksi lingkungan kerja.\n",
    "- **Jika dijalankan di Kaggle**, ia akan memuat data dari path `/kaggle/input/`.\n",
    "- **Jika dijalankan di komputer lokal**, ia akan memuat data dari path `dataset/`.\n",
    "\n",
    "Dengan cara ini, kode tidak perlu diubah-ubah saat berpindah lingkungan."
   ]
  },
  {
   "cell_type": "code",
   "execution_count": 2,
   "metadata": {
    "execution": {
     "iopub.execute_input": "2025-06-10T10:08:08.026184Z",
     "iopub.status.busy": "2025-06-10T10:08:08.025767Z",
     "iopub.status.idle": "2025-06-10T10:08:08.399864Z",
     "shell.execute_reply": "2025-06-10T10:08:08.398769Z",
     "shell.execute_reply.started": "2025-06-10T10:08:08.026152Z"
    },
    "trusted": true
   },
   "outputs": [
    {
     "name": "stdout",
     "output_type": "stream",
     "text": [
      "Lingkungan lokal terdeteksi. Memuat data dari: dataset/jobs_dataset.csv\n",
      "\n",
      "Berhasil memuat dataset.\n",
      "\n",
      "Informasi umum tentang dataset:\n",
      "<class 'pandas.core.frame.DataFrame'>\n",
      "RangeIndex: 5251 entries, 0 to 5250\n",
      "Data columns (total 7 columns):\n",
      " #   Column            Non-Null Count  Dtype \n",
      "---  ------            --------------  ----- \n",
      " 0   Title             5251 non-null   object\n",
      " 1   Company           5251 non-null   object\n",
      " 2   Location          5251 non-null   object\n",
      " 3   Country           5251 non-null   object\n",
      " 4   Job Description   5251 non-null   object\n",
      " 5   Job Requirements  5251 non-null   object\n",
      " 6   Link              5251 non-null   object\n",
      "dtypes: object(7)\n",
      "memory usage: 287.3+ KB\n",
      "\n",
      "Statistik deskriptif dari dataset:\n",
      "                  Title                     Company  \\\n",
      "count              5251                        5251   \n",
      "unique             1071                         588   \n",
      "top     DevOps Engineer  PT Astra International Tbk   \n",
      "freq                 73                         186   \n",
      "\n",
      "                           Location     Country Job Description  \\\n",
      "count                          5251        5251            5251   \n",
      "unique                          158          10             802   \n",
      "top     Jakarta, Jakarta, Indonesia   Indonesia       Not Found   \n",
      "freq                           1809        4579            1721   \n",
      "\n",
      "       Job Requirements                                               Link  \n",
      "count              5251                                               5251  \n",
      "unique             1111                                               5251  \n",
      "top           Not Found  https://id.linkedin.com/jobs/view/pesticide-re...  \n",
      "freq                389                                                  1  \n",
      "\n",
      "Jumlah baris: 5251, Jumlah kolom: 7\n",
      "\n",
      "Nama-nama kolom dalam dataset:\n",
      "['Title', 'Company', 'Location', 'Country', 'Job Description', 'Job Requirements', 'Link']\n",
      "\n",
      "Jumlah nilai yang hilang di setiap kolom:\n",
      "Title               0\n",
      "Company             0\n",
      "Location            0\n",
      "Country             0\n",
      "Job Description     0\n",
      "Job Requirements    0\n",
      "Link                0\n",
      "dtype: int64\n",
      "\n",
      "Jumlah duplikat dalam dataset:\n",
      "0\n"
     ]
    },
    {
     "data": {
      "application/vnd.microsoft.datawrangler.viewer.v0+json": {
       "columns": [
        {
         "name": "index",
         "rawType": "int64",
         "type": "integer"
        },
        {
         "name": "Title",
         "rawType": "object",
         "type": "string"
        },
        {
         "name": "Company",
         "rawType": "object",
         "type": "string"
        },
        {
         "name": "Location",
         "rawType": "object",
         "type": "string"
        },
        {
         "name": "Country",
         "rawType": "object",
         "type": "string"
        },
        {
         "name": "Job Description",
         "rawType": "object",
         "type": "string"
        },
        {
         "name": "Job Requirements",
         "rawType": "object",
         "type": "string"
        },
        {
         "name": "Link",
         "rawType": "object",
         "type": "string"
        }
       ],
       "ref": "70cd20d0-20aa-4f6b-ab44-a74b12bffcc5",
       "rows": [
        [
         "0",
         "Pesticide residue analysis specialist",
         "Groupe Enval (Laboratoires & Cabinet)",
         "Jakarta Metropolitan Area",
         "Jakarta Metropolitan Area",
         "Leadership Role",
         "Competitive Salary and Benefits: | Modern Facilities and Support: | Welcoming and Safe Environment: | Career Growth: | Ensure accurate, repeatable, and timely analytical results aligned with ISO 17025 quality standards. | Prepare and validate test methods according to international guidelines (e.g. SANCO, AOAC, Codex). | Interpret results, prepare analytical reports, and assess compliance with regulatory limits. | Maintain calibration, maintenance, and documentation of all instrumentation. | Collaborate with QA/QC teams to ensure continuous improvement and adherence to SOPs. | Participate in internal audits and method reviews as needed. | Advanced Diploma / D3 / S1 in Analytical Chemistry, Environmental Science, Food Science, or related discipline. | 3–5 years of hands-on experience in the analysis of pesticide residues or contaminants in a regulated laboratory environment. | Proficient in the use and troubleshooting of LC-MS/MS and GC-MS/MS systems (experience with Agilent, Sciex, Shimadzu, or Thermo systems is a strong plus). | Key expertise in Chromatography | Solid understanding of ISO 17025 and international pesticide residue regulations. | Strong laboratory documentation and reporting skills. | English proficiency (spoken and written); French is a plus but not required. | Experience in food/agriculture/environmental analysis under ASEAN or EU guidelines. | Familiarity with method validation, uncertainty estimation, and LIMS systems. | Willingness to relocate to Côte d’Ivoire and participate in capacity building. | Work in a company with a solid track record of performance | Fantastic work culture",
         "https://id.linkedin.com/jobs/view/pesticide-residue-analysis-specialist-at-groupe-enval-laboratoires-cabinet-4228096102?position=10&pageNum=0&refId=kiyfNDODEdjy1%2BgmfjczkA%3D%3D&trackingId=2Rm5Wee4LUvHZWNjFJ7C7g%3D%3D"
        ],
        [
         "1",
         "Automotive Quality Assurance Analyst",
         "Asuransi Astra",
         "Jakarta, Jakarta, Indonesia",
         " Indonesia",
         "Not Found",
         "Membuat analisa dan menyimpulkan jumlah temuan dari hasil Quality Assurance yang dilakukan | Membuat skenario baru dari hasil Quality Assurance yang dilakukan | Melakukan koordinasi dengan tim terkait seperti bengkel rekanan Asuransi Astra atau tim internal atas hasil temuan serta memberikan rekomendasi improvement atas proses yang dilakukan dalam proses klaim/penutupan untuk mitigasi (mengurangi) risiko fraud | Minimal pendidikan Sarjana (S1): Teknik Mesin/Teknik Industri/Data Science | Min. GPA >3.50 | Memahami [menjadi nilai plus]: (a) Service & part pricing kendaraan bermotor (terutama roda empat); (b) Survey kendaraan bermotor; (c) Segala part dalam kendaraan bermotor. | Memiliki passion atau ketertarikan dalam bidang otomotif | Memiliki pengalaman di industri manufaktur kendaraan roda empat atau serupa akan diutamakan | Maksimal pengalaman bekerja 3 tahun | Fresh graduate are welcome (Selama memiliki pengalaman di bidang permesinan di kendaraan bermotor roda empat)",
         "https://id.linkedin.com/jobs/view/automotive-quality-assurance-analyst-at-asuransi-astra-4205089904?position=34&pageNum=0&refId=PRiRe76wt0JkjVGUOJgpdw%3D%3D&trackingId=VzBSEUdi8O%2BORR%2FefkZijw%3D%3D"
        ],
        [
         "2",
         "Visual Merchandiser",
         "Black Owl Indonesia",
         "Jakarta Metropolitan Area",
         "Jakarta Metropolitan Area",
         "Not Found",
         "Not Found",
         "https://id.linkedin.com/jobs/view/visual-merchandiser-at-black-owl-indonesia-4191516104?position=41&pageNum=0&refId=O1dot7h%2BlG%2BUCcXCODH5UQ%3D%3D&trackingId=xCWZYeSnVfE%2Fpr5kEE3dSQ%3D%3D"
        ],
        [
         "3",
         "L2 Network Security Engineer",
         "PT Focus Solusi Infotama",
         "Jakarta, Jakarta, Indonesia",
         " Indonesia",
         "Not Found",
         "Menangani dan menindaklanjuti insiden keamanan jaringan tingkat L2. | Melakukan pemantauan sistem keamanan dan menanggapi alert. | Melakukan konfigurasi, perubahan, dan pembaruan pada perangkat keamanan sesuai SOP. | Bekerja sama dengan tim IT lain untuk menerapkan kebijakan keamanan jaringan. | Memberikan dokumentasi teknis dan laporan insiden secara berkala. | Pengalaman: | Minimal 1–4 tahun pengalaman kerja di bidang network security. | Terbiasa menangani operasi keamanan tingkat menengah (L2), termasuk investigasi insiden dan troubleshooting jaringan. | Keahlian Teknologi: | Penguasaan perangkat keamanan seperti: Firewall (Palo Alto, Fortinet, Check Point, Cisco ASA), IDS/IPS, WAF, Proxy, VPN. | Familiar dengan sistem NAC, SIEM (contoh: Splunk, QRadar, atau ELK Stack). | Mengerti konsep dan implementasi segmentasi jaringan, ACL, NAT, dan routing dasar. | Mampu membaca dan menganalisis log jaringan serta laporan insiden keamanan. | Sertifikasi (diutamakan): | Sertifikasi seperti: CEH, CompTIA Security+, PCNSE, NSE 4, CCNP Security, atau setara. | Sertifikasi jaringan dasar seperti CCNA (wajib minimal). | Pengetahuan Umum: | Pemahaman tentang TCP/IP, model OSI, dan protokol jaringan umum (HTTP/S, DNS, SMTP, FTP, dll). | Mengerti konsep zero trust, hardening, dan best practices keamanan. | Kualifikasi Non-Teknis: | Kemampuan Analisa: | Mampu melakukan analisis akar masalah (root cause analysis) pada insiden keamanan. | Cepat dan tanggap dalam eskalasi isu ke tim terkait (L3 atau vendor support). | Etika dan Sikap Kerja: | Disiplin, teliti, dan mampu bekerja secara mandiri maupun dalam tim. | Bersedia bekerja dalam sistem shift (jika dibutuhkan) dan on-call support. | Bahasa: | Bahasa Indonesia aktif dan Bahasa Inggris pasif/menjadi nilai plus jika aktif.",
         "https://id.linkedin.com/jobs/view/l2-network-security-engineer-at-pt-focus-solusi-infotama-4230143060?position=30&pageNum=0&refId=lseDBeC70Nr%2F6cHM0%2F7YQA%3D%3D&trackingId=x0qi4qiSMoHnD9KnISLuoQ%3D%3D"
        ],
        [
         "4",
         "UX Annotator",
         "Mobbin",
         "Jakarta, Jakarta, Indonesia",
         " Indonesia",
         "Annotate screens and flows with information about design patterns and UI elements following our guidelines. | Have a strong interest in UI/UX and a good understanding of design patterns. You will need to identify different complexities of design patterns and elements. You should be highly interested in delving into the nuances.",
         "Stay informed on updates to guidelines and incorporate feedback to continuously improve annotations. | Collaborate with team members to improve the accuracy and quality of annotations. | Clarify any doubts in your work, for example, by seeking clarification from UX analysts. | Identify and rectify errors and inconsistencies to maintain high standards. | Be meticulous and have strong attention to detail. You should strive to be accurate and consistent in your annotations. | Be collaborative and communicate effectively. You should have good written and verbal communication skills in English. | Have good time management skills. You will need to be able to coordinate and manage your time effectively to meet the content schedule. | Have a personal computer with a stable internet connection. You will be using your own device for work.",
         "https://id.linkedin.com/jobs/view/ux-annotator-at-mobbin-4183845757?position=43&pageNum=0&refId=LUWKIIB385sxpoTSyF4O4A%3D%3D&trackingId=UPY0En0GJqUWM%2F9pQii3rw%3D%3D"
        ],
        [
         "5",
         "DevOps Engineer",
         "PCS Payment",
         "Kota Tangerang Selatan, Banten, Indonesia",
         " Indonesia",
         "Manage infrastructure and networking | Build, release and manage configuration management of infrastructure and application in multiple environments | Develop and integrate monitoring, logging, dashboard, and alert systems to quickly and proactively prevent or detect errors | Within a cross-functional team, collaborate with other engineers specializing in backend services, web frontend, mobile apps, and test automation, as well as product design and ideation",
         "Provide the support on daily operation regarding application support and infrastructure | Deploying, automating, maintaining, building and managing On-Prem and Cloud-based production systems | Ensure the availability, performance, scalability, and security of Infrastructure | Bachelor's degree in Computer Science or a related field | Strong knowledge of Linux Operating System | Familiarity with cloud platforms, especially GCP and AWS | Hands-on experience with CI/CD tools, particularly Jenkins | Basic understanding of security best practices (e.g., OWASP Top 10) and Docker container security best practices | Solid understanding of DevOps philosophy, Agile methods, and Infrastructure as Code (IaC) | Experience with monitoring and observability tools such as Grafana, ELK Stack (Elasticsearch, Logstash, Kibana) | Experience using Vault or other secrets management tools | Familiarity with containerization (e.g., Docker, Kubernetes) and database technologies (e.g., MySQL, PostgreSQL, MongoDB) | Understanding of centralized logging systems and caching solutions (e.g., Redis, Memcached) | Experience with scripting and automation tools (e.g., Python, Ansible) is a plus | Collaborative mindset with a humble, team-oriented attitude | Willing to work from office (WFO) at BSD City",
         "https://id.linkedin.com/jobs/view/devops-engineer-at-pcs-payment-4221505761?position=24&pageNum=0&refId=GBfowtyACZphaa%2BQ9FlakQ%3D%3D&trackingId=rioUh%2BMv2Y4856hX%2B2XgwA%3D%3D"
        ],
        [
         "6",
         "Field Assistant (Lampung)",
         "JALA",
         "Greater Bandar Lampung",
         "Greater Bandar Lampung",
         "Not Found",
         "Melakukan pengukuran kualitas air | Mengumpulkan data budidaya | Mendampingi petambak dalam menjalankan program | Membuat event berkala | Membuat laporan terkait petambak dampingan | Min. SMK Perikanan, D3 perikanan, atau S1 Perikanan / Akualuktur, dengan pengalaman maks. 1 tahun dibidang terkait | Memiliki ketertarikan pada kegiatan lapangan | Memiliki pengetahuan terkait budidaya udang | Bersedia ditempatkan di area Lampung | Bersedia membawa kendaraan pribadi (apabila dibutuhkan)",
         "https://id.linkedin.com/jobs/view/field-assistant-lampung-at-jala-4227638209?position=7&pageNum=0&refId=8E3BEoMqL7UC%2BAr2NZJG9A%3D%3D&trackingId=P7ouuudoIvh2uaXuP4su1Q%3D%3D"
        ],
        [
         "7",
         "Officer Development Program - Retail Banking",
         "PT. BANK NEGARA INDONESIA (Persero) Tbk.",
         "Jakarta, Indonesia",
         " Indonesia",
         "Not Found",
         "S1 /S2 from reputable universities with relevant field of studies with the minimum GPA of : S1 : 3.00 or equivalent ; S2 : 3.25 or equivalent | Proficient in English and submit your score in the application TOEFL min. 450, we only accept score provided by official /authorized institution and valid. | Demonstrate strong leadership, interpersonal, and good communication skills | Motivated and challenge-oriented individual | Ready to deployment across Indonesia | Have an interest to expand caree in sales / marketing | Willing to be placed all over Indonesia to support retail segment business in regional | Proactive and highly initiative | Strong in persuasion & negotiation | Excellent in interpersonal and communication | Oriented towards customer satisfaction | Good in critical & analytical thinking | Agile, enjoy learning new things, and able to work in dynamic environment",
         "https://id.linkedin.com/jobs/view/officer-development-program-retail-banking-at-pt-bank-negara-indonesia-persero-tbk-4124827627?position=2&pageNum=0&refId=pj7QpD6T9Hrvtlc0t90ExA%3D%3D&trackingId=u6i5zEJ49IK6mXzjC7TTYQ%3D%3D"
        ],
        [
         "8",
         "Tax & Accounting Staff",
         "Focallure",
         "Tangerang, Banten, Indonesia",
         " Indonesia",
         "Not Found",
         "Recording assets, debts, inventory of merchandise | Recording and reconciling daily financial transactions of the company. | Preparing monthly and annual financial reports | Ensuring the completeness and accuracy of transaction documents | Calculating, paying, and reporting monthly taxes (PPh 21, 23 and PP 23) | Creating tax deduction certificates and distributing them to related parties. | Preparing and reporting Annual Corporate Tax Returns | Minimum education D3/S1 Accounting | 1-2 years of work experience in accounting and taxation | Understand the basics of accounting journals, bookkeeping, and reconciliation. | Understand tax regulations in Indonesia (PPh 21, PPh 23, PPh 4(2), PPh 25, PPN). | Able to operate accounting software and Microsoft Excel. | Careful, responsible, and able to work individually or in a team. | Additional Skills (plus points): Have a Brevet A & B certificate. | Have prepared and reported Periodic Tax Returns and Annual Tax Returns for Companies. | Have experience with e-Invoice, e-Bupot, e-SPT, DJP Online.",
         "https://id.linkedin.com/jobs/view/accounting-tax-at-focallure-4233936365?position=42&pageNum=0&refId=Ug6HLt8tIXxlrqSssMcHSw%3D%3D&trackingId=5b3mK0hzrEfmRXQauuJnoQ%3D%3D"
        ],
        [
         "9",
         "Finance Sr. Staff",
         "Kalbe Nutritionals (PT Sanghiang Perkasa)",
         "East Jakarta, Jakarta, Indonesia",
         " Indonesia",
         "Create and analyze bank reconciliation in each bank account precisely | Manage branches reconciliation and bank mutation",
         "Follow up to user regarding outstanding transactions | Precisely input RFP, BP, BR and all documents needed regarding ongoing transaction | Have 1-2 years of experience in the same or equivalent field | Proactive and communicative | Proficient in MS Office and Oracle",
         "https://id.linkedin.com/jobs/view/finance-sr-staff-at-kalbe-nutritionals-pt-sanghiang-perkasa-4180296421?position=1&pageNum=0&refId=p%2FV6qXDEIw66nLn5uRMQ9Q%3D%3D&trackingId=WhrVlCt%2FZKRzDNwalZPU8A%3D%3D"
        ],
        [
         "10",
         "Quality Assurance",
         "PT Frisian Flag Indonesia",
         "Jakarta, Indonesia",
         " Indonesia",
         "Possess fundamental knowledge of Quality Assurance (QA) and Quality Control (QC) management, with strong analytical thinking and the ability to perform risk-based assessments. | Take full ownership of responsibilities and consistently seek opportunities to drive improvements and increase efficiency. | Manage the release process for raw materials, packaging, and finished goods to ensure they meet quality and regulatory standards. | Develop Quality Control plans, monitor quality trends, and create action plans for continuous improvement. | Analyze non-conformities in finished products and (raw/packing) materials, and lead root cause analyses to implement corrective actions.",
         "Demonstrate a solid business acumen and the ability to apply a practical approach, balancing compliance requirements with business objectives. | Customer-focused, with the ability to act with speed and decisiveness to achieve optimal results through collaboration with team members and stakeholders. | Strong competencies in analytical instruments and related technical knowledge are highly preferred. | Minimum educational requirement: Bachelor’s degree in Chemistry, Biology, Food Technology, or Chemical Engineering. | A minimum of 10 years of experience in QA/QC, with at least 2 years in a managerial role. | Implement food safety standards as required by FrieslandCampina. | Lead and maintain ISO 17025 standards in the laboratory. | Investigate product issues/ non conformities and apply corrective measures. | Collaborate with cross-functional teams and global QA stakeholders. | Act as key driver in balancing quality, compliance, and business needs.",
         "https://id.linkedin.com/jobs/view/senior-manager-quality-qa-qc-plant-at-pt-frisian-flag-indonesia-4216377915?position=15&pageNum=0&refId=o00UzMy2f5VaqxzQQbQ2bw%3D%3D&trackingId=d%2Fbc9rwyKIcelSJP2KU72w%3D%3D"
        ],
        [
         "11",
         "Content Creator",
         "Ogilvy",
         "Jakarta, Jakarta, Indonesia",
         " Indonesia",
         "Creative mindset with a passion for developing innovative and visually appealing content.",
         "1-3 years of experience in content creation, preferably within a digital agency setting, with a focus on the beauty category. | Demonstrated ability to conceptualize, execute (shoot and produce), and edit engaging content specifically for TikTok. | Strong understanding of TikTok trends, features, and best practices for maximizing reach and engagement. | Proficiency in video editing software and mobile editing apps relevant to TikTok content creation. | Knowledge of beauty trends, products, and terminology. | Conceptualizing, shooting, and editing TikTok-first video content that aligns with brand guidelines and campaign objectives. | Staying up-to-date on the latest TikTok trends, challenges, and features to inform content creation. | Collaborating with creative and social media teams to ensure content strategy alignment. | Analyzing content performance and identifying opportunities for improvement. | Adapting TikTok content for other social media platforms as needed. | TikTok Content Creation | Video Shooting & Editing | Trend Awareness",
         "https://id.linkedin.com/jobs/view/content-creator-at-ogilvy-4111940438?position=4&pageNum=0&refId=VKIqf1at6%2FM70sO9DWcPXg%3D%3D&trackingId=hjDzn7OwYL1gsOvXReCZ6A%3D%3D"
        ],
        [
         "12",
         "Digital Art Tutor",
         "Kodland",
         "Indonesia",
         "Indonesia",
         "Not Found",
         "Memberikan kelas yang menyenangkan dan menarik berdasarkan script dan materi yang disediakan | Meningkatkan keterampilan mengajar dengan bantuan mentor berpengalaman Kodland | Mengkomunikasikan feedback apa pun mengenai pelajaran dan konten dengan tim | Memberikan laporan rutin dan terperinci tentang kemajuan siswa dan meningkatkan pengalaman belajar serta keterlibatan anak dalam kelas | Menjadi perwakilan Kodland yang positif, berpengaruh, dan ramah | Menerapkan ide-ide kreatif untuk mendukung siswa | Tim muda, suportif, dan ramah | Script dan konten untuk semua pelajaran | Komitmen untuk pengembangan diri Anda secara Anda melalui pelatihan reguler | Diskon teman dan keluarga untuk semua kursus kami | Anda dapat bekerja pada akhir pekan dan/atau hari kerja siang dan malam hari | Anda dapat bekerja secara mandiri | Anda tidak memiliki catatan kriminal dan tidak dilarang bekerja dengan anak-anak | Anda memiliki keterampilan interpersonal yang hebat | Anda sabar dengan sikap yang menyenangkan, dapat diandalkan, mudah didekati, dan sopan | Anda tepat waktu, pandai mengatur waktu dan manajemen waktu | Anda senang berinteraksi dengan anak kecil dan anggota tim | Mengikuti tujuan dan panduan yang ditetapkan | Memberikan bantuan dan pendampingan kepada anak-anak | Bekerja untuk meningkatkan keterampilan mengajar Anda berdasarkan feedback | Pengucapan dan artikulasi saat Anda berbicara jelas dan mudah dipahami dan diikuti oleh anak-anak",
         "https://id.linkedin.com/jobs/view/digital-art-tutor-at-kodland-4228149383?position=42&pageNum=0&refId=777F2uRteXMdhl0di4EnGQ%3D%3D&trackingId=UQP10Nkn0EsH05fNf2w0SA%3D%3D"
        ],
        [
         "13",
         "Assistant Landscape Manager - Engineering - Jumeirah Bali (National Talent)",
         "Jumeirah",
         "Bali, Indonesia",
         " Indonesia",
         "Assist in planning and implementing daily, weekly, and seasonal landscaping tasks | Monitor the health and aesthetics of plants, trees, lawns, and other green spaces | Oversee pest control measures, including managing weeds, insects, and plant diseases. | Monitor and manage the inventory of plants, tools, equipment, and materials | Strong knowledge of plant care, irrigation systems, and landscaping tools",
         "Ensure irrigation systems are functioning correctly and make necessary adjustments or repairs | Propose innovative ideas to enhance the beauty and functionality of the property’s landscapes | At least 2-3 years of experience in landscaping or grounds management, with supervisory experience preferred | Familiarity with pest control, fertilization, and sustainable landscaping practice | Excellent leadership and communication skills | Strong organizational skills and attention to detail",
         "https://id.linkedin.com/jobs/view/assistant-landscape-manager-engineering-jumeirah-bali-national-talent-at-jumeirah-4229066473?position=24&pageNum=0&refId=%2BcY2DJWACojBkgN24erDjA%3D%3D&trackingId=ywWhUzPcjtiF%2FqFURxzubw%3D%3D"
        ],
        [
         "14",
         "QA Analyst (Manual)",
         "Sysmex Asia Pacific",
         "Jakarta, Jakarta, Indonesia",
         " Indonesia",
         "Not Found",
         "Bachelor Degree of Mathematics, Pharmacy, Biotechnology, Public Health or related major with GPA min. 3.00 | Have strong analytical thinking and problem solving skills | Familiarity with ISO 9001, ISO 15189, and other relevant industry standards is a plus | Attention to detail, mature resourceful, self-motivated, and result-oriented | Having experience as a Medical Laboratory Analyst is more preferable",
         "https://id.linkedin.com/jobs/view/quality-staff-at-sysmex-asia-pacific-4221234078?position=29&pageNum=0&refId=3%2BFsVYLIaEVWg476sok7iA%3D%3D&trackingId=8HM9gkFUXaUM3vWp%2BSlXEg%3D%3D"
        ],
        [
         "15",
         "QA Engineer (ShopeePay) - Sea Labs",
         "Sea",
         "Jakarta, Indonesia",
         " Indonesia",
         "Be involved in whole development life cycle and technical design review | Test case design and planning | Development and maintenance of testing tools, automation of testing tools and scripts | Strong sense of responsibility and teamwork. Proactively analyze problems and develop countermeasures to address issues faced.",
         "Functional testing via grey-box and white-box methodologies | Perform API interface testing, and API automation testing | Performance, security, and integration testing for system, module, API, and other tools | Bug analysis and tracking | Setting up and maintenance of testing environment | Continuous improvement and research of testing process, skills, techniques, quality, and efficiency | Bachelor's degree or above in Computer Science or other related disciplines | More than 3 years of QA experience | Master at least one programming language, prefer golang and python | Master on popular test tools such as postman, applium, lucust,charles etc | Strong technical skills and the ability to drive and complete testing of complex systems independently | Excellent logical and analytical thinking abilities to solve various technical problems.",
         "https://id.linkedin.com/jobs/view/qa-engineer-shopeepay-sea-labs-at-sea-3806667811?position=7&pageNum=0&refId=cRBV9pmadiCQx6y1WvwqPQ%3D%3D&trackingId=O7b7%2BMRa39KpcnNo4eJ%2BZg%3D%3D"
        ],
        [
         "16",
         "Quality Assurance (QA) Tester",
         "PT. Mandiri International Technology",
         "Jakarta, Jakarta, Indonesia",
         " Indonesia",
         "Melaporkan atas permasalahan dan defect yang terjadi dan melakukan input data ke tools defect management yang tersedia",
         "Melakukan pemahaman atas aplikasi yang akan dilakukan pengujian | Melakukan eksekusi Test Script/Test Case yang diterima | Membuat laporan hasil pengujian | Fresh Graduate diperbolehkan melamar, lebih diutamakan yang memiliki Pengalaman Kerja minimal 1 tahun | Memiliki kemampuan menggunakan MS. Office (Word, Excel, Power Point) | Memiliki pemahaman mengenai SDLC dan software testing | Dapat bekerja secara individu dan team | Mampu bekerja memenuhi target timeline testing | Siap bekerja dibawah tekanan | Bersedia ditempatkan dimana saja | Diharapkan sudah bisa melakukan fungsi QA dan bisnis prosesnya termasuk mampu membuat test script.",
         "https://id.linkedin.com/jobs/view/quality-assurance-qa-tester-at-pt-mandiri-international-technology-3971400466?position=17&pageNum=0&refId=0wn1tOHiKw8hFfeF%2Bl0Rfg%3D%3D&trackingId=4WujiFSqySfjhZ%2BmJn9Rvw%3D%3D"
        ],
        [
         "17",
         "Digital Art Tutor",
         "Kodland",
         "Indonesia",
         "Indonesia",
         "Not Found",
         "Memberikan kelas yang menyenangkan dan menarik berdasarkan script dan materi yang disediakan | Meningkatkan keterampilan mengajar dengan bantuan mentor berpengalaman Kodland | Mengkomunikasikan feedback apa pun mengenai pelajaran dan konten dengan tim | Memberikan laporan rutin dan terperinci tentang kemajuan siswa dan meningkatkan pengalaman belajar serta keterlibatan anak dalam kelas | Menjadi perwakilan Kodland yang positif, berpengaruh, dan ramah | Menerapkan ide-ide kreatif untuk mendukung siswa | Tim muda, suportif, dan ramah | Script dan konten untuk semua pelajaran | Komitmen untuk pengembangan diri Anda secara Anda melalui pelatihan reguler | Diskon teman dan keluarga untuk semua kursus kami | Anda dapat bekerja pada akhir pekan dan/atau hari kerja siang dan malam hari | Anda dapat bekerja secara mandiri | Anda tidak memiliki catatan kriminal dan tidak dilarang bekerja dengan anak-anak | Anda memiliki keterampilan interpersonal yang hebat | Anda sabar dengan sikap yang menyenangkan, dapat diandalkan, mudah didekati, dan sopan | Anda tepat waktu, pandai mengatur waktu dan manajemen waktu | Anda senang berinteraksi dengan anak kecil dan anggota tim | Mengikuti tujuan dan panduan yang ditetapkan | Memberikan bantuan dan pendampingan kepada anak-anak | Bekerja untuk meningkatkan keterampilan mengajar Anda berdasarkan feedback | Pengucapan dan artikulasi saat Anda berbicara jelas dan mudah dipahami dan diikuti oleh anak-anak",
         "https://id.linkedin.com/jobs/view/digital-art-tutor-at-kodland-4228149383?position=41&pageNum=0&refId=VKIqf1at6%2FM70sO9DWcPXg%3D%3D&trackingId=hB6%2Fxs1qqAwAoxTfih4EcA%3D%3D"
        ],
        [
         "18",
         "Sales Representative",
         "PT. Catur Aditya Sentosa",
         "Cakung, Jakarta, Indonesia",
         " Indonesia",
         "Menjalankan dan mengembangkan route visit plan (by system).",
         "Bertanggung jawab atas target bulanan yang ditentukan. | Mampu mempertahankan standar layanan terhadap pelanggan. | Membuat laporan penjualan harian ke atasan. | Monitoring orderan, Pengiriman & Retur barang, serta Pembayaran Tagihan. | Selalu belajar terkait pengetahuan produk. | Pendidikan minimal SMA/SMK/D3/S1, dengan usia maksimal 30th. | Sudah memiliki pengalaman minimal 1 tahun (dibidang Sales / Retail Bahan Bangunan) | Memiliki kendaraan & SIM serta memahami jalan di covered area (Jakarta Timur dan Sekitarnya) | Kemampuan presentasi dan komunikasi yang baik penuh semangat | Beretika dan memiliki integritas yang tinggi | Memahami modern outlet (MTO) | Hari kerja dari Senin - Sabtu | Gaji Pokok | Insetif | Uang Sewa Motor/Bensin | BPJS Kesehatan | BPJS Ketenagakerjaan",
         "https://id.linkedin.com/jobs/view/sales-representative-at-pt-catur-aditya-sentosa-4218183003?position=12&pageNum=0&refId=9KDoAz%2BKzotDJXYaDXvrjA%3D%3D&trackingId=2zEmXripBZfK%2B58c6lrynw%3D%3D"
        ],
        [
         "19",
         "TAF - IT Security Analyst",
         "PT Astra International Tbk",
         "Jakarta, Jakarta, Indonesia",
         " Indonesia",
         "Not Found",
         "Memanfaatkan kombinasi teknologi keamanan terdepan dan teknologi terbuka untuk mengidentifikasi, mengklasifikasikan, dan memberikan respons tingkat pertama terhadap ancaman keamanan yang muncul untuk meminimalkan dampaknya terhadap sistem kami | Usulkan mitigasi atau solusi yang layak untuk ancaman keamanan | Merencanakan, menerapkan, dan meningkatkan langkah-langkah dan kontrol keamanan | Melakukan pengujian kerentanan, analisis risiko, dan penilaian keamanan, serta awasi temuan kemanan dan tindak lanjuti penyelesaiannya | Menetapkan dan terus meningkatkan metodologi, proses, dan alat praktik terbaik analisis sistem keamanan | Bertanggung jawab atas kesadaran keamanan & praktik pengkodean yang aman | Meninjau dan mendukung dokumentasi (seperti desain perangkat lunak dan sistem, rencana pengujian, manual pengoperasian), mengevaluasi, merancang dan membuat prototipe arsitektur dan kerangka aplikasi yang terkait dengan solusi keamanan | Lulusan S1 dari Ilmu Komputer/Teknologi Informatika/Sistem Informasi atau yang setara | Memiliki pengalaman min. 3 tahun dalam bidang terkait | Memiliki pengalaman dalam SIEM / SOC | Memiliki pemahaman yang baik tentang desain sistem/solusi dan keterampilan untuk mengusulkan beberapa alternatif dalam memecahkan suatu masalah | Memiliki pengetahuan analitis yang baik tentang jaringan, keamanan aplikasi, dan peristiwa/log keamanan | Berorientasi pada detail dan memiliki kemampuan analitis dan pemecahan masalah yang baik | Cepat belajar dan bersemangat belajar, serta unggul dalam kemampuan komunikasi | Mampu bekerja mandiri dengan pengawasan minimal",
         "https://id.linkedin.com/jobs/view/taf-it-security-analyst-at-pt-astra-international-tbk-4234079479?position=24&pageNum=0&refId=TmaXQKx2rlv8WE6yWHg02w%3D%3D&trackingId=tsdvwONn5%2B4g5J7rHVWzOg%3D%3D"
        ],
        [
         "20",
         "QA Engineer",
         "Weshine",
         "Jakarta, Jakarta, Indonesia",
         " Indonesia",
         "Design and implement automation scripts to improve testing efficiency. | Assist the development team in analyzing the root causes of issues and track defects to ensure resolution. | Write test reports, test plans, and other documentation to ensure transparency and traceability.",
         "Manual Testing: | Design, execute, and maintain test cases to ensure product functionality meets requirements. | Perform functional testing, regression testing, exploratory testing, and other manual testing activities, identifying and reporting defects. | Use automation tools for test execution and result analysis, ensuring test coverage and quality. | Ensure testing processes and results meet company processes and quality standards. | Collaborate with development, product, and other relevant departments, participating in requirement analysis and design discussions. | Provide improvement suggestions to optimize product quality and user experience. | Actively share testing experiences. | Bachelor’s degree, preferably in related engineering or sustainability studies | At least 1 year of software testing experience. | Ability to communicate in Chinese would be a plus | Familiar with testing processes and quality assurance methods, with expertise in manual testing techniques. | Familiar with at least one automation testing tool (e.g., Selenium, Playwright, Postman) is preferred. | Strong analytical and problem-solving skills, attention to detail, and a strong sense of responsibility. | Good communication skills, with the ability to effectively coordinate cross-team collaboration. | Value teamwork above all. | Natural curiosity to learn. | Loves to work with code. | Intrinsically motivated personality. | High adaptability and strong problem-solving skills. | Customer focused mindset. | Self-starter who thrives on complexity and independence.",
         "https://id.linkedin.com/jobs/view/qa-engineer-at-weshine-4182544209?position=30&pageNum=0&refId=cRBV9pmadiCQx6y1WvwqPQ%3D%3D&trackingId=ARKlpo8QFK3pR8gDU3gigA%3D%3D"
        ],
        [
         "21",
         "Inventory Senior Associate",
         "FLEN MUSO",
         "Indonesia",
         "Indonesia",
         "Develop creative and trend-forward designs that align with our brand identity. | Communicate design specifications and expectations clearly with vendors to ensure quality and timely delivery. | Bachelor's degree in Fashion Design or a related field. | Ability to lead and manage an in-house sample room effectively. | Great time management, flexible and attention to detail",
         "Research market trends, materials, and techniques to innovate and enhance our product line. | Create technical sketches, patterns, and tech packs for production. | Oversee our in-house sample room to ensure high-quality sampling and production processes. | Conduct quality checks and provide constructive feedback during sampling and production phases. | Proven experience in fashion design, pattern making, and garment construction (portfolio required) | Strong knowledge of pattern making for both womenswear and menswear. | Exceptional attention to detail and organizational skills. | Excellent communication and negotiation skills to liaise with vendors and team members. | Proficiency in design software (Adobe Illustrator, Photoshop, or similar) as well as basic Excel skills | Experience working with in-house sample rooms or managing small-scale production teams. | Ability to thrive in a fast-paced and dynamic work environment.",
         "https://id.linkedin.com/jobs/view/head-of-women-fashion-at-flen-muso-4226983049?position=27&pageNum=0&refId=ruz19DQc23agxeVrsjSLTQ%3D%3D&trackingId=55fjNxm3%2F813crLLET3m6A%3D%3D"
        ],
        [
         "22",
         "Sales Officer Cirebon",
         "PT TOYOTA ASTRA FINANCIAL SERVICES",
         "Cirebon, West Java, Indonesia",
         " Indonesia",
         "Memonitor pembiayaan selama 5 angsuran pertama dan bekerjasama dengan fungsi AR management dalam menyelesaikan account F5PD untuk memastikan agar pelanggan yang telah jatuh tempo memenuhi kewajibannya",
         "Membuat simulasi kredit dan melakukan negosiasi, baik dengan dealer maupun calon pelangan, untuk mendapatkan aplikasi pembiayaan pelanggan | Melengkapi data aplikasi pembiayaan dan dokumen pendukungnya, termasuk melakukan konfirmasi melalui telepon, proses data entry, inisiasi, dan scan dokumen ke docushare untuk menunjang proses analisa kredit yang cepat dan akurat | Memonitor status aplikasi pembiayaan untuk memastikan proses persetujuan kredit mencapai target SLA yang ditetapkan | Menginformasikan hasil keputusan kredit kepada pihak-pihak terkait untuk memastikan informasi keputusan kredit diterima secara benar | Mencetak dokumen kontrak, menjelaskan isi kontrak kepada pelanggan dan meminta tanda tangan dokumen kontrak ke pelanggan dan dealer untuk memastikan kesesuaian dengan prosedur | Mengarahkan dan memberikan penjelasan cara pembayaran angsuran kepada pelanggan untuk meastikan cara bayara yang efektif dan efisien | Menindaklanjuti dokumen kelengkapan kendaraan dan dokumen tagihan dari dealer untuk memastikan kelancaran proses pembayaran kendaraan ke dealer (disburse) | Memonitor status aplikasi backlog untuk mencapai target penjualan yang ditetapkan | Menjalankan aktivitas penunjang penjualan (mendukung pameran, show room event, dll) untuk meningkatkan pencapaian sales target | Membina hubungan baik dengan dealer untuk meningkatkan pencapaian sales target | Memonitor produktivitas, kualitas proses dan hasil proses sales untuk mencapai target performance yang ditetapkan | Memberikan pelayanan kepada pelanggan dan/atau rekan kerja sesuai dengan standar service perusahaan sebagai bagian dari pekerjaan untuk mendukung terciptanya budaya service perusahaan | Minimal pendidikan D3, semua jurusan | IPK minimal 3.00 | Memiliki SIM C/A dan kendaraan | Penempatan di Cirebon",
         "https://id.linkedin.com/jobs/view/sales-officer-cirebon-at-pt-toyota-astra-financial-services-4061310593?position=19&pageNum=0&refId=bJugZDiqyXnhkarDVHUURg%3D%3D&trackingId=qNm2B0U6%2F9gOfO1yQBTZng%3D%3D"
        ],
        [
         "23",
         "Quality Assurance Staff",
         "PT Indofood CBP Sukses Makmur Tbk - Noodle Division",
         "Cilamaya Wetan, West Java, Indonesia",
         " Indonesia",
         "Not Found",
         "Memahami FSMS, HACCP & Halal | Memiliki pengetahuan dalam pengolahan pangan | Mampu menjalin komunikasi yang baik dengan pihak internal maupun external | Memiliki skills komputer & pengolahan data | Memiliki pengalaman kerja di bidang terkait | Melakukan analisa sample RM/FG ke lab external | Mengikuti trial masak/packing & administrasinya | Melakukan uji transportasi produk hasil trial | Melakukan analisa sample baru PM | Melakukan evaluasi kinerja Lab external (6 bulanan)",
         "https://id.linkedin.com/jobs/view/quality-assurance-staff-at-pt-indofood-cbp-sukses-makmur-tbk-noodle-division-4233983384?position=31&pageNum=0&refId=PRiRe76wt0JkjVGUOJgpdw%3D%3D&trackingId=QW6NqbXFfi5sEHv2VPIQ9w%3D%3D"
        ],
        [
         "24",
         "Penulis Lepas Bahasa Indonesia",
         "Outlier",
         "Indonesia",
         "Indonesia",
         "Not Found",
         "Membaca teks berbahasa Indonesia untuk memberi peringkat pada serangkaian respons yang dihasilkan oleh model AI | Menulis cerita pendek dalam bahasa Indonesia tentang topik tertentu | Menilai apakah teks berbahasa Indonesia yang dihasilkan oleh model AI akurat secara fakta | Pengalaman sebagai penerjemah profesional | Pengalaman menulis profesional (penulis iklan, jurnalis, penulis teknis, editor, dll.) | Sedang atau telah menyelesaikan program sarjana di bidang humaniora atau bidang yang terkait dengan menulis | Sedang atau telah menyelesaikan program pascasarjana yang terkait dengan penulisan kreatif",
         "https://id.linkedin.com/jobs/view/penulis-lepas-bahasa-indonesia-at-outlier-4219587624?position=2&pageNum=0&refId=woOVK0Aes32k2V2jp8zZbw%3D%3D&trackingId=P5E5OKzRg%2BFBLXws4saBGQ%3D%3D"
        ],
        [
         "25",
         "Lead Software Engineer (RoR Fullstack Engineer)- Bali, Indonesia",
         "Agnos Inc.",
         "Bali, Indonesia",
         " Indonesia",
         "We work with our clients to revolutionize their industry through engineering, innovation, and design while also advocating for a positive social impact. We are a dynamic, performance-driven, and growth-oriented organization, seeking to attract and retain the industry’s best talent. | Share software development best practices with the team and mentor junior engineers | Share software development best practices with the team and mentor junior engineers. | Leveraging agile practices, encourage collaboration, prioritization, and urgency to develop at a rapid pace. | Bring out-of-the box ideas to improve system performance and stability and collaborate on architectural design decisions. | You are comfortable leading and / or managing teams of remote developers. | You have a deep understanding of object-oriented or functional programming design paradigms. | You have a formal design knowledge and are aware of design principles like SOLID, agile principles like YAGNI, etc, | Quickly able to think of different approaches that can be taken during schema design and also provide the pros and cons of each. | You have proficiency developing and deploying for cloud platforms like AWS",
         "Our current client is focused on transforming the healthcare experience with the industry’s most modern, flexible, and powerful cloud-based platform to help providers maximize the efficiency and effectiveness of their practices while connecting and collaborating directly with patients in support of better care. This platform serves ambulatory medical practices of all sizes. | Implement real-time, high-performance web applications for desktop and mobile | Architect elegant, maintainable, testable solutions to complex technical problems | Integrate with third-party platforms and services to pull in auxiliary content, services, and data | Tackle performance bottlenecks and drive improvements to our backend infrastructure | Implement real-time, high-performance web applications for desktop and mobile. | Architect elegant, maintainable, testable solutions to complex technical problems. | Integrate with third-party platforms and services to pull in auxiliary content, services, and data. | Tackle performance bottlenecks and drive improvements to the backend and frontend infrastructure. | Play an important role in supporting medical providers with technology, services, and solutions that enhance the care experience. | Learn emerging technologies and offer technical direction and creative solutions to business problems. | Become a part of a multi-cultural team of over 3000 employees | Build highly interactive web-based application UIs that can scale with application complexity. | Work independently and collaboratively with a blended team of onshore and offshore engineers to well-structured, reliable, efficient and easily maintainable code. | Gain a deep understanding of the product and business goals which you can translate into technology decisions. | Perform code reviews and use continuous integration to deliver high-quality software. | Identify gaps or deficiencies in the existing product or processes and advocate for the necessary changes to address them. | Learn and master new and emerging technologies and take initiative to offer technical direction and creative solutions to business problems | Work to ensure that the system meets client’s quality, security, scalability, and performance standards. | 7+ years of full stack experience developing performant, scalable, web-based applications, preferably in a SaaS environment, in Ruby on Rails and React. | You have delivered and supported commercial, enterprise software. | You have extensive full stack development experience and have proficiency in a modern programming language (e.g. Ruby, Java, Typescript). | You are goal-oriented, self-motivated and able to be successful in a schedule-driven, fast-paced, dynamic environment. | You possess excellent written/verbal communication and presentation skills | You're a tinkerer at heart with an innate ability to solve tough programming problems. | You have strong practical experience building RESTful microservices, event-based distributed systems. | You have a good understanding of the system architecture, and time-complexity trade-offs | You are responsible for production services and mentor others in scalable aspects of Cloud services | You have a passion to Innovate and grow. | You have significant Experience troubleshooting multi-tiered systems | You are well versed in best practices of growing a code base, Competent in REST, and Write performant SQL. | Deep understanding of infrastructure architecture and how to troubleshoot microservices in production services | You are excellent at troubleshooting multi-tiered systems and have worked with observability tools | You proactively ask questions for clarification and possess good coding standards. | You are highly proficient in written and spoken English. | Languages: Ruby, JavaScript / Typescript / ActionScript | Frameworks: Ruby On Rails, Sinatra, Adobe Flex, ExpressJS, ReactJS | Data: PostgreSQL, DynamoDB, Redis, MongoDB, Solr, Elastic Search | Cloud Providers: Amazon Web Services, Google Cloud Platform | Additional Technologies: Kafka, NewRelic, Datadog, Docker, Kubernetes, Git, GitHub, Atlassian | We are obsessed with always paying the best salaries (or hourly rates) in the industry to our teammates as we are obsessed with the happiness of the people we work with as much as we are our client's happiness and everyone's success. | We strongly believe in extending appreciation to our valuable employees via Profit-sharing, Performance bonus, or Commission and equity. | Location: Remote, Ability to work from anywhere in the world from the comfort of your home. | Bachelor's degree in Computer Science or related field (or equivalent experience). | Prior experience working in the healthcare industry is an added advantage.",
         "https://id.linkedin.com/jobs/view/lead-software-engineer-ror-fullstack-engineer-jakarta-indonesia-at-agnos-inc-4214011288?position=51&pageNum=0&refId=ZrraVb83MgBJgTFbPKwlBQ%3D%3D&trackingId=v6e1rpM9qSIpsBBKTzoN8Q%3D%3D"
        ],
        [
         "26",
         "Videografer/Editor",
         "MarKa Digital",
         "Cakung, Jakarta, Indonesia",
         " Indonesia",
         "Not Found",
         "Merencanakan, merekam, dan mengedit video TikTok setiap hari. | Berkolaborasi dengan tim konten untuk membuat storyboard dan konsep video. | Mengimplementasikan tren, efek, suara, dan transisi sesuai dengan praktik terbaik TikTok. | Mengoptimalkan struktur video dan hook untuk memaksimalkan durasi tonton, keterlibatan, dan kemungkinan dibagikan. | Menjaga konsistensi tampilan brand di semua konten video. | Menganalisis metrik performa video dan cepat berinovasi untuk hasil yang lebih baik. | Memastikan waktu penyelesaian konten yang cepat (dalam 24-48 jam setelah rekaman). | Pengalaman yang terbukti dalam membuat video TikTok yang menarik dan viral (sertakan portofolio atau tautan). | Pemahaman mendalam tentang tren TikTok, gaya editing, dan budaya platform. | Kemampuan merekam dan mengedit menggunakan perangkat mobile dan/atau profesional. | Mahir dalam perangkat lunak pengeditan video (CapCut, Adobe Premiere, Final Cut Pro, dll.). | Keterampilan bercerita visual dan penyesuaian ritme video yang sangat baik. | Mampu bekerja secara efisien di lingkungan yang cepat dan volume tinggi. | Pengalaman dalam konten skincare, kecantikan, atau perawatan pribadi sangat diutamakan. | Keterampilan komunikasi dan kolaborasi yang kuat. | Kreatif, detail, dan mampu bekerja secara mandiri. | Konsistensi dalam menyajikan konten video berkualitas tinggi dan sesuai brand guideline. | Peningkatan metrik performa TikTok (penonton, share, engagement). | Kemampuan untuk menyesuaikan konten dengan cepat berdasarkan feedback dan tren platform.",
         "https://id.linkedin.com/jobs/view/videografer-editor-at-marka-digital-4213567945?position=25&pageNum=0&refId=UgZl2IdnhQDmNO8t26mloA%3D%3D&trackingId=%2BA26MJM6N0TFNK41QIWsbg%3D%3D"
        ],
        [
         "27",
         "Arabic (Saudi) AI Training",
         "Outlier",
         "Indonesia",
         "Indonesia",
         "Not Found",
         "Outlier is looking for talented writers with fluency in Arabic (Saudi) to help train generative artificial intelligence models | This freelance opportunity is remote and hours are flexible, so you can work whenever is best for you | Reading Arabic (Saudi) text in order to rank a series of responses that were produced by an AI model | Writing a short story in Arabic (Saudi) about a given topic | Assessing whether a piece of Arabic (Saudi) text produced by an AI model is factually accurate | Experience as a professional translator | Professional writing experience (copywriter, journalist, technical writer, editor, etc.) | Enrollment in or completion of an undergraduate program in a humanities field or field related to writing | Enrollment in or completion of a graduate program related to creative writing | Currently, pay rates for core project work by Arabic (Saudi) writing experts average USD $12.5 per hour | Rates vary based on expertise, skills assessment, location, project need, and other factors. For example, higher rates may be offered to PhDs. For non-core work, such as during initial project onboarding or project overtime phases, lower rates may apply. Certain projects offer incentive payments. Please review the payment terms for each project.",
         "https://id.linkedin.com/jobs/view/arabic-saudi-ai-training-at-outlier-4220202707?position=49&pageNum=0&refId=ZDPGvXWxHzxPcO5dTHFx0w%3D%3D&trackingId=arp%2BF%2BDOWc%2BGzqdTBCwLgQ%3D%3D"
        ],
        [
         "28",
         "APAC Graduate Program-Leadership Experience and Accelerated Development (LEAD)  - OPERATIONS",
         "My Zahir",
         "Kecamatan Bekasi Utara, West Java, Indonesia",
         " Indonesia",
         "Support religious development | Support employee development program",
         "Memiliki mindset untuk terus belajar | Up to date trend fashion muslim | Ikut serta terlibat dalam proses end to end riset hingga eksekusi pembuatan produk fashion muslim | Terbuka untuk mahasiswa semester akhir & fresh graduate | Pendidikan SMK/D4/S1 Tata Busana/sejenis | Memiliki keinginan yang kuat untuk mengembangkan diri di dunia fashion, khususnya fashion muslim | Up to date trend fashion | Disiplin dan memiliki manajemen waktu yang baik | Proaktif, komunikatif, & inisiatif | Bersedia melakukan internship selama 3 bulan dari kantor My Zahir (Ketintang, Surabaya)",
         "https://id.linkedin.com/jobs/view/fashion-designer-unpaid-internship-at-my-zahir-4205034709?position=60&pageNum=0&refId=472psk1mCs9vnyS5%2Fn35qg%3D%3D&trackingId=RqhJX4lsX4hLRm8jjFEEMQ%3D%3D"
        ],
        [
         "29",
         "Senior Software Engineer 1 - Fullstack",
         "Mekari",
         "Jakarta, Jakarta, Indonesia",
         " Indonesia",
         "Develop front-end & back-end components on the product or service that will impact thousands of businesses and millions of users. | Work closely with Product Manager and other business stakeholders to develop solutions that delight our customers | Work with Technical Program Manager to run development lifecycle (concept, design, test, release, support) | Good understanding of modern software engineering practices such as TDD, continuous integration, code review, and microservices design patterns | Familiarity with software development methodologies and frameworks such as Agile or Scrum",
         "Work closely with DevOps to maintain the application in our infrastructure. | Manage knowledge within the team in the form of written documentation surrounding technical requirements, deployments, and post-mortems. | Minimum 4 year software engineering experience in a team setting. | Strong knowledge and experience both in modern front-end frameworks (Vue.js, React.js, etc) and back-end frameworks (Ruby on Rails, Laravel, etc) | Good knowledge and experience in scalable and high performance system especially in containers and container orchestration (i.e Kubernetes/Docker Swarm) | Have experience for active and direct collaboration with product team related technical development for projects/services/features. | Excellent communication skills, written and verbal, with a focus on collaboration, understanding, and information sharing between team members and stakeholders | Competitive salary + daily allowance. | Premium private health insurance (outpatient, inpatient, maternity, dental). | Early access to salary + flex installment (employee loan) via Mekari Flex. | Allowance for sports activities and glasses/contact lenses. | Flexible working hours and remote work culture with free co-working space services. | Annual and unpaid leaves from day 1 of join date + unlimited sick leave with doctor note. | Notebook Ownership Program. | Strategic office location, accessible by MRT. | Friendly and dynamic work environment. | Opportunity to take part in growing Indonesia's no. 1 SaaS company",
         "https://id.linkedin.com/jobs/view/senior-software-engineer-1-fullstack-at-mekari-4199450170?position=40&pageNum=0&refId=V5pthpj15mtUVUCao%2BvbNg%3D%3D&trackingId=fcNLLdDQUS1eLdtF2BZMNg%3D%3D"
        ],
        [
         "30",
         "Local Key Account Manager",
         "Coca-Cola Europacific Partners",
         "South Jakarta, Jakarta, Indonesia",
         " Indonesia",
         "Responsible for account development also overall management process, including Establish and manage business partnership and Negotiate with respective account to achieve best possible implementation of company’s excellent market execution | Lead negotiation process with account (Local) including Trading Term agreement process and other negotiation process (Business Plan) | Responsible in aligning forecast with local account actual condition & develop action plan to achieve forecast. | Align with internal team (Sales GT, Sales MT, Commercial Development, CSSC & Finance) to build sustainable business process to serving the customers | Optimize Company’s program implementation in respective account as per plan and proposing investment recommendation (pricing strategies, asset, promo, display, program, etc) for respective account | People Management | Commercial Development",
         "Monitor and review existing account performance in regular basis to Evaluate existing account performance and ensure its compliance with agreed contract | Good networking in targeted channel | Advanced negotiation and influencing skill (both Internal and External) | Understanding trend on Local Key Account market | Data Analytical and Strategic Thinking | Internal | Sales Modern Trade | Field Sales | Commercial Finance | Supply Chain | External | Account Partner | Min. 3-5 years working experience in sales / account management Expertise in account management (know local foodstore Account will be advantage) | High mobilization | Highly Discipline and Eager to Achieve | Able to perform English conversation",
         "https://id.linkedin.com/jobs/view/local-key-account-manager-at-coca-cola-europacific-partners-4215388596?position=3&pageNum=0&refId=9KDoAz%2BKzotDJXYaDXvrjA%3D%3D&trackingId=uJ9zZwqlQaLpf9HufuYfGA%3D%3D"
        ],
        [
         "31",
         "Lead Software Engineer (RoR Fullstack Engineer)- Jakarta, Indonesia",
         "Agnos Inc.",
         "Jakarta, Jakarta, Indonesia",
         " Indonesia",
         "We work with our clients to revolutionize their industry through engineering, innovation, and design while also advocating for a positive social impact. We are a dynamic, performance-driven, and growth-oriented organization, seeking to attract and retain the industry’s best talent. | Share software development best practices with the team and mentor junior engineers | Share software development best practices with the team and mentor junior engineers. | Leveraging agile practices, encourage collaboration, prioritization, and urgency to develop at a rapid pace. | Bring out-of-the box ideas to improve system performance and stability and collaborate on architectural design decisions. | You are comfortable leading and / or managing teams of remote developers. | You have a deep understanding of object-oriented or functional programming design paradigms. | You have a formal design knowledge and are aware of design principles like SOLID, agile principles like YAGNI, etc, | Quickly able to think of different approaches that can be taken during schema design and also provide the pros and cons of each. | You have proficiency developing and deploying for cloud platforms like AWS",
         "Our current client is focused on transforming the healthcare experience with the industry’s most modern, flexible, and powerful cloud-based platform to help providers maximize the efficiency and effectiveness of their practices while connecting and collaborating directly with patients in support of better care. This platform serves ambulatory medical practices of all sizes. | Implement real-time, high-performance web applications for desktop and mobile | Architect elegant, maintainable, testable solutions to complex technical problems | Integrate with third-party platforms and services to pull in auxiliary content, services, and data | Tackle performance bottlenecks and drive improvements to our backend infrastructure | Implement real-time, high-performance web applications for desktop and mobile. | Architect elegant, maintainable, testable solutions to complex technical problems. | Integrate with third-party platforms and services to pull in auxiliary content, services, and data. | Tackle performance bottlenecks and drive improvements to the backend and frontend infrastructure. | Play an important role in supporting medical providers with technology, services, and solutions that enhance the care experience. | Learn emerging technologies and offer technical direction and creative solutions to business problems. | Become a part of a multi-cultural team of over 3000 employees | Build highly interactive web-based application UIs that can scale with application complexity. | Work independently and collaboratively with a blended team of onshore and offshore engineers to well-structured, reliable, efficient and easily maintainable code. | Gain a deep understanding of the product and business goals which you can translate into technology decisions. | Perform code reviews and use continuous integration to deliver high-quality software. | Identify gaps or deficiencies in the existing product or processes and advocate for the necessary changes to address them. | Learn and master new and emerging technologies and take initiative to offer technical direction and creative solutions to business problems | Work to ensure that the system meets client’s quality, security, scalability, and performance standards. | 7+ years of full stack experience developing performant, scalable, web-based applications, preferably in a SaaS environment, in Ruby on Rails and React. | You have delivered and supported commercial, enterprise software. | You have extensive full stack development experience and have proficiency in a modern programming language (e.g. Ruby, Java, Typescript). | You are goal-oriented, self-motivated and able to be successful in a schedule-driven, fast-paced, dynamic environment. | You possess excellent written/verbal communication and presentation skills | You're a tinkerer at heart with an innate ability to solve tough programming problems. | You have strong practical experience building RESTful microservices, event-based distributed systems. | You have a good understanding of the system architecture, and time-complexity trade-offs | You are responsible for production services and mentor others in scalable aspects of Cloud services | You have a passion to Innovate and grow. | You have significant Experience troubleshooting multi-tiered systems | You are well versed in best practices of growing a code base, Competent in REST, and Write performant SQL. | Deep understanding of infrastructure architecture and how to troubleshoot microservices in production services | You are excellent at troubleshooting multi-tiered systems and have worked with observability tools | You proactively ask questions for clarification and possess good coding standards. | You are highly proficient in written and spoken English. | Languages: Ruby, JavaScript / Typescript / ActionScript | Frameworks: Ruby On Rails, Sinatra, Adobe Flex, ExpressJS, ReactJS | Data: PostgreSQL, DynamoDB, Redis, MongoDB, Solr, Elastic Search | Cloud Providers: Amazon Web Services, Google Cloud Platform | Additional Technologies: Kafka, NewRelic, Datadog, Docker, Kubernetes, Git, GitHub, Atlassian | We are obsessed with always paying the best salaries (or hourly rates) in the industry to our teammates as we are obsessed with the happiness of the people we work with as much as we are our client's happiness and everyone's success. | We strongly believe in extending appreciation to our valuable employees via Profit-sharing, Performance bonus, or Commission and equity. | Location: Remote, Ability to work from anywhere in the world from the comfort of your home. | Bachelor's degree in Computer Science or related field (or equivalent experience). | Prior experience working in the healthcare industry is an added advantage.",
         "https://id.linkedin.com/jobs/view/lead-software-engineer-ror-fullstack-engineer-bandung-indonesia-at-agnos-inc-4214010310?position=54&pageNum=0&refId=BamY%2ByY7G22sCkmQVq%2FUnQ%3D%3D&trackingId=zsWx1sdfBOyV3EjD56mLag%3D%3D"
        ],
        [
         "32",
         "Copywriter",
         "SuperAI (YC S22)",
         "Jakarta, Jakarta, Indonesia",
         " Indonesia",
         "Develop captions, short stories, and copy that engage and inspire",
         "Write captivating content for social media platforms, including Instagram, Twitter, and Tiktok. | Research trends and understand the target audience to optimize content. | Ensure all content reflects the brand's tone and voice. | Strong writing skills with a portfolio of social media content. | Creative, detail-oriented, and skilled in adapting different tones. | Knowledge of digital marketing and content strategies.",
         "https://id.linkedin.com/jobs/view/copywriter-at-superai-yc-s22-4231955475?position=8&pageNum=0&refId=RgdhUkIynIU6jGR6QNwKuA%3D%3D&trackingId=pquEd9vNyjyEd7l09m931g%3D%3D"
        ],
        [
         "33",
         "Accountant",
         "Givaudan",
         "Tangerang, Banten, Indonesia",
         " Indonesia",
         "Manage month end closing for Indonesia.",
         "Working closely with controller on SAP contract settlement. | Account analysis, including Group and statutory reporting. | Support VAT, WHT and Corporate Income Tax Filling. | Assist in checking of compliance with internal procedure and controls. | Support to GBS in troubleshooting related to General Accounting. | Collaborate and business partner with regional finance team and local cross-functional team. | University graduate with a major in accountancy or tax. | Minimum 2-3 years of relevant work experience including in the field of taxation and accounting. | Fluent in English, local language a plus. | Knowledge of Indonesian tax laws, regulations, and reporting requirements. | Familiar with SAP. | Advanced Excel Skills. | Strong interpersonal skills in a multicultural environment. | Good written and verbal communication skills. | Excellent analytical and problem solving skills. | Being action oriented and having the ability to work independently.",
         "https://id.linkedin.com/jobs/view/finance-accounting-tax-staff-at-givaudan-4224621480?position=19&pageNum=0&refId=Ug6HLt8tIXxlrqSssMcHSw%3D%3D&trackingId=AJs0gX0583CR9lzcSjfS9A%3D%3D"
        ],
        [
         "34",
         "Product Manager - Contract-based",
         "PT Astra International Tbk",
         "Jakarta, Jakarta, Indonesia",
         " Indonesia",
         "Not Found",
         "Melakukan riset untuk mengidentifikasi kebutuhan pelanggan dan pasar untuk produk OLX & OLXMobbi. | Mendefinisikan user stories, customer journeys, dan personas, serta berkolaborasi dengan tim UI/UX untuk membuat wireframe untuk OLX & OLXMobbi. | Menganalisis dan merancang Product Requirements Document (PRD) agar sesuai dengan roadmap produk OLX & OLXMobbi, termasuk strategi bisnis, prioritas, MVP, proposisi nilai, perjalanan pelanggan, model bisnis/keuangan, metrik keberhasilan, POC, proses bisnis, dan pengembangan aplikasi/backlog. | Bekerja sama dengan tim Agiletermasuk desainer/researcher UI/UX, pengembang, QA/tester, dan dukungan operasi bisnisuntuk pengembangan yang efisien dalam kerangka Agile dan DevOps, serta berkolaborasi dengan analitik data produk untuk mendefinisikan dan memverifikasi kebutuhan data. | Memastikan proses quality assurance diikuti dan memberikan dukungan berkelanjutan dengan tim QA dan produksi. | Menyiapkan dan mengelola semua dokumen pengembangan yang diperlukan, termasuk PRD, wireframe, dan penggunaan alat JIRA. | Gelar Sarjana di bidang Teknik, IT, Manajemen Bisnis, Ekonomi, Ilmu Pengetahuan, atau bidang terkait. | Pengalaman minimal 2 tahun di bidang Manajemen Produk atau Analisis Produk. | Memiliki wawasan bisnis yang kuat, mampu mendefinisikan roadmap produk, melakukan analisis mendalam, dan merancang dokumen kebutuhan produk (Prioritas Bisnis, MVP, Proposisi Nilai, Perjalanan Pelanggan, Model Keuangan, Metrik Keberhasilan, POC, PRD, Pengembangan Aplikasi). | Pengalaman dalam lingkungan Agile (Scrum, Kanban) dengan produk digital (Web/Mobile Apps), terutama di eCommerce/eMarketplace. | Kemampuan presentasi yang sangat baik (termasuk infografis). | Mengetahui tren dan teknologi terkini. | Bersedia bekerja di kantor di Ampera, Jakarta Selatan.",
         "https://id.linkedin.com/jobs/view/product-manager-contract-based-at-pt-astra-international-tbk-4182303629?position=51&pageNum=0&refId=2piWAr13K44KYH0Irttj0Q%3D%3D&trackingId=ROZRI8N3aEii%2BbDB09SXWA%3D%3D"
        ],
        [
         "35",
         "Fullstack Developer (Banking Industry)",
         "SIGMATECH",
         "Jakarta, Jakarta, Indonesia",
         " Indonesia",
         "Familiar with Agile software development, microservice and containerization",
         "Develop, deploy & implement applications based on system design, standard, quality, and performance from requirements | Do research and assessment based on requirement for further enhancement | Support production inquiries, and do investigation to have Root Cause Analysis for production issues | Experience with Mobile and Web Application Development minimum 1 years | Experience with Programming Java with OOP concept | Experience and understanding with technology stack & Framework: | Back end: NodeJS, Express, GraphQL | Front end: React & React Native | Database: NoSQL | Unit Test: JEST | Experience with development corporate internet banking (cash management) is a plus | Have integrity, initiative and detail. | Have a high commitment to complete work on time | Able to work under pressure | Have a good adaptability and fast learning",
         "https://id.linkedin.com/jobs/view/fullstack-developer-banking-industry-at-sigmatech-4235347495?position=25&pageNum=0&refId=V5pthpj15mtUVUCao%2BvbNg%3D%3D&trackingId=cC4kp8oIytm%2BeNQVcJgV%2FA%3D%3D"
        ],
        [
         "36",
         "Videografer Editor",
         "Primaland",
         "Sleman, Yogyakarta, Indonesia",
         " Indonesia",
         "Not Found",
         "Not Found",
         "https://id.linkedin.com/jobs/view/videografer-editor-at-primaland-4189122202?position=37&pageNum=0&refId=RgdhUkIynIU6jGR6QNwKuA%3D%3D&trackingId=aFO1f7KjPxGtfHH8u6c69w%3D%3D"
        ],
        [
         "37",
         "Multimedia Staff",
         "PT Astra International Tbk",
         "Jakarta, Jakarta, Indonesia",
         " Indonesia",
         "Not Found",
         "Mengelola media sosial perusahaan: IG, LinkedIn, Youtube, Website | Membuat desain dan isi konten di media sosial (flyer, konten Instagram & LinkedIn, video) | Mendesain Website | Pengambilan foto/video sesuai kebutuhan konten | Minimal pendidikan D3 Jurusan Multimedia | Mampu mendesain UI/UX, membuat video grafis, dan copywriting | Mampu menggunakan kamera untuk pengambilan foto/video | Mampu mengoperasikan drone menjadi nilai tambah | Terbuka untuk fresh graduate | Mampu bekerja secara tim maupun individual",
         "https://id.linkedin.com/jobs/view/multimedia-staff-at-pt-astra-international-tbk-4158973831?position=16&pageNum=0&refId=U21QTeg3Ro0eEqhEeRN2yQ%3D%3D&trackingId=Be3N6ZRW2YJrZ41thtiuew%3D%3D"
        ],
        [
         "38",
         "Junior Art Director",
         "Grab",
         "Jakarta Metropolitan Area",
         "Jakarta Metropolitan Area",
         "Mentor junior designers—because you're a team player, not a lone wolf | Eye for design: layout, color, typography, and composition",
         "Lead the creative direction for GrabExpress, from concept to execution | Support Grab Transport with visual ideas and thoughtful implementation | Bring briefs to life with clear, strategic, and brand-aligned visuals | Work with writers, marketers, and business teams to build integrated campaigns | Always push for better: better ideas, better craft, better impact | Minimum Bachelor's degree from relevant majors | At least 2 years of experience in similar role | English proficiency both verbal and written | Proficient in Adobe Creative Suite (Photoshop, Illustrator) | Capability to turn briefs into clear, impactful visuals | Familiar with digital and print formats (social, in-app, OOH) | Understand branding and visual consistency | We have your back with Term Life Insurance and comprehensive Medical Insurance. | With GrabFlex, create a benefits package that suits your needs and aspirations. | Celebrate moments that matter in life with loved ones through Parental and Birthday leave, and give back to your communities through Love-all-Serve-all (LASA) volunteering leave | We have a confidential Grabber Assistance Programme to guide and uplift you and your loved ones through life's challenges. | Balancing personal commitments and life's demands are made easier with our FlexWork arrangements such as differentiated hours",
         "https://id.linkedin.com/jobs/view/junior-art-director-at-grab-4232635956?position=2&pageNum=0&refId=VKIqf1at6%2FM70sO9DWcPXg%3D%3D&trackingId=ROmyVjqt%2B0h2L9HKivpt2g%3D%3D"
        ],
        [
         "39",
         "Lead Software Engineer (RoR Fullstack Engineer)- Bandung, Indonesia",
         "PT Hermes Solusi Integrasi",
         "Bandung, West Java, Indonesia",
         " Indonesia",
         "Not Found",
         "Experience and understand on developing business payment application, experienced in development payment gateway, settlement processing (SKN, RTGS, BI-Fast), understand about switching, ISO security (8085 & 20022), OTP, QRIS, and ATM switching application. | Has the experienced in developing application using Java & spring boot framework and performing functional unit testing by referring to BRD, FSD & TSD document. | Must have at least 6 years of total work experience in developing product Payment/eCommerce products. | Strong skills in Core Java, J2EE, Spring boot, Microservices, Web technologies & services ( HTML, CSS, React, JavaScript, REST JSON and API etc). | Experience working with databases MS SQL server databases under Windows server, familiar background processing, debugging tools and unit testing. | Experience with Agile methodologies | BPJS Kesehatan. | BPJS Ketenagakerjaan. | THR (1 x bln gaji). | KPI project bonus (annually). | Medical claims (rawat jalan = 1 x bln gaji setahun). | Onsite project : Jl. Jend. Sudirman dan Kuningan, Jakarta Selatan.",
         "https://id.linkedin.com/jobs/view/senior-fullstack-developer-banking-at-pt-hermes-solusi-integrasi-4231630357?position=57&pageNum=0&refId=BamY%2ByY7G22sCkmQVq%2FUnQ%3D%3D&trackingId=hoQ43M55eCQkwCy3CYFSGw%3D%3D"
        ],
        [
         "40",
         "Sales Representative (HORECA)",
         "Wings Group Indonesia (Sayap Mas Utama)",
         "Tangerang, Banten, Indonesia",
         " Indonesia",
         "Not Found",
         "Candidate must own at least a Bachelor Degree from any major | At least 1 year of experience in the related field is required for this position | Willing to be placed in Jabodetabek | Building and maintaining relation or partnership for HORECA/INSTITUTION channel | Focusing product penetration for HORECA/INSTITUTION channel | Maintaining repeat order from business partner/client | Providing solutions about the product for HORECA/INSTITUTION client needs",
         "https://id.linkedin.com/jobs/view/sales-representative-horeca-at-wings-group-indonesia-sayap-mas-utama-4183268064?position=25&pageNum=0&refId=IAqzFntIoljCa99j2qtsvQ%3D%3D&trackingId=%2FpC6nKdNrIIS97Pl48Q2Lw%3D%3D"
        ],
        [
         "41",
         "Tenant Relation Senior Manager",
         "SuperAI (YC S22)",
         "Jakarta Metropolitan Area",
         "Jakarta Metropolitan Area",
         "Design and execute global community strategies aligned with product vision, user needs, and brand goals across diverse international markets. | Develop and manage culturally relevant community content strategies tailored to a global audience, especially for platforms like Discord and Twitter. | Organize and manage global community engagement programs including webinars, live Q&A sessions, community challenges, ambassador or advocate programs, and more. | Work closely with content, localization, and design teams to ensure high-quality communication and consistency across regions and platforms. | Proven ability to grow and manage digital communities across multiple regions and time zones, especially on platforms like Discord, Telegram, and X (Twitter). | Familiarity with community management tools (e.g., Discord bots, Notion, Typeform) and analytics platforms.",
         "Build, grow, and maintain a strong and active presence across global community platforms such as Discord, X (Twitter), Telegram, Reddit, and regional channels where needed. | Lead both online and offline community-building initiatives to strengthen engagement, trust, and brand loyalty in multiple regions. | Monitor global community discussions, address questions and concerns with empathy, and maintain a consistent, friendly brand voice across all regions. | Actively collect and synthesize feedback and insights from community members worldwide, and collaborate with internal teams (product, marketing, support) to improve user experience. | Stay up-to-date with community trends, platform best practices, and local user behavior across different cultures and markets. | 1–3 years of experience as a Community Manager or in a similar role, preferably managing international or multi-language communities in the tech, startup, or SaaS space. | Excellent written and verbal communication skills in English (fluency in other languages is a plus). | Experience working with or around tech or AI products, with the ability to explain concepts in a clear, accessible, and culturally sensitive way. | Strong interpersonal and cross-cultural communication skills; highly empathetic and adept at resolving issues across diverse user groups. | Experience managing large, diverse online communities and understanding of different community dynamics globally. | Self-motivated, adaptable, and capable of working independently as well as across time zones with global cross-functional teams.",
         "https://id.linkedin.com/jobs/view/community-manager-global-audience-at-superai-yc-s22-4223394130?position=9&pageNum=0&refId=3pflRLyxdFjf%2Bj8EQsuDCg%3D%3D&trackingId=Da1FBzsoPBr5kLckX9cLcA%3D%3D"
        ],
        [
         "42",
         "Illustrator & Graphic Designer Intern",
         "cmlabs",
         "Malang, East Java, Indonesia",
         " Indonesia",
         "Job Description | Possess a good knowledge of design fundamentals such as layout, color, composition, creative thinking | Please submit your design portfolio along with your resume | Provide attractive and effective vector Illustration assets and graphic design based on the brief given | Responsible for making digital assets and designs such as icons, logos, characters, badges, posters, social media graphics, deck templates & infographics. | Brainstorm and create illustration and graphic design concepts that identify a product or convey a message under the supervision of Art Director",
         "Company Description | Qualification | Skills | Tools | Benefits | Recruitment Pipeline | Proficient in making illustration | Skilled in operating Adobe Illustrator (also skilled in Figma is a plus) | Knowledge of creating art with numerous layers that can be separated | Creativity and eagerness to continuously learn | Malang-based is a plus | Collaborate closely on existing and future projects with team | Application Review | Pre-assessment Test | HR Interview | User Interview | Final Interview",
         "https://id.linkedin.com/jobs/view/illustrator-graphic-designer-intern-at-cmlabs-4058319607?position=53&pageNum=0&refId=777F2uRteXMdhl0di4EnGQ%3D%3D&trackingId=%2FkrB%2FXyiTxprn2SfQu8BPg%3D%3D"
        ],
        [
         "43",
         "Culture & Talent Management Officer",
         "PT Chandra Asri Pacific Tbk",
         "Jakarta Metropolitan Area",
         "Jakarta Metropolitan Area",
         "Design and conduct Employee Engagement Surveys regularly (coordinate with third parties), prepare action plans workshop and monitor the implementation of these action plans to increase employee effectiveness. | Involved in the process of developing core, leadership and job family competencies by analyzing and evaluating existing competencies to ensure suitability to business needs. | Analyze and recommend the results of leadership workshop activities, EES, etc. to be used as a basis for the process of providing content or learning materials related to core competencies, leadership and job family and in accordance with company or functional or even individual needs, so that the content or materials will meet predetermined standards. | Designing an inclusion program (CA Women) as an implementation of ESG performance to increase the empowerment of female employees in the company. | Review and analyze comprehensive and accurate data & documents, reports, analyzes and insights related to the development of core competencies, leadership and job family as a basis for making reports, decision making, audits and other purposes. | Perform Talent Mapping process (i.e. launch form for Non Manager, prepare/maintain data, adjust SuccessFactor data based on calibrated result & put notes/rationale, analyse results and prepare report) to ensure the availability of accurate and complete data in timely manner. | Perform Succession Planning process (i.e. prepare/maintain data, adjust SuccessFactor data based on calibrated result & put notes/rationale, analyze results & prepare reports) to ensure the availability of accurate and complete data in timely manner. | Prepare data and ensure infrastructure readiness of Career Development Process for STAR Talent and Key Roles to ensure the smooth implementation in timely manner. | Perform Individual Development Plan (IDP) / Accelerate Development Program (ADP) implementation (communicate with users, prepare data, and monitor IDP/ADP implementation for Manager's successors, analyse results and prepare reports) to ensure the availability of accurate data and smooth IDP/ADP implementation in timely manner. | Perform Career Management process (i.e. analyse & prepare data, execute the promotion/progression/career movement plan, monitor the implementation, and prepare reports) to ensure the smooth implementation in timely manner. | Minimum Bachelor Degree in major Management/Industrial Engineering/Communication | Have deep knowledge in culture, succession planning, talent management, talent development and talent mapping.",
         "Collaborate with the iSTAR task force to promote and evaluate strengthening corporate culture, to make iSTAR a way of life at CAP. | Collaborate with the Employee Value Proposition task force in promoting and analyzing the effectiveness of the Employee Value Proposition to create a solid and appropriate Employee Value Proposition. | Conduct first review to ensure the accuracy and quality of Officer's deliverables if needed. | Have 5-8 years working experience in consulting company/ startup. | Have experience in project management and lead the workshop | Proficiency in Ms. Office especialy excel program for data processing | Fluent in English both spoken & written.",
         "https://id.linkedin.com/jobs/view/culture-talent-management-officer-at-pt-chandra-asri-pacific-tbk-4202801617?position=38&pageNum=0&refId=O1dot7h%2BlG%2BUCcXCODH5UQ%3D%3D&trackingId=Mv54h%2Bm0L4N%2F%2BGmRcc2P%2Bg%3D%3D"
        ],
        [
         "44",
         "Officer Development Program - Retail Banking",
         "PT. BANK NEGARA INDONESIA (Persero) Tbk.",
         "Jakarta, Indonesia",
         " Indonesia",
         "Not Found",
         "S1 /S2 from reputable universities with relevant field of studies with the minimum GPA of : S1 : 3.00 or equivalent ; S2 : 3.25 or equivalent | Proficient in English and submit your score in the application TOEFL min. 450, we only accept score provided by official /authorized institution and valid. | Demonstrate strong leadership, interpersonal, and good communication skills | Motivated and challenge-oriented individual | Ready to deployment across Indonesia | Have an interest to expand caree in sales / marketing | Willing to be placed all over Indonesia to support retail segment business in regional | Proactive and highly initiative | Strong in persuasion & negotiation | Excellent in interpersonal and communication | Oriented towards customer satisfaction | Good in critical & analytical thinking | Agile, enjoy learning new things, and able to work in dynamic environment",
         "https://id.linkedin.com/jobs/view/officer-development-program-retail-banking-at-pt-bank-negara-indonesia-persero-tbk-4124827627?position=49&pageNum=0&refId=IAqzFntIoljCa99j2qtsvQ%3D%3D&trackingId=RVQFlvTkIb5sblIQcadBjQ%3D%3D"
        ],
        [
         "45",
         "READING TEACHER (KINDERGARTEN)",
         "Miss Michelle Learning House",
         "Kembangan, Jakarta, Indonesia",
         " Indonesia",
         "Membuat lesson plan untuk kelas Reading | Memiliki kemampuan dan pengalaman dalam membuat lesson plan",
         "Menyampaikan materi ajar kepada murid dengan efektif sesuai dengan karakter dan kebutuhan belajar murid | Memantau dan menindaklanjuti progress murid | Menjalin hubungan baik dengan parents dan memberikan feedback terkait progress murid kepada parents secara regular dan konsisten | Memberikan kontribusi kepada Center baik dalam hal materi, inisiatif program maupun monitoring/kerja sama dengan rekan tim | Membuat bahan ajar secara kreatif sesuai dengan level murid berupa aktivitas hands-on untuk dilakukan oleh murid dan guru dalam kelas offline maupun di rumah pada kelas online | Bertanggung jawab atas pengembangan program kurikulum | Memberikan contoh perilaku yang baik dan santun kepada murid | Min S1 semua jurusan, lebih disukai jurusan Pendidikan / Sastra Inggris | Memiliki pengalaman minimal 1 tahun di bidang yang sama | Menguasai phonics | Memiliki kemampuan berkomunikasi dalam bahasa Inggris dengan baik dan lancar | Mampu mengoperasikan Ms Office | Memiliki passion terhadap anak-anak | Aktualisasi potensi dan mampu berkontribusi positif bagi perusahaan | Mampu bekerjasama dalam tim | Memberikan sikap dan hasil kerja yang excellent | Memiliki kemampuan komunikasi dan presentasi yang baik | Penempatan: Jakarta Barat",
         "https://id.linkedin.com/jobs/view/reading-teacher-kindergarten-at-miss-michelle-learning-house-4208799419?position=15&pageNum=0&refId=b49o6Ti5S3U2CmLLtobhQg%3D%3D&trackingId=zvWjRCXN0O92JTx3dlMe4A%3D%3D"
        ],
        [
         "46",
         "QA Engineer (ShopeePay) - Sea Labs",
         "Shopee",
         "Jakarta, Indonesia",
         " Indonesia",
         "Be involved in whole development life cycle and technical design review | Test case design and planning | Development and maintenance of testing tools, automation of testing tools and scripts | Strong sense of responsibility and teamwork. Proactively analyze problems and develop countermeasures to address issues faced.",
         "Functional testing via grey-box and white-box methodologies | Perform Application Program Interface (API) testing, and API automation testing | Performance, security, and integration testing for system, module, API, and other tools | Bug analysis and tracking | Setting up and maintenance of testing environment | Continuous improvement and research of testing process, skills, techniques, quality, and efficiency | Bachelor's degree or above in Computer Science or other related disciplines | More than 3 years of QA experience | Master at least one programming language, prefer golang and python | Master on popular test tools such as postman, applium, lucust,charles etc | Strong technical skills and the ability to drive and complete testing of complex systems independently | Excellent logical and analytical thinking abilities to solve various technical problems.",
         "https://id.linkedin.com/jobs/view/qa-engineer-shopeepay-sea-labs-at-shopee-3830058011?position=28&pageNum=0&refId=ROqXyfsY%2Bn6yQ8tb%2BJZb7Q%3D%3D&trackingId=SpwBh%2FoqltozoE8ihuu70Q%3D%3D"
        ],
        [
         "47",
         "Software Development Engineer in Test",
         "Pintu",
         "Indonesia",
         "Indonesia",
         "Design, develop and execute automation scripts. | Collaborate with other Developers, SREs and QA Engineers to execute full cycle integration, functional and regression testing. Own the script and analyze the defects identified | Good knowledge of Agile/Scrum development process and using collaboration tools, such as Jira, Slack, TestRail, Notion, etc.",
         "Analyze and review requirements, specifications and technical design documents to provide timely and meaningful feedback | Hands-on manual investigation and reproduction of functional backend software issues. | Root cause analysis of existing test script failures. | Identification of current test script deficiencies and candidates for additional scripted coverage. | Review code for correct implementation, maintainability & optimizations | Participate in team exercises to identify and implement areas for continuous improvement, be proactive in bringing your ideas across | Educate and mentor your engineering colleagues in the areas of your own expertise and domain knowledge, be open-minded and approachable | A minimum of 5 years of experience working in the financial trading domain (exchanges, proprietary trading firms, market makers, brokers, etc.) At least 2 years working in crypto industry. | Minimum 4 years in working with automation frameworks frontend and backend | Exposure to Mobile Apps (Android + iOS) or Web or API testing | Exposure with Pytest, Github Action, or Appium | Good programming ability, master at least one of Java, Python and other programming languages. | Experience testing backend services such as APIs, Databases, distributed services | Experience with Performance Test (e.g., K6, Locust, Gatling) | Enjoys breaking things and solving problems - not just able to find out the 'what', but also the 'why' | Understand priorities. Be able to prioritize things like what should be tested first, which test cases to be automated/manual, which bug fix should be verified, and which one can be delayed for some time. | Determine bugs. Able to identify more critical bugs and report them with complete details. | Solid hands on experience with designing and implementing automation framework | Appium | Pytest | Playwright | Locust/K6 | Hands on experience with the Continuous Integration principles (unit testing, pull-requests, GitHub or any specific continuous integration engine like GitLab/Jenkins/etc.) | Hands on experience with monitoring tools of automation execution such as Grafana, Datadog, etc | Knowledge of different technologies and approaches to automation | Personal: self-sufficient with good hard and soft skills, committed and responsible, able to perform well under pressure | Experience with cryptocurrency-related applications or blockchain technologies (e.g., crypto wallets, decentralized applications, trading platforms). | Experience to build testing tools that can manage volatile traffic.",
         "https://id.linkedin.com/jobs/view/software-development-engineer-in-test-at-pintu-4196408788?position=42&pageNum=0&refId=cRBV9pmadiCQx6y1WvwqPQ%3D%3D&trackingId=NtTbAM0piPsjvBAugslPLw%3D%3D"
        ],
        [
         "48",
         "B2B & Complementary Procurement Staff",
         "Torch",
         "Indonesia",
         "Indonesia",
         "Collaborate with internal teams to understand design, material, and order specifications. | Manage the end-to-end procurement process, including order placement, supplier communication, and logistics tracking. | Analyze procurement data to identify cost-saving opportunities and optimize supplier performance. | Mitigate risks in the supply chain by developing contingency plans and maintaining a network of backup suppliers. | Bachelor’s degree in Supply Chain Management, Industrial Engineering, or a related field.",
         "Identify and establish partnerships with reliable suppliers for raw materials, merchandise, and complementary items tailored to B2B order requirements. | Conduct supplier assessments, audits, and negotiations to ensure high standards of quality, cost, and delivery timelines. | Execute procurement strategies aligned with Torch.id’s B2B operations and client-specific requirements. | Stay updated on market trends, material pricing, and emerging technologies in the fashion industry. | Negotiate competitive pricing and terms while ensuring ethical and sustainable procurement practices. | Ensure timely delivery of materials to meet production deadlines and client expectations. | Male | Min. 2 years of experience in procurement or supply chain management, preferably in the fashion or retail industry, experienced in handling B2B project fulfillment. | Proven experience in sourcing materials (e.g., fabrics, trims, accessories) and managing suppliers. | Strong negotiation, analytical, and problem-solving skills. | Proficiency in using procurement tools and ERP systems. | Familiarity with logistics, import/export processes, and vendor compliance requirements. | Agility to adapt to dynamic business needs and market conditions. | Excellent communication and collaboration skills to work with cross-functional teams. | Detail-oriented and organized with a commitment to meeting deadlines. | Passionate about innovation and contributing to Torch.id’s success story.",
         "https://id.linkedin.com/jobs/view/b2b-complementary-procurement-staff-at-torch-4083015200?position=14&pageNum=0&refId=ibFksicuIccwlpaUAEHVKw%3D%3D&trackingId=I140z3xxYG58rY9O1cvwxw%3D%3D"
        ],
        [
         "49",
         "Process Safety Engineer",
         "PT. Berca Engineering International",
         "Jakarta, Jakarta, Indonesia",
         " Indonesia",
         "Not Found",
         "Not Found",
         "https://id.linkedin.com/jobs/view/process-safety-engineer-at-pt-berca-engineering-international-4206096288?position=39&pageNum=0&refId=LThKgeZrrdwbXqi6XfW5cw%3D%3D&trackingId=iNYt04TjFvdvqF1kk2ixLA%3D%3D"
        ]
       ],
       "shape": {
        "columns": 7,
        "rows": 5251
       }
      },
      "text/html": [
       "<div>\n",
       "<style scoped>\n",
       "    .dataframe tbody tr th:only-of-type {\n",
       "        vertical-align: middle;\n",
       "    }\n",
       "\n",
       "    .dataframe tbody tr th {\n",
       "        vertical-align: top;\n",
       "    }\n",
       "\n",
       "    .dataframe thead th {\n",
       "        text-align: right;\n",
       "    }\n",
       "</style>\n",
       "<table border=\"1\" class=\"dataframe\">\n",
       "  <thead>\n",
       "    <tr style=\"text-align: right;\">\n",
       "      <th></th>\n",
       "      <th>Title</th>\n",
       "      <th>Company</th>\n",
       "      <th>Location</th>\n",
       "      <th>Country</th>\n",
       "      <th>Job Description</th>\n",
       "      <th>Job Requirements</th>\n",
       "      <th>Link</th>\n",
       "    </tr>\n",
       "  </thead>\n",
       "  <tbody>\n",
       "    <tr>\n",
       "      <th>0</th>\n",
       "      <td>Pesticide residue analysis specialist</td>\n",
       "      <td>Groupe Enval (Laboratoires &amp; Cabinet)</td>\n",
       "      <td>Jakarta Metropolitan Area</td>\n",
       "      <td>Jakarta Metropolitan Area</td>\n",
       "      <td>Leadership Role</td>\n",
       "      <td>Competitive Salary and Benefits: | Modern Faci...</td>\n",
       "      <td>https://id.linkedin.com/jobs/view/pesticide-re...</td>\n",
       "    </tr>\n",
       "    <tr>\n",
       "      <th>1</th>\n",
       "      <td>Automotive Quality Assurance Analyst</td>\n",
       "      <td>Asuransi Astra</td>\n",
       "      <td>Jakarta, Jakarta, Indonesia</td>\n",
       "      <td>Indonesia</td>\n",
       "      <td>Not Found</td>\n",
       "      <td>Membuat analisa dan menyimpulkan jumlah temuan...</td>\n",
       "      <td>https://id.linkedin.com/jobs/view/automotive-q...</td>\n",
       "    </tr>\n",
       "    <tr>\n",
       "      <th>2</th>\n",
       "      <td>Visual Merchandiser</td>\n",
       "      <td>Black Owl Indonesia</td>\n",
       "      <td>Jakarta Metropolitan Area</td>\n",
       "      <td>Jakarta Metropolitan Area</td>\n",
       "      <td>Not Found</td>\n",
       "      <td>Not Found</td>\n",
       "      <td>https://id.linkedin.com/jobs/view/visual-merch...</td>\n",
       "    </tr>\n",
       "    <tr>\n",
       "      <th>3</th>\n",
       "      <td>L2 Network Security Engineer</td>\n",
       "      <td>PT Focus Solusi Infotama</td>\n",
       "      <td>Jakarta, Jakarta, Indonesia</td>\n",
       "      <td>Indonesia</td>\n",
       "      <td>Not Found</td>\n",
       "      <td>Menangani dan menindaklanjuti insiden keamanan...</td>\n",
       "      <td>https://id.linkedin.com/jobs/view/l2-network-s...</td>\n",
       "    </tr>\n",
       "    <tr>\n",
       "      <th>4</th>\n",
       "      <td>UX Annotator</td>\n",
       "      <td>Mobbin</td>\n",
       "      <td>Jakarta, Jakarta, Indonesia</td>\n",
       "      <td>Indonesia</td>\n",
       "      <td>Annotate screens and flows with information ab...</td>\n",
       "      <td>Stay informed on updates to guidelines and inc...</td>\n",
       "      <td>https://id.linkedin.com/jobs/view/ux-annotator...</td>\n",
       "    </tr>\n",
       "    <tr>\n",
       "      <th>...</th>\n",
       "      <td>...</td>\n",
       "      <td>...</td>\n",
       "      <td>...</td>\n",
       "      <td>...</td>\n",
       "      <td>...</td>\n",
       "      <td>...</td>\n",
       "      <td>...</td>\n",
       "    </tr>\n",
       "    <tr>\n",
       "      <th>5246</th>\n",
       "      <td>Legal Counsel - Litigation &amp; Contentious Matters</td>\n",
       "      <td>ShopBack</td>\n",
       "      <td>Jakarta, Jakarta, Indonesia</td>\n",
       "      <td>Indonesia</td>\n",
       "      <td>Design and strategy: | Support product manager...</td>\n",
       "      <td>Conduct user research and use quantitative and...</td>\n",
       "      <td>https://id.linkedin.com/jobs/view/ux-writer-at...</td>\n",
       "    </tr>\n",
       "    <tr>\n",
       "      <th>5247</th>\n",
       "      <td>Apprentice Program Field Agronomist</td>\n",
       "      <td>PT Restu Agropro Jayamas</td>\n",
       "      <td>Klaten Tengah, Central Java, Indonesia</td>\n",
       "      <td>Indonesia</td>\n",
       "      <td>Not Found</td>\n",
       "      <td>Melakukan demo produk di lahan | Melakukan pro...</td>\n",
       "      <td>https://id.linkedin.com/jobs/view/apprentice-p...</td>\n",
       "    </tr>\n",
       "    <tr>\n",
       "      <th>5248</th>\n",
       "      <td>Account Manager - Attraction/Things-to-Do (B2C...</td>\n",
       "      <td>tiket.com</td>\n",
       "      <td>Jakarta, Jakarta, Indonesia</td>\n",
       "      <td>Indonesia</td>\n",
       "      <td>Manage and grow relationships with existing pa...</td>\n",
       "      <td>Acquire and onboard new experience providers b...</td>\n",
       "      <td>https://id.linkedin.com/jobs/view/account-mana...</td>\n",
       "    </tr>\n",
       "    <tr>\n",
       "      <th>5249</th>\n",
       "      <td>Software Engineer (Fullstack)</td>\n",
       "      <td>Mekari</td>\n",
       "      <td>Surabaya, East Java, Indonesia</td>\n",
       "      <td>Indonesia</td>\n",
       "      <td>Develop front-end &amp; back-end components on the...</td>\n",
       "      <td>Work closely with DevOps to maintain the appli...</td>\n",
       "      <td>https://id.linkedin.com/jobs/view/senior-softw...</td>\n",
       "    </tr>\n",
       "    <tr>\n",
       "      <th>5250</th>\n",
       "      <td>Quality Improvement Specialist</td>\n",
       "      <td>Shopee</td>\n",
       "      <td>Sidoarjo, East Java, Indonesia</td>\n",
       "      <td>Indonesia</td>\n",
       "      <td>Be involved in whole development life cycle an...</td>\n",
       "      <td>Functional testing via grey-box and white-box ...</td>\n",
       "      <td>https://id.linkedin.com/jobs/view/qa-engineer-...</td>\n",
       "    </tr>\n",
       "  </tbody>\n",
       "</table>\n",
       "<p>5251 rows × 7 columns</p>\n",
       "</div>"
      ],
      "text/plain": [
       "                                                  Title  \\\n",
       "0                 Pesticide residue analysis specialist   \n",
       "1                  Automotive Quality Assurance Analyst   \n",
       "2                                   Visual Merchandiser   \n",
       "3                          L2 Network Security Engineer   \n",
       "4                                          UX Annotator   \n",
       "...                                                 ...   \n",
       "5246   Legal Counsel - Litigation & Contentious Matters   \n",
       "5247                Apprentice Program Field Agronomist   \n",
       "5248  Account Manager - Attraction/Things-to-Do (B2C...   \n",
       "5249                      Software Engineer (Fullstack)   \n",
       "5250                     Quality Improvement Specialist   \n",
       "\n",
       "                                    Company  \\\n",
       "0     Groupe Enval (Laboratoires & Cabinet)   \n",
       "1                            Asuransi Astra   \n",
       "2                       Black Owl Indonesia   \n",
       "3                  PT Focus Solusi Infotama   \n",
       "4                                    Mobbin   \n",
       "...                                     ...   \n",
       "5246                               ShopBack   \n",
       "5247               PT Restu Agropro Jayamas   \n",
       "5248                              tiket.com   \n",
       "5249                                 Mekari   \n",
       "5250                                 Shopee   \n",
       "\n",
       "                                    Location                    Country  \\\n",
       "0                  Jakarta Metropolitan Area  Jakarta Metropolitan Area   \n",
       "1                Jakarta, Jakarta, Indonesia                  Indonesia   \n",
       "2                  Jakarta Metropolitan Area  Jakarta Metropolitan Area   \n",
       "3                Jakarta, Jakarta, Indonesia                  Indonesia   \n",
       "4                Jakarta, Jakarta, Indonesia                  Indonesia   \n",
       "...                                      ...                        ...   \n",
       "5246             Jakarta, Jakarta, Indonesia                  Indonesia   \n",
       "5247  Klaten Tengah, Central Java, Indonesia                  Indonesia   \n",
       "5248             Jakarta, Jakarta, Indonesia                  Indonesia   \n",
       "5249          Surabaya, East Java, Indonesia                  Indonesia   \n",
       "5250          Sidoarjo, East Java, Indonesia                  Indonesia   \n",
       "\n",
       "                                        Job Description  \\\n",
       "0                                       Leadership Role   \n",
       "1                                             Not Found   \n",
       "2                                             Not Found   \n",
       "3                                             Not Found   \n",
       "4     Annotate screens and flows with information ab...   \n",
       "...                                                 ...   \n",
       "5246  Design and strategy: | Support product manager...   \n",
       "5247                                          Not Found   \n",
       "5248  Manage and grow relationships with existing pa...   \n",
       "5249  Develop front-end & back-end components on the...   \n",
       "5250  Be involved in whole development life cycle an...   \n",
       "\n",
       "                                       Job Requirements  \\\n",
       "0     Competitive Salary and Benefits: | Modern Faci...   \n",
       "1     Membuat analisa dan menyimpulkan jumlah temuan...   \n",
       "2                                             Not Found   \n",
       "3     Menangani dan menindaklanjuti insiden keamanan...   \n",
       "4     Stay informed on updates to guidelines and inc...   \n",
       "...                                                 ...   \n",
       "5246  Conduct user research and use quantitative and...   \n",
       "5247  Melakukan demo produk di lahan | Melakukan pro...   \n",
       "5248  Acquire and onboard new experience providers b...   \n",
       "5249  Work closely with DevOps to maintain the appli...   \n",
       "5250  Functional testing via grey-box and white-box ...   \n",
       "\n",
       "                                                   Link  \n",
       "0     https://id.linkedin.com/jobs/view/pesticide-re...  \n",
       "1     https://id.linkedin.com/jobs/view/automotive-q...  \n",
       "2     https://id.linkedin.com/jobs/view/visual-merch...  \n",
       "3     https://id.linkedin.com/jobs/view/l2-network-s...  \n",
       "4     https://id.linkedin.com/jobs/view/ux-annotator...  \n",
       "...                                                 ...  \n",
       "5246  https://id.linkedin.com/jobs/view/ux-writer-at...  \n",
       "5247  https://id.linkedin.com/jobs/view/apprentice-p...  \n",
       "5248  https://id.linkedin.com/jobs/view/account-mana...  \n",
       "5249  https://id.linkedin.com/jobs/view/senior-softw...  \n",
       "5250  https://id.linkedin.com/jobs/view/qa-engineer-...  \n",
       "\n",
       "[5251 rows x 7 columns]"
      ]
     },
     "execution_count": 2,
     "metadata": {},
     "output_type": "execute_result"
    }
   ],
   "source": [
    "# Definisikan path untuk kedua lingkungan\n",
    "path_kaggle = '/kaggle/input/capstone-jobs-dataset/jobs_dataset.csv'\n",
    "path_lokal = 'dataset/jobs_dataset.csv'\n",
    "\n",
    "file_path_to_load = None\n",
    "\n",
    "# Cek apakah path Kaggle ada\n",
    "if os.path.exists(path_kaggle):\n",
    "    file_path_to_load = path_kaggle\n",
    "    print(f\"Lingkungan Kaggle terdeteksi. Memuat data dari: {file_path_to_load}\")\n",
    "else:\n",
    "    file_path_to_load = path_lokal\n",
    "    print(f\"Lingkungan lokal terdeteksi. Memuat data dari: {file_path_to_load}\")\n",
    "\n",
    "# Lanjutkan memuat dataset\n",
    "try:\n",
    "    df = pd.read_csv(file_path_to_load)\n",
    "    # Mengacak urutan data untuk menghindari bias saat melihat sampel\n",
    "    df = df.sample(frac=1).reset_index(drop=True)\n",
    "    \n",
    "    print(f\"\\nBerhasil memuat dataset.\")\n",
    "except FileNotFoundError:\n",
    "    print(f\"\\n[ERROR] GAGAL MEMUAT DATA!\")\n",
    "    print(f\"File tidak ditemukan di path: '{file_path_to_load}'\")\n",
    "    print(\"Pastikan nama file dan lokasi folder sudah benar.\")\n",
    "except Exception as e:\n",
    "    print(f\"Terjadi error saat memuat data: {e}\")\n",
    "\n",
    "# Tampilkan informasi umum tentang dataframe\n",
    "print(\"\\nInformasi umum tentang dataset:\")\n",
    "df.info()\n",
    "\n",
    "# Tampilkan statistik deskriptif dari dataframe\n",
    "print(\"\\nStatistik deskriptif dari dataset:\")\n",
    "print(df.describe())\n",
    "\n",
    "# Tampilkan jumlah baris dan kolom\n",
    "print(f\"\\nJumlah baris: {df.shape[0]}, Jumlah kolom: {df.shape[1]}\")\n",
    "\n",
    "# Tampilkan nama-nama kolom\n",
    "print(\"\\nNama-nama kolom dalam dataset:\")\n",
    "print(df.columns.tolist())\n",
    "\n",
    "# Tampilkan jumlah nilai yang hilang di setiap kolom\n",
    "print(\"\\nJumlah nilai yang hilang di setiap kolom:\")\n",
    "print(df.isnull().sum())\n",
    "\n",
    "# Tampilkan duplikat\n",
    "print('\\nJumlah duplikat dalam dataset:')\n",
    "print(df.duplicated().sum())\n",
    "\n",
    "# Tampilkan dataframe\n",
    "df"
   ]
  },
  {
   "cell_type": "markdown",
   "metadata": {},
   "source": [
    "**Tindakan:**\n",
    "Dataset mentah (`jobs_dataset.csv`) dimuat ke dalam DataFrame pandas. Setelah dimuat, urutan baris data langsung diacak (`.sample(frac=1)`) dan indeksnya diatur ulang (`.reset_index(drop=True)`).\n",
    "\n",
    "**Alasan (Insight):**\n",
    "* **`.sample(frac=1)`**: Pengacakan dilakukan untuk mencegah adanya bias urutan yang mungkin timbul dari proses *scraping* (misalnya, semua pekerjaan dari kategori yang sama berkumpul jadi satu). Ini memastikan bahwa saat kita melihat sampel data (misalnya dengan `.head()`), kita mendapatkan representasi yang lebih beragam.\n",
    "* **`.reset_index(drop=True)`**: Setelah diacak, indeks data menjadi tidak berurutan. Perintah ini mengatur ulang indeks dari 0, 1, 2, ..., sehingga DataFrame kembali rapi."
   ]
  },
  {
   "cell_type": "markdown",
   "metadata": {},
   "source": [
    "### **Langkah 3: Proses Pembersihan Data**\n",
    "\n",
    "Pada tahap ini, kita akan melakukan tiga langkah pembersihan utama untuk meningkatkan kualitas dataset. Setiap langkah akan dijelaskan dan kita akan melihat dampaknya terhadap jumlah data."
   ]
  },
  {
   "cell_type": "markdown",
   "metadata": {},
   "source": [
    "#### **3.1. Mengganti \"Not Found\" dengan NaN**\n",
    "\n",
    "Nilai \"Not Found\" adalah teks yang tidak bisa diinterpretasikan oleh banyak fungsi analisis data. Kita akan menggantinya dengan `np.nan` (Not a Number), yang merupakan standar untuk merepresentasikan data hilang di pandas."
   ]
  },
  {
   "cell_type": "code",
   "execution_count": 3,
   "metadata": {
    "execution": {
     "iopub.execute_input": "2025-06-10T10:08:08.401216Z",
     "iopub.status.busy": "2025-06-10T10:08:08.400884Z",
     "iopub.status.idle": "2025-06-10T10:08:08.412331Z",
     "shell.execute_reply": "2025-06-10T10:08:08.411007Z",
     "shell.execute_reply.started": "2025-06-10T10:08:08.401186Z"
    },
    "trusted": true
   },
   "outputs": [
    {
     "name": "stdout",
     "output_type": "stream",
     "text": [
      "Nilai 'Not Found' telah berhasil diganti dengan NaN.\n"
     ]
    }
   ],
   "source": [
    "# Ganti \"Not Found\" dengan NaN\n",
    "df.replace(\"Not Found\", np.nan, inplace=True)\n",
    "\n",
    "print(\"Nilai 'Not Found' telah berhasil diganti dengan NaN.\")"
   ]
  },
  {
   "cell_type": "markdown",
   "metadata": {},
   "source": [
    "**Tindakan:**\n",
    "Nilai string \"Not Found\" sering muncul jika scraping gagal mengambil data dari HTML. Semua nilai string `\"Not Found\"` di seluruh DataFrame diganti dengan nilai standar untuk data hilang, yaitu `np.nan` (Not a Number).\n",
    "\n",
    "**Alasan (Insight):**\n",
    "* **Standarisasi Data Hilang**: Nilai `\"Not Found\"` adalah hasil dari proses *scraping* jika elemen HTML tertentu tidak ditemukan. Mengubahnya menjadi `np.nan` membuat Pandas dapat mengenalinya sebagai *missing value* standar.\n",
    "* **Memudahkan Filtering dan Analisis**: Dengan nilai `np.nan`, kita bisa dengan mudah menggunakan fungsi bawaan Pandas seperti `.isnull()`, `.dropna()`, dan `.fillna()` untuk analisis dan pembersihan lebih lanjut."
   ]
  },
  {
   "cell_type": "markdown",
   "metadata": {},
   "source": [
    "#### **3.2. Menghapus Data Duplikat**\n",
    "\n",
    "Sangat mungkin proses scraping mengambil lowongan yang sama lebih dari sekali. Kita akan menghapus baris duplikat berdasarkan kombinasi kolom `Title`, `Company`, dan `Location` untuk memastikan setiap lowongan bersifat unik."
   ]
  },
  {
   "cell_type": "code",
   "execution_count": 4,
   "metadata": {
    "execution": {
     "iopub.execute_input": "2025-06-10T10:08:08.413811Z",
     "iopub.status.busy": "2025-06-10T10:08:08.413466Z",
     "iopub.status.idle": "2025-06-10T10:08:08.441727Z",
     "shell.execute_reply": "2025-06-10T10:08:08.440567Z",
     "shell.execute_reply.started": "2025-06-10T10:08:08.413781Z"
    },
    "trusted": true
   },
   "outputs": [
    {
     "name": "stdout",
     "output_type": "stream",
     "text": [
      "Jumlah baris sebelum penghapusan duplikat: 5251\n",
      "Jumlah baris setelah penghapusan duplikat: 2004\n",
      "Total data duplikat yang dihapus: 3247\n"
     ]
    }
   ],
   "source": [
    "# Hapus duplikat\n",
    "rows_before_dedup = len(df)\n",
    "df.drop_duplicates(subset=[\"Title\", \"Company\", \"Location\"], inplace=True, keep='last')\n",
    "rows_after_dedup = len(df)\n",
    "\n",
    "print(f\"Jumlah baris sebelum penghapusan duplikat: {rows_before_dedup}\")\n",
    "print(f\"Jumlah baris setelah penghapusan duplikat: {rows_after_dedup}\")\n",
    "print(f\"Total data duplikat yang dihapus: {rows_before_dedup - rows_after_dedup}\")"
   ]
  },
  {
   "cell_type": "markdown",
   "metadata": {},
   "source": [
    "**Tindakan:**\n",
    "Baris-baris data yang duplikat dihapus. Sebuah baris dianggap duplikat jika memiliki nilai yang sama pada kolom `Title`, `Company`, dan `Location` secara bersamaan, inplace=True)\"].\n",
    "\n",
    "**Alasan (Insight):**\n",
    "* **Integritas Data**: Proses *scraping* yang berulang atau menjelajahi beberapa halaman sering kali mengambil lowongan pekerjaan yang sama lebih dari sekali. Langkah ini krusial untuk memastikan setiap entri dalam dataset kita benar-benar unik.\n",
    "* **Efisiensi Model**: Menggunakan data yang unik mencegah model memberikan bobot berlebih pada lowongan yang sama yang muncul berkali-kali."
   ]
  },
  {
   "cell_type": "markdown",
   "metadata": {},
   "source": [
    "#### **3.3. Menghapus Baris yang Tidak Punya Deskripsi & Syarat**\n",
    "\n",
    "Kolom `Job Description` dan `Job Requirements` adalah fitur paling penting untuk model kita. Jika salah satu dari kolom ini kosong, baris data tersebut tidak memiliki nilai yang cukup untuk proses *matching*. Oleh karena itu, kita akan menghapusnya."
   ]
  },
  {
   "cell_type": "code",
   "execution_count": 5,
   "metadata": {
    "execution": {
     "iopub.execute_input": "2025-06-10T10:08:08.458025Z",
     "iopub.status.busy": "2025-06-10T10:08:08.457800Z",
     "iopub.status.idle": "2025-06-10T10:08:08.480335Z",
     "shell.execute_reply": "2025-06-10T10:08:08.479435Z",
     "shell.execute_reply.started": "2025-06-10T10:08:08.458006Z"
    },
    "trusted": true
   },
   "outputs": [
    {
     "name": "stdout",
     "output_type": "stream",
     "text": [
      "Jumlah baris sebelum menghapus data kosong: 2004\n",
      "Jumlah baris setelah menghapus data kosong: 1362\n",
      "Total data tidak lengkap yang dihapus: 642\n"
     ]
    }
   ],
   "source": [
    "rows_before_dropna = len(df)\n",
    "df_cleaned = df.dropna(subset=[\"Job Description\", \"Job Requirements\"])\n",
    "rows_after_dropna = len(df_cleaned)\n",
    "\n",
    "print(f\"Jumlah baris sebelum menghapus data kosong: {rows_before_dropna}\")\n",
    "print(f\"Jumlah baris setelah menghapus data kosong: {rows_after_dropna}\")\n",
    "print(f\"Total data tidak lengkap yang dihapus: {rows_before_dropna - rows_after_dropna}\")"
   ]
  },
  {
   "cell_type": "markdown",
   "metadata": {},
   "source": [
    "**Tindakan:**\n",
    "Seluruh baris data yang tidak memiliki informasi pada kolom `Job Description` **ATAU** `Job Requirements` dihapus dari DataFrame) \"].\n",
    "\n",
    "**Alasan (Insight):**\n",
    "* **Kualitas Fitur**: Kedua kolom ini adalah \"jantung\" dari data teks yang akan digunakan oleh model untuk memahami konteks pekerjaan.\n",
    "* **Kelayakan Data**: Tanpa deskripsi atau persyaratan, sebuah data lowongan tidak memiliki informasi yang cukup untuk bisa dicocokkan dengan CV secara akurat. Menghapusnya akan meningkatkan kualitas keseluruhan dataset yang akan digunakan untuk *training* dan *matching*."
   ]
  },
  {
   "cell_type": "markdown",
   "metadata": {},
   "source": [
    "#### **Hasil Akhir Pembersihan**\n",
    "\n",
    "Setelah melalui semua tahap pembersihan, mari kita dataframe dari dataset bersih kita (`df_cleaned`)."
   ]
  },
  {
   "cell_type": "code",
   "execution_count": 6,
   "metadata": {
    "execution": {
     "iopub.execute_input": "2025-06-10T10:08:08.482723Z",
     "iopub.status.busy": "2025-06-10T10:08:08.482441Z",
     "iopub.status.idle": "2025-06-10T10:08:08.510061Z",
     "shell.execute_reply": "2025-06-10T10:08:08.509177Z",
     "shell.execute_reply.started": "2025-06-10T10:08:08.482700Z"
    },
    "trusted": true
   },
   "outputs": [
    {
     "data": {
      "application/vnd.microsoft.datawrangler.viewer.v0+json": {
       "columns": [
        {
         "name": "index",
         "rawType": "int64",
         "type": "integer"
        },
        {
         "name": "Title",
         "rawType": "object",
         "type": "string"
        },
        {
         "name": "Company",
         "rawType": "object",
         "type": "string"
        },
        {
         "name": "Location",
         "rawType": "object",
         "type": "string"
        },
        {
         "name": "Country",
         "rawType": "object",
         "type": "string"
        },
        {
         "name": "Job Description",
         "rawType": "object",
         "type": "string"
        },
        {
         "name": "Job Requirements",
         "rawType": "object",
         "type": "string"
        },
        {
         "name": "Link",
         "rawType": "object",
         "type": "string"
        }
       ],
       "ref": "96a661d8-aba1-4680-a3eb-ec077ec6418a",
       "rows": [
        [
         "28",
         "APAC Graduate Program-Leadership Experience and Accelerated Development (LEAD)  - OPERATIONS",
         "My Zahir",
         "Kecamatan Bekasi Utara, West Java, Indonesia",
         " Indonesia",
         "Support religious development | Support employee development program",
         "Memiliki mindset untuk terus belajar | Up to date trend fashion muslim | Ikut serta terlibat dalam proses end to end riset hingga eksekusi pembuatan produk fashion muslim | Terbuka untuk mahasiswa semester akhir & fresh graduate | Pendidikan SMK/D4/S1 Tata Busana/sejenis | Memiliki keinginan yang kuat untuk mengembangkan diri di dunia fashion, khususnya fashion muslim | Up to date trend fashion | Disiplin dan memiliki manajemen waktu yang baik | Proaktif, komunikatif, & inisiatif | Bersedia melakukan internship selama 3 bulan dari kantor My Zahir (Ketintang, Surabaya)",
         "https://id.linkedin.com/jobs/view/fashion-designer-unpaid-internship-at-my-zahir-4205034709?position=60&pageNum=0&refId=472psk1mCs9vnyS5%2Fn35qg%3D%3D&trackingId=RqhJX4lsX4hLRm8jjFEEMQ%3D%3D"
        ],
        [
         "33",
         "Accountant",
         "Givaudan",
         "Tangerang, Banten, Indonesia",
         " Indonesia",
         "Manage month end closing for Indonesia.",
         "Working closely with controller on SAP contract settlement. | Account analysis, including Group and statutory reporting. | Support VAT, WHT and Corporate Income Tax Filling. | Assist in checking of compliance with internal procedure and controls. | Support to GBS in troubleshooting related to General Accounting. | Collaborate and business partner with regional finance team and local cross-functional team. | University graduate with a major in accountancy or tax. | Minimum 2-3 years of relevant work experience including in the field of taxation and accounting. | Fluent in English, local language a plus. | Knowledge of Indonesian tax laws, regulations, and reporting requirements. | Familiar with SAP. | Advanced Excel Skills. | Strong interpersonal skills in a multicultural environment. | Good written and verbal communication skills. | Excellent analytical and problem solving skills. | Being action oriented and having the ability to work independently.",
         "https://id.linkedin.com/jobs/view/finance-accounting-tax-staff-at-givaudan-4224621480?position=19&pageNum=0&refId=Ug6HLt8tIXxlrqSssMcHSw%3D%3D&trackingId=AJs0gX0583CR9lzcSjfS9A%3D%3D"
        ],
        [
         "35",
         "Fullstack Developer (Banking Industry)",
         "SIGMATECH",
         "Jakarta, Jakarta, Indonesia",
         " Indonesia",
         "Familiar with Agile software development, microservice and containerization",
         "Develop, deploy & implement applications based on system design, standard, quality, and performance from requirements | Do research and assessment based on requirement for further enhancement | Support production inquiries, and do investigation to have Root Cause Analysis for production issues | Experience with Mobile and Web Application Development minimum 1 years | Experience with Programming Java with OOP concept | Experience and understanding with technology stack & Framework: | Back end: NodeJS, Express, GraphQL | Front end: React & React Native | Database: NoSQL | Unit Test: JEST | Experience with development corporate internet banking (cash management) is a plus | Have integrity, initiative and detail. | Have a high commitment to complete work on time | Able to work under pressure | Have a good adaptability and fast learning",
         "https://id.linkedin.com/jobs/view/fullstack-developer-banking-industry-at-sigmatech-4235347495?position=25&pageNum=0&refId=V5pthpj15mtUVUCao%2BvbNg%3D%3D&trackingId=cC4kp8oIytm%2BeNQVcJgV%2FA%3D%3D"
        ],
        [
         "41",
         "Tenant Relation Senior Manager",
         "SuperAI (YC S22)",
         "Jakarta Metropolitan Area",
         "Jakarta Metropolitan Area",
         "Design and execute global community strategies aligned with product vision, user needs, and brand goals across diverse international markets. | Develop and manage culturally relevant community content strategies tailored to a global audience, especially for platforms like Discord and Twitter. | Organize and manage global community engagement programs including webinars, live Q&A sessions, community challenges, ambassador or advocate programs, and more. | Work closely with content, localization, and design teams to ensure high-quality communication and consistency across regions and platforms. | Proven ability to grow and manage digital communities across multiple regions and time zones, especially on platforms like Discord, Telegram, and X (Twitter). | Familiarity with community management tools (e.g., Discord bots, Notion, Typeform) and analytics platforms.",
         "Build, grow, and maintain a strong and active presence across global community platforms such as Discord, X (Twitter), Telegram, Reddit, and regional channels where needed. | Lead both online and offline community-building initiatives to strengthen engagement, trust, and brand loyalty in multiple regions. | Monitor global community discussions, address questions and concerns with empathy, and maintain a consistent, friendly brand voice across all regions. | Actively collect and synthesize feedback and insights from community members worldwide, and collaborate with internal teams (product, marketing, support) to improve user experience. | Stay up-to-date with community trends, platform best practices, and local user behavior across different cultures and markets. | 1–3 years of experience as a Community Manager or in a similar role, preferably managing international or multi-language communities in the tech, startup, or SaaS space. | Excellent written and verbal communication skills in English (fluency in other languages is a plus). | Experience working with or around tech or AI products, with the ability to explain concepts in a clear, accessible, and culturally sensitive way. | Strong interpersonal and cross-cultural communication skills; highly empathetic and adept at resolving issues across diverse user groups. | Experience managing large, diverse online communities and understanding of different community dynamics globally. | Self-motivated, adaptable, and capable of working independently as well as across time zones with global cross-functional teams.",
         "https://id.linkedin.com/jobs/view/community-manager-global-audience-at-superai-yc-s22-4223394130?position=9&pageNum=0&refId=3pflRLyxdFjf%2Bj8EQsuDCg%3D%3D&trackingId=Da1FBzsoPBr5kLckX9cLcA%3D%3D"
        ],
        [
         "48",
         "B2B & Complementary Procurement Staff",
         "Torch",
         "Indonesia",
         "Indonesia",
         "Collaborate with internal teams to understand design, material, and order specifications. | Manage the end-to-end procurement process, including order placement, supplier communication, and logistics tracking. | Analyze procurement data to identify cost-saving opportunities and optimize supplier performance. | Mitigate risks in the supply chain by developing contingency plans and maintaining a network of backup suppliers. | Bachelor’s degree in Supply Chain Management, Industrial Engineering, or a related field.",
         "Identify and establish partnerships with reliable suppliers for raw materials, merchandise, and complementary items tailored to B2B order requirements. | Conduct supplier assessments, audits, and negotiations to ensure high standards of quality, cost, and delivery timelines. | Execute procurement strategies aligned with Torch.id’s B2B operations and client-specific requirements. | Stay updated on market trends, material pricing, and emerging technologies in the fashion industry. | Negotiate competitive pricing and terms while ensuring ethical and sustainable procurement practices. | Ensure timely delivery of materials to meet production deadlines and client expectations. | Male | Min. 2 years of experience in procurement or supply chain management, preferably in the fashion or retail industry, experienced in handling B2B project fulfillment. | Proven experience in sourcing materials (e.g., fabrics, trims, accessories) and managing suppliers. | Strong negotiation, analytical, and problem-solving skills. | Proficiency in using procurement tools and ERP systems. | Familiarity with logistics, import/export processes, and vendor compliance requirements. | Agility to adapt to dynamic business needs and market conditions. | Excellent communication and collaboration skills to work with cross-functional teams. | Detail-oriented and organized with a commitment to meeting deadlines. | Passionate about innovation and contributing to Torch.id’s success story.",
         "https://id.linkedin.com/jobs/view/b2b-complementary-procurement-staff-at-torch-4083015200?position=14&pageNum=0&refId=ibFksicuIccwlpaUAEHVKw%3D%3D&trackingId=I140z3xxYG58rY9O1cvwxw%3D%3D"
        ],
        [
         "53",
         "Data Engineer (Junior)",
         "SIGMATECH",
         "Jakarta, Jakarta, Indonesia",
         " Indonesia",
         "Design, build, and maintain scalable and reliable data pipelines for collecting, transforming, and loading data from various sources. | Develop and implement data models and ETL (Extract, Transform, Load) processes. | Develop and execute QA (Quality Assurance) scenario forms to ensure the accuracy, completeness, and consistency of data. | Design and implement Entity-Relationship Diagrams (ERD) to model data structures and relationships. | Apply Agile methodologies in the development and delivery of data engineering solutions. | Data Engineer or in a similar data-focused role.",
         "Utilize Tableau to create insightful data visualizations and dashboards for business users. | Collaborate with data analysts and business stakeholders to understand their data requirements and deliver solutions that meet their needs. | Participate in system integration testing to validate the seamless flow of data between different systems. | Work extensively with MySQL databases for data storage, querying, and optimization. | Bachelor's degree in Computer Science, Data Science, Information Systems, or a related field. | Minimum of 1-2 years of proven experience as a | Hands-on experience with data warehousing concepts and ETL processes. | Proficient in using Tableau for data visualization and dashboard creation. | Experience in creating and executing QA scenario forms for data validation. | Familiarity with system integration testing principles and practices. | Solid understanding of database design principles and experience in creating and interpreting Entity-Relationship Diagrams (ERD). | Strong proficiency in MySQL, including writing complex SQL queries, data manipulation, and database administration basics. | Experience working in an Agile development environment. | Strong programming skills in at least one scripting language (e.g., Python). | Excellent analytical and problem-solving skills with a strong attention to detail. | Good communication and collaboration skills. | Ability to work independently and as part of a team.",
         "https://id.linkedin.com/jobs/view/data-engineer-junior-at-sigmatech-4213807162?position=60&pageNum=0&refId=uGD7Cp%2F%2BBbVGFwDwFYBl8A%3D%3D&trackingId=gLXoPcFvQzKw6jDmk90hXQ%3D%3D"
        ],
        [
         "63",
         "Accountant",
         "SKINTIFIC",
         "Gajahmungkur, Central Java, Indonesia",
         " Indonesia",
         "Team Leadership and Management: Manage and mentor the accounts receivable team, fostering a collaborative and results-oriented environment. | Distributor Relationship Management: Act as the primary point of contact for distributors regarding accounts receivable matters, proactively addressing inquiries and resolving disputes to maintain positive relationships. | Reporting and Analysis: Develop and maintain key AR metrics, prepare weekly and monthly reports, and analyze trends to identify areas for improvement in collection processes. | System Management: Utilize and optimize internal accounting software to manage AR functions effectively.",
         "Accounts Receivable Operations: Oversee all aspects of accounts receivable, including invoicing, payment processing, collections, and cash application, ensuring accuracy and efficiency. | Process Improvement: Evaluate current AR processes, identify inefficiencies, and implement best practices to streamline operations, reduce outstanding receivables, and improve cash flow. | Compliance and Internal Controls: Ensure adherence to company policies, accounting standards, and relevant regulations, and maintain strong internal controls to safeguard company assets. | Cross-Functional Collaboration: Collaborate with sales, customer service, and other departments to ensure seamless order-to-cash processes and facilitate timely resolution of billing issues. | Bachelor's degree in Accounting or Finance. | Minimum of 5 years of progressive experience in accounts receivable, with at least 2 years in a managerial or supervisory capacity. | Proven track record of successfully managing and improving AR processes. | Strong understanding of accounting principles (GAAP or IFRS) and financial statement preparation. | Good written and verbal communication skills in English, with the ability to effectively interact with internal and external stakeholders. | Solid understanding of Indonesian tax regulations related to accounts receivable. | Advanced proficiency in Microsoft Excel | Strong analytical, problem-solving, and decision-making skills. | Ability to work independently, prioritize tasks, and meet deadlines in a fast-paced environment. | Willingness to work on-site at our office in Mega Kuningan, Jakarta.",
         "https://id.linkedin.com/jobs/view/accounts-receivable-manager-at-skintific-4218017027?position=51&pageNum=0&refId=ZesvrCOPlaMtUPA3YiW7GA%3D%3D&trackingId=POU4BduxUtFdgw5Nt%2FHDCg%3D%3D"
        ],
        [
         "72",
         "Accounts Payable Accountant (6-Month Contract) - Middle East Team",
         "Eka Jaya Group",
         "Jakarta, Jakarta, Indonesia",
         " Indonesia",
         "Create and manage output and input tax invoices, draft tax refund letters, and handle return notes (purchase and sales). | Analyze issues using PICA and support ISO 9001:2015 implementation and contribute to continuous improvement programs (5S, Kaizen, etc.)",
         "Minimum GPA of 3.5 with a Bachelor's degree (S1) in Accounting | Strong understanding of accounting systems and administrative procedures | Having brevet A & B certification | In-depth knowledge of Indonesian tax rates, including PPh 21, PPh 23, PPh 4(2), PPh 15, PPh 22, PPh 26, VAT (PPN), and PPh Gross Up | Proficient in e-Billing for tax payments and experienced in using Coretax and tax-related applications | Ability to prepare Return Notes, Withholding Tax Slips, and tax reports (PPh & PPN) | Proficient in computer operations and common office software (MYOB, SAP Business One, SAP) | Detail-oriented, agile, and responsive, with excellent communication skills | Willing to be placed in Alam Sutera, Tangerang (WFO policy) | Verify supporting documents for tax calculations and compliance. | Calculate and withhold taxes on all relevant transactions, prepare tax and VAT recaps, including CSV files for reporting. | Coordinate with distributors, vendors, and outlets on tax matters, and organize and maintain tax documentation and filings.",
         "https://id.linkedin.com/jobs/view/accounting-tax-staff-at-eka-jaya-group-4216876455?position=12&pageNum=0&refId=6IHvDQP4HuOOtul2hSnVTw%3D%3D&trackingId=TwxjUjpUPeJ87hasRPQhTw%3D%3D"
        ],
        [
         "74",
         "Fullstack Developer (Site: Sumatera Selatan)",
         "Waresix",
         "Jakarta, Jakarta, Indonesia",
         " Indonesia",
         "Minimal 2 tahun di Fullstack Developer atau pekerjaan sejenis. | Bertanggung jawab untuk memastikan kesesuaian dari design web dan persyaratan pengalaman user, mengoptimalisasi halaman web untuk efisiensi yang maksimum, dan menjaga konsistensi brand di seluruh halaman web. | Bekerja bersama dengan tim Engineering Manager, Product Manager, dan Product Designer untuk membuat, menguji, dan menyebarkan produk.",
         "Minimal lulusan S1 di bidang Teknik, Ilmu Komputer, atau jurusan terkait. | Dapat menulis kode yang efisien dan bersih | Pemahaman OOP yang kuat | Berpengalaman dalam pengembangan situs web menggunakan Go, ReactJS dan kerangka kerja lainnya | Berpengalaman dalam merancang dan mengimplementasikan front-end situs web berbasis reaktif yang efisien | Berpengalaman dalam merancang dan mengimplementasikan struktur database yang efisien untuk server web | Berpengalaman dan memahami proses testing, mis. berkolaborasi dengan test automation framework untuk pengujian front-end dan back-end | Mengembangkan aplikasi tampilan web yang rapi dan tidak berat. | Meneliti, analisis, menguji, membuat tolak ukur, dan evaluasi teknologi baru. | Berkolaborasi sebagai bagian dari tim untuk membuat aplikasi yang diluncurkan tepat waktu. | Menjaga tampilan aplikasi yang sudah ada. | Menjaga server aplikasi yang sudah ada. | Membuat kode yang berkualitas tinggi, rapi, dan dapat dipelihara menggunakan praktik terbaik engineering (uji coba unit, kontrol sumber, integrasi berkelanjutan, otomatisasi, merencanakan bentuk, dsb.). | Menulis, mengelola, dan memperbaharui dokumentasi yang berkaitan dengan pengembangan. | Mengumpulkan dan menganalisa data, memproses dan membuat coding untuk menyelesaikan masalah dan mengidentifikasi pengembangan area. | Mengerti persyaratan proyek, menjelaskan kasus pengujian untuk pengembangan, dan mengikuti alur kerja pengembangan software. | Menulis, mengelola, dan memperbaharui proses pengembangan pada tools manajemen proyek yang sudah ada. | Memiliki pemahaman terkait bisnis dan produk, secara konstan mengoptimalisasi, identifikasi, dan memperbaiki produk, serta meningkatkan stabilitas dan pengalaman pengguna. | Optimalisasi aplikasi untuk performa dan skalabilitas maksimum.",
         "https://id.linkedin.com/jobs/view/fullstack-engineer-at-waresix-4193171780?position=16&pageNum=0&refId=voxiJA5dU94xqTZ6NCIpMg%3D%3D&trackingId=2nt%2Bqhe34hjHe%2FeOz%2F8qYA%3D%3D"
        ],
        [
         "96",
         "Software Engineer 2 - Fullstack",
         "Vascomm",
         "Jakarta, Jakarta, Indonesia",
         " Indonesia",
         "Pengalaman kerja minimal 2 tahun sebagai Fullstack Developer.",
         "Mengembangkan aplikasi berbasis backend menggunakan Golang. | Mengintegrasikan aplikasi dengan berbagai layanan pihak ketiga sesuai kebutuhan proyek. | Berkolaborasi dengan tim frontend dan backend untuk memastikan kualitas dan performa aplikasi. | Menganalisis kebutuhan sistem dan menerapkan solusi terbaik untuk mendukung tujuan proyek. | Mengoptimalkan aplikasi untuk performa dan skalabilitas tinggi. | Melakukan troubleshooting dan debugging pada aplikasi. | Penguasaan yang solid di Golang. | Pemahaman mendalam tentang REST API dan Microservices Architecture. | Pengalaman dengan database relasional (MySQL/PostgreSQL) dan/atau NoSQL (MongoDB, Redis). | Familiar dengan sistem kontrol versi seperti Git. | Kemampuan problem-solving yang baik dan dapat bekerja secara mandiri. | Siap bergabung secepatnya.",
         "https://id.linkedin.com/jobs/view/fullstack-developer-golang-at-vascomm-4078447705?position=38&pageNum=0&refId=BamY%2ByY7G22sCkmQVq%2FUnQ%3D%3D&trackingId=8wJyrkOGd5vkPhoQVcbZeg%3D%3D"
        ],
        [
         "121",
         "Sales Consultant",
         "Ogilvy",
         "South Jakarta, Jakarta, Indonesia",
         " Indonesia",
         "Support digital campaign planning by aligning UX efforts with broader brand and business goals. | Participate in A/B testing planning and post-analysis for continuous optimization. | Advocate for both user needs and business goals through design and storytelling.",
         "Lead the development of intuitive and effective digital experiences through user research, persona development, wireframing, and usability testing. | Create user journey maps and low-to-high fidelity prototypes that bring strategies to life. | Audit existing experiences and provide actionable recommendations for optimization. | Analyze user behavior across channels and touchpoints to uncover insights and inform experience strategy. | Partner with creative and strategy teams to ensure user-first thinking is embedded in ideas and execution. | Work closely with CRM strategists and data analysts to inform personalization, customer segmentation, and experience logic. | Support the crafting of end-to-end journeys that combine UX best practices with CRM goals. | Act as a connector between Strategy, Experience, Creative, and Tech teams. | Help facilitate ideation workshops and co-creation sessions with internal and client teams. | Digital Strategy Mindset: Strong understanding of digital behavior, trends, and channel ecosystems. | UX Design Experience: Solid experience in user-centered design processes—user research, journey mapping, wireframing, and prototyping. | CRM & Data Familiarity: Exposure to CRM journeys, data-driven decision making, and customer lifecycle mapping is a plus. | Tools Proficiency: Comfortable with Figma, Adobe XD, Sketch, and other UX or collaboration tools. | Analytical Thinking: Able to interpret behavioral data, journey drop-offs, and testing results to improve UX and strategy. | Collaborative & Curious: Eager to partner with strategy, creative, tech, and CRM teams. Always curious to learn more and connect the dots.",
         "https://id.linkedin.com/jobs/view/user-experience-ux-strategist-at-ogilvy-4189293162?position=30&pageNum=0&refId=istrj5h1Hc0qtsUyKJugZQ%3D%3D&trackingId=FLAAQKse1cHMZnr%2FCMpWrA%3D%3D"
        ],
        [
         "135",
         "Accounting & Tax Lead",
         "SEPHORA",
         "South Jakarta, Jakarta, Indonesia",
         " Indonesia",
         "Taking responsibility for accounts payable tasks with efficiency and accuracy, including vendor invoice processing for a high volume of invoices and disbursements, vendor communication, internal control monitoring, developing and maintaining high quality and efficiency",
         "Ensuring proper controls on disbursements and electronic payments | Achieving required deadlines for monthly, quarterly, half-year and year-end close | A Bachelor’s degree in Finance, Business, Accounting, or related field preferred | At least 3 years in an accounting function | Large ERP AP System experience, SAP preferred | Fluent in English, experience working or studying in an English language environment is sufficient | Good communicator and able to build effective relationships with the team and vendors | Ability to work in a dynamic environment and is solution-oriented | The people. You will be surrounded by some of the most talented leaders and teams – people you can be proud to work with. | The learning. We invest in training and developing our teams, and you will continue evolving and building your skills through personalized career plans. | The culture. As a leading beauty retailer, backed by the LVMH luxury brand, our reach is broad and our impact is global. Yet there’s always room to explore. It’s in the Sephora DNA to champion a world of inspiration and inclusion where everyone can celebrate their beauty.",
         "https://id.linkedin.com/jobs/view/accounts-payable-accountant-6-month-contract-middle-east-team-at-sephora-4204586556?position=28&pageNum=0&refId=Ug6HLt8tIXxlrqSssMcHSw%3D%3D&trackingId=uYLqmfPQe%2FMylIA8yHfQsA%3D%3D"
        ],
        [
         "136",
         "Legal Supervisor",
         "Indepay | Setara Networks",
         "East Jakarta, Jakarta, Indonesia",
         " Indonesia",
         "Played a significant role in deploying new products or services, setting up processes like SOPs, SLAs, and onboarding toolkits for smooth execution and timely delivery | You can multitask and manage multiple programs simultaneously | An opportunity to define and develop a product for the global market",
         "Proven experience in building and managing strategic partnerships across industries such as F&B, Digital, Telco, and Fintech, demonstrating a strong understanding of market segmentation and partner ecosystems | Successfully collaborated with C-level executives to negotiate and execute impactful deals, aligning partnership objectives with business strategies | Background in market research, marketing communications, branding, and deal negotiations, with measurable contributions to revenue and market presence | Experience leading initiatives that drive organizational growth by introducing innovative products or services into competitive markets | Work on strategic partnership of each Ancillary Revenue projects (market research,commercial, branding, marketing communications, deal negotiations, market segmentations | Sourcing and executing strategic partnerships across F&B, Digital, Telco, and Fintech partners | Experience with C-level executives | Evolve business and market strategy based on research, data, and industry trends | Define and drive large initiatives across organizational boundaries and represent and advocate complex business or technical concepts internally and externally | Led new product expansion across Indonesia market | Ensure Ancillary Products deployment to be on time and well executed | Set up SOP, SLA, and onboarding toolkits for new product expansion | Create branding and marketing collateral for new product expansion | Setup branding and marketing communication strategy for new product expansion | Collaborate with multiple division heads to identify winning touch points both online and offline for new product expansion | You have more than 6 years of relevant experience in a leadership role | You have good exposure to Fintech products and financial institutions, F&B, Digital, Telcos and have an understanding of financial regulations | You have successfully spearheaded the introduction of multiple products in markets in your previous engagements | You have implemented proven strategies to measure the success of product launch through market research and customer feedback | You have headed multiple pilot projects simultaneously with a team of passionate and talented individuals | You have experience in various project management methodologies and tools, and have managed end-to-end deliveries of multiple projects | You are experienced in creating and managing project plans, in MPP or equivalent, spanning thousands of line items, with resources and budget requirements clearly articulated | You are an expert in creating a work-breakdown structure and WBS dictionary, and in identifying and documenting risks and dependencies for each element | You preferably have PMP and/or Prince2 certifications | You have a leadership DNA with proven ability to excite and lead a cross-functional team | You are an expert in conflict resolution and can bring everybody on the same page | You preferably have payment domain knowledge and have a background in an early stage product company | You thrive in a dynamic and fast paced environment | You deliver on your commitments without fail | You have an analytical and data-driven approach in day-to-day work | You are always energetic and work well under pressure | You are affable and know your way around the organization | You have excellent communication skills and have the ability to impact and influence | You have an unparalleled attitude and determination to succeed against all odds | You can multi-task and have excellent time management and prioritisation skills | You are a strategic thinker who understands business opportunities to create a competitive advantage | You have excellent problem solving and analytical skills, and can think outside the box to proactively provide the right solution | You have a keen eye for detail | You stay positive and bring out the best in a team | You are independent, self-motivated and a fast learner | Patience and perseverance are your key attributes | An opportunity to make a positive impact on the world by providing basic financial services to unbanked and underbanked people worldwide | An opportunity to be part of the core team who will build a global company and define its culture and processes | An opportunity to move horizontally or vertically across geographies through multiple career paths | An opportunity to work at the frontier of modern banking solutions technology",
         "https://id.linkedin.com/jobs/view/strategic-partnerships-manager-at-indepay-setara-networks-4225549169?position=16&pageNum=0&refId=0uJ4XLfz2eA3E8smv2BCVA%3D%3D&trackingId=fSoO5TMgTHTU2pjgKUqRVQ%3D%3D"
        ],
        [
         "149",
         "Demand Planning - Business Intelligence & Planning, ShopeeFood",
         "Shopee",
         "Jakarta, Indonesia",
         " Indonesia",
         "Develop and run end-to-end experimentation to identify the most effective pricing and growth strategy to achieve company goals | To manage and operate all growth-related features including but not limited to subscriptions, algorithm-backed promotion, and recommendation features | Critically evaluate and define business metrics; develop an analysis that leads to actionable insights to support the continuous optimization of growth strategy | Bachelor Degree in Finance, Business, Accountancy, Management, Engineering or relevant disciplines | Ability to analyze complex problems, identify opportunities and formulate effective strategies to achieve business objectives | Excellent communication skill to communicate and manage various stakeholders | Ability to thrive in a fast-paced and dynamic environment, and to adjust strategies and plans in response to changing circumstances and market conditions",
         "Prepare detailed decks and reports of financial and operational metrics to update stakeholders on progress and performance | Proactively initiate and execute ideas through collaborating with BD, Marketing, Ops, and Product teams to reach team KR and goals | Identify opportunities for automation and optimization of various promotion processes | Preferably 3-5 years of working experience in Audit, Financial Planning, Budget Management, Cost Analysis, or similar role experience in the food-delivery or e-commerce Industry would be a plus | High proficiency in Microsoft Excel and have fundamental knowledge of Structured Query Language (SQL) | Experienced by conducting the AB Testing or Experiments | Strong problem-solving skills, high attention to detail, and positive attitude",
         "https://id.linkedin.com/jobs/view/demand-planning-business-intelligence-planning-shopeefood-at-shopee-4027736130?position=11&pageNum=0&refId=YZWh%2FYBSTDzrBECcRLYf8w%3D%3D&trackingId=OFAzEVErfYIbv3eG%2FfXh1A%3D%3D"
        ],
        [
         "161",
         "Associate Accounting Manager (Contract)",
         "Ogilvy New York",
         "Jakarta Metropolitan Area",
         "Jakarta Metropolitan Area",
         "Manage and monitor account payable verification and payment to vendors",
         "Bachelor (or above) degree in Accounting | Minimum GPA 3.25 | At least two to four years of experience in accounting | Good command of English both verbal and written | Ability to work independently, proactively, effectively and with team | Good knowledge in basic computer system such as microsoft excel, word, powerpoint, etc | Complete month end closing on accurate and timely manner | Record general ledger transactions and entries properly and reconcile to supporting information | Prepare and record journal adjustments | Prepare detailed monthly report, detailed listing and analysis | Assist with analyzing financial statements on a monthly basis and report on variances | Monitor, invoice and collect outstanding account receivable on regular basis | Assist in resolving billing issues | Verifies expense claim reimbursement and initiate payment | Assist in resolving payment issues | Assist in supporting annual financial audit and any ad-hoc assignment as needed | Prepare and maintain filling documentation",
         "https://id.linkedin.com/jobs/view/accountant-at-ogilvy-new-york-4233577211?position=35&pageNum=0&refId=ZesvrCOPlaMtUPA3YiW7GA%3D%3D&trackingId=eWklHb2EcXN%2F1nIO6jevRA%3D%3D"
        ],
        [
         "165",
         "QA Manual Freelancer",
         "SIGMATECH",
         "Sidoarjo, East Java, Indonesia",
         " Indonesia",
         "Familiar with Agile software development | Develop Test Strategy | Develops Test plans for functional testing | Develop & Support manual system testing & performance",
         "Experience with testing and performance test application (web and mobile) minimum 2 years | Experience with creating test case for manual testing | Basic knowledge on SQL Query and No SQL and API testing | Having experience in testing tools like: JIRA, Testrail, Confluence, Postman, Database IDE | Have integrity, initiative and detail. | Have a high commitment to complete work on time | Able to work under pressure | Have a good adaptability and fast learning | Documents all test results in logs and reports",
         "https://id.linkedin.com/jobs/view/qa-manual-middle-level-banking-industry-at-sigmatech-4234296150?position=55&pageNum=0&refId=o00UzMy2f5VaqxzQQbQ2bw%3D%3D&trackingId=YH8dRfQAEV9BVyA%2FuzEVwg%3D%3D"
        ],
        [
         "172",
         "Head of Product",
         "Concentrix",
         "Jakarta Metropolitan Area",
         "Jakarta Metropolitan Area",
         "Identify performance related issues, develop an action plan for improvement, implement corrective action, up to and including termination of employment | Stay current on internal work processes, policies and procedures. Attend required manager development training | Manage the employment status of call center associates and participate in the transfer, promotions or regularization of call center associates, which is necessary before any such employee-movement is made | Exercises independent judgment and discretion in the performance of the said main function as a means to implement management policies | Exercises authority to manage the employment status of a group of employees (firing, promotion, regularization, etc.) including identifying and addressing misconduct, policy and process violations of call center associates | Stay current on internal work processes, management policies and procedures and ensures implementation of the same Implement management policies | Support and manage the program together with other Team Leaders and Managers | Manage team members on their performance on a regular basis, and write and deliver performance appraisal. | The Team Leader’s role is a managerial level position, a position reposed with trust and confidence.",
         "Responsible for the day-to-day supervision of a group of call center associates including work and attendance monitoring in accordance with organization policy and applicable legal requirements | Effectively coach direct reports on their performance on a regular basis to ensure performance metrics are achieved at a minimum weekly | Ensure service delivered to our customers meets contractual Key Performance Indicator (‘KPIs’) and financial expectations | Communicate expectations to employees and provide timely updates | Provide subject matter expertise in handling escalated customer calls as needed | Conduct Team Meetings to ensure expedient communication of relevant information and as an open forum for input. Schedule and organize team activities | Promote the Concentrix values through both behavior and attitude, including being an advocate for team members | Associate's degree in related field with two to four years of relevant experience preferred | Highly motivated individual with skills to develop and coach team members to achieve performance expectations | Work well under pressure and follow through on items to completion | Strong communication skills, both written and verbal | Ability to lead team in multi-tasking, prioritization, and meeting timelines on deliverable | Ability to mentor, coach and provide direction to a team of employees | Willingness to work a flexible schedule | Providing input into selecting, training, developing, and completing performance appraisal of work group(s) in accordance with the organization’s policies and applicable legal requirements",
         "https://id.linkedin.com/jobs/view/team-leader-operations-at-concentrix-4233797046?position=57&pageNum=0&refId=istrj5h1Hc0qtsUyKJugZQ%3D%3D&trackingId=4V4T7smC8auCi4g9bIyWvg%3D%3D"
        ],
        [
         "173",
         "ACCOUNT CONTROLLER 2 (General Accounting)",
         "PT Ultra Sakti",
         "Bogor, West Java, Indonesia",
         " Indonesia",
         "Manage and review all expense Accounting Activities ensuring accuracy, compliance and efficiency in reporting",
         "Fully understand the requirements to ensure compliance with local tax and accounting obligations | Do GL reconciliation ensure the accuracy all the transaction recorded in accounting system | Support monthly and annual closing financial statement | Assist with analytical reviews of monthly, quarterly and annual financials | Participate in special projects as deemed necessary",
         "https://id.linkedin.com/jobs/view/general-accountant-at-pt-ultra-sakti-4226097147?position=33&pageNum=0&refId=ZesvrCOPlaMtUPA3YiW7GA%3D%3D&trackingId=zq0I44O1X519btrgVDH6tg%3D%3D"
        ],
        [
         "177",
         "Sample Head",
         "Motel Rocks",
         "Kuta Untara, Bali, Indonesia",
         " Indonesia",
         "Provide managerial leadership to the Garment Technical team | Bonus scheme for employees, paid out twice a year at management discretion",
         "Possesses in-depth knowledge of knitwear’s & woven sewing process and experience in relevant technical fields | Understand customer requirements related to garment design and fit | Develop new garment constructions, sewing/presentation methods, and optimal machine settings in compliance with customer requirements | Develop sewing skills of the Sample Room operator | Continuously improve existing sewing methods and garment constructions to reduce the standard minute value (SMV) and enhance garment quality | Participate in the pre-production process and provide technical support to the product teams as needed | Resolve sewing-related production issues as needed | Take accountability for growing and continuously improving oneself | Minimum 5 years experience in garments ladies dress & menswear (Knitwear & Woven) | Garment making and construction technical expertise | Knowledge and skill of measuring patterns before conversion to sewing | Sewing skills | Garment fitting skills | Computer literacy | Has the drive to lead, engage and enable teams and coach individual team members | Has the drive to meet or exceed a standard of excellence on an ongoing basis | Has the drive to systematically seek out information about things and issues to resolve problems | Competitive salary in line with industry benchmarking | A comprehensive health and social security package | Team socials and meetups | Monthly well-being activities to support your health and wellbeing | Tailored progression pathways | Motel is a growth mentality company!",
         "https://id.linkedin.com/jobs/view/sample-head-at-motel-rocks-4196411177?position=4&pageNum=0&refId=ibFksicuIccwlpaUAEHVKw%3D%3D&trackingId=6oIiMtBIJEmM3zBKaaZmng%3D%3D"
        ],
        [
         "179",
         "Akuntansi dan Perpajakan / Tax accountant",
         "Device Technologies",
         "Bandung, Banten, Indonesia",
         " Indonesia",
         "Support the Asia management team with reporting",
         "Accounts Payable: | Accounts Receivable: | Financial Accounting: | Any other duties as assigned | Bachelor's Degree or higher in Accounting, Finance, or related field. | Preferably with 3 - 5 years of relevant experience | CPA or equivalent professional accounting certification is an advantage. | Strong knowledge of Indonesian tax laws and financial regulations. | Proficient in accounting software (e.g., SAP, Oracle, or other ERP systems) and Microsoft Office, especially Excel. | Strong analytical, organizational, and problem-solving skills. | Take pride in their work with a high level of accuracy under pressure.",
         "https://id.linkedin.com/jobs/view/financial-accountant-at-device-technologies-4221960966?position=24&pageNum=0&refId=6IHvDQP4HuOOtul2hSnVTw%3D%3D&trackingId=zcjzCgumF7n7amx8%2FD6QJQ%3D%3D"
        ],
        [
         "199",
         "Head of Women Fashion",
         "Delamibrands",
         "Jakarta, Indonesia",
         " Indonesia",
         "Final university student or recent graduate majoring in Fashion Design, Garment Engineering, Textile, or related fields | Proficient in design software such as Adobe Illustrator, Photoshop, and other technical tools",
         "Assist in creating and updating tech packs (technical specification sheets) | Support in measuring and reviewing garment samples (1st fit, 2nd fit, pre-production) | Document fit comments from fitting sessions | Assist in creating technical sketches/flat sketches using software such as Adobe Illustrator | Help check garment construction details (stitching, finishing, trimming, etc.) | Basic understanding of pattern making, garment construction, and sizing standards | Willing to attend on-site (Alam Sutera)",
         "https://id.linkedin.com/jobs/view/intern-technical-designer-product-development-at-delamibrands-4231416641?position=59&pageNum=0&refId=472psk1mCs9vnyS5%2Fn35qg%3D%3D&trackingId=c3cuq6kl0X%2BEpWNNEQTojA%3D%3D"
        ],
        [
         "200",
         "Fashion Designer",
         "Motel Rocks",
         "Pekalongan, Central Java, Indonesia",
         " Indonesia",
         "Provide managerial leadership to the Garment Technical team | Bonus scheme for employees, paid out twice a year at management discretion",
         "Possesses in-depth knowledge of knitwear’s & woven sewing process and experience in relevant technical fields | Understand customer requirements related to garment design and fit | Develop new garment constructions, sewing/presentation methods, and optimal machine settings in compliance with customer requirements | Develop sewing skills of the Sample Room operator | Continuously improve existing sewing methods and garment constructions to reduce the standard minute value (SMV) and enhance garment quality | Participate in the pre-production process and provide technical support to the product teams as needed | Resolve sewing-related production issues as needed | Take accountability for growing and continuously improving oneself | Minimum 5 years experience in garments ladies dress & menswear (Knitwear & Woven) | Garment making and construction technical expertise | Knowledge and skill of measuring patterns before conversion to sewing | Sewing skills | Garment fitting skills | Computer literacy | Has the drive to lead, engage and enable teams and coach individual team members | Has the drive to meet or exceed a standard of excellence on an ongoing basis | Has the drive to systematically seek out information about things and issues to resolve problems | Competitive salary in line with industry benchmarking | A comprehensive health and social security package | Team socials and meetups | Monthly well-being activities to support your health and wellbeing | Tailored progression pathways | Motel is a growth mentality company!",
         "https://id.linkedin.com/jobs/view/sample-head-at-motel-rocks-4196411177?position=35&pageNum=0&refId=472psk1mCs9vnyS5%2Fn35qg%3D%3D&trackingId=%2B70rDBXwIs7t2g%2B6KtqHSw%3D%3D"
        ],
        [
         "238",
         "Financial Accountant",
         "SEPHORA",
         "Jakarta, Indonesia",
         " Indonesia",
         "Taking responsibility for accounts payable tasks with efficiency and accuracy, including vendor invoice processing for a high volume of invoices and disbursements, vendor communication, internal control monitoring, developing and maintaining high quality and efficiency",
         "Ensuring proper controls on disbursements and electronic payments | Achieving required deadlines for monthly, quarterly, half-year and year-end close | A Bachelor’s degree in Finance, Business, Accounting, or related field preferred | At least 3 years in an accounting function | Large ERP AP System experience, SAP preferred | Fluent in English, experience working or studying in an English language environment is sufficient | Good communicator and able to build effective relationships with the team and vendors | Ability to work in a dynamic environment and is solution-oriented | The people. You will be surrounded by some of the most talented leaders and teams – people you can be proud to work with. | The learning. We invest in training and developing our teams, and you will continue evolving and building your skills through personalized career plans. | The culture. As a leading beauty retailer, backed by the LVMH luxury brand, our reach is broad and our impact is global. Yet there’s always room to explore. It’s in the Sephora DNA to champion a world of inspiration and inclusion where everyone can celebrate their beauty.",
         "https://id.linkedin.com/jobs/view/accounts-payable-accountant-6-month-contract-middle-east-team-at-sephora-4204586556?position=27&pageNum=0&refId=ZesvrCOPlaMtUPA3YiW7GA%3D%3D&trackingId=C3VxlkTgpgU%2FXFkpHiWG5w%3D%3D"
        ],
        [
         "251",
         "Tenant Relation Senior Manager",
         "Multi Bintang Indonesia",
         "Jakarta Metropolitan Area",
         "Jakarta Metropolitan Area",
         "Develop and implement sustainability strategies that align with Multi Bintang Indonesia’s business goals and HEINEKEN’s global sustainability vision. | Lead and manage sustainability programs focusing on carbon reduction, water conservation, and community empowerment. | Develop strong stakeholder relationships to ensure continued support and advocacy for sustainability initiatives. | Manage external agencies, consultants, and sustainability memberships, ensuring effective budget utilization and return on investment. | Lead and develop a high-performing sustainability team, fostering a culture of collaboration, innovation, and impact-driven results.",
         "Engage with government agencies and industry partners (e.g., PLN, PDAM, regency & central governments, international/multilateral organizations) to advocate for competitive carbon pricing, water conservation and community empowerment initiatives. | Drive the company’s Extended Producer Responsibility (EPR) efforts and lead advocacy strategies and compliance programs in line with prevailing environmental regulations & standards and emerging trends. | Support fundraising efforts and stakeholder engagement for the Sahabat Multi Bintang Indonesia Foundation, ensuring meaningful social impact. | Work collaboratively with internal departments through the Sustainability & Responsibility Working Groups (S&R Forum) to integrate sustainability into all business operations. | Utilize data and analytics to measure, report, and communicate sustainability performance. | Communicate sustainability initiatives and progress effectively to internal and external stakeholders. | Position Multi Bintang Indonesia as a leading sustainability-driven company, representing the organization in key industry events and sustainability forums. | Education: Bachelor’s Degree or higher in Environmental Science, Business, Public Policy, or a related field. . | Experience: | Skills & Competencies: | Protect yourself from scams on behalf of Multi Bintang Indonesia. We will NEVER ask for payment to process documents or anything during your job application process. If you need to verify directly with us to ensure your job application process remains secure, please feel free to get in touch with us at career.mbi@heineken.com (our official email only with the domain @heineken.com). | By submitting your job application, you acknowledge that Multi Bintang Indonesia may share your data with third-party entities appointed by MBI for recruitment purposes. Your information will be treated with confidentiality and in compliance with data protection laws. If you have concerns or wish to withdraw consent, contact us at career.mbi@heineken.com.",
         "https://id.linkedin.com/jobs/view/strategic-sustainability-manager-at-multi-bintang-indonesia-4207766373?position=10&pageNum=0&refId=0uJ4XLfz2eA3E8smv2BCVA%3D%3D&trackingId=X9T0v1rfFusOR4P8fQCUZg%3D%3D"
        ],
        [
         "255",
         "Merchandising Senior Assistant Manager",
         "PT. Erajaya Swasembada, Tbk.",
         "Jakarta, Indonesia",
         " Indonesia",
         "Managing Product with Demand Planning (tactical promotion and selling forecast) | Maintain DOS & Aging Stock at at most effective level & keep low for aging stock (planning to reduce aging stocks and damage unit by selling to third party)",
         "Managing Product Gross Profit to maximize return on investment | Creating program and marketing strategy with marketing team, sales, finance, accounting, warehouse, logistic, CRM and other | Bachelor degree from any major | Experienced minimum 3-5 years in the same experience | Good communication in English Language is a must | Good team player and agile person to catch up with fast pace & dynamic environment | Willing to travel",
         "https://id.linkedin.com/jobs/view/merchandising-senior-assistant-manager-at-pt-erajaya-swasembada-tbk-4222067241?position=11&pageNum=0&refId=ibFksicuIccwlpaUAEHVKw%3D%3D&trackingId=4vBZqV7YvhWJb9x0ieALRA%3D%3D"
        ],
        [
         "260",
         "APAC Graduate Program-Leadership Experience and Accelerated Development (LEAD)  - OPERATIONS",
         "Avery Dennison",
         "Kecamatan Bekasi Utara, West Java, Indonesia",
         " Indonesia",
         "60 mins Interview with Hiring Manager & Human Resources Manager.",
         "You will rotate within cross functions like Operations, Supply Chain,Sales , Marketing | Each rotation can vary from 6 to 8 months. | You will be working on live crucial projects that impact our day to day business. | You will develop your technical, functional and leadership skills. | You will have a training curriculum to develop your leadership skills. | You will be assigned a Mentor. | Embrace Challenges: You thrive on the impossible, turning hurdles into opportunities. | Unleash Innovation: Innovation is your playground, where unconventional ideas come to life. | Mindsponge for Knowledge: You're a quick absorber, dissecting problems with original solutions. | Fuelled by Determination: Challenges fuel your drive, overcoming odds with unwavering resolve. | Team Dynamo: Collaboration ignites your energy, amplifying strength within teams. | Influential Aura: Your credibility inspires and guides and your ability to get along with others builds connections. | SHL Online Assessment | Face to Face Assessment Centre Prep Day in mid June | Face to Face Assessment Centre in mid June. | 0 - 2 years of work experience | Degree is any of the following fields : Science, Technology, Engineering. | You must be able to Join us in the 1st week of Aug 2025.",
         "https://id.linkedin.com/jobs/view/apac-graduate-program-leadership-experience-and-accelerated-development-lead-operations-at-avery-dennison-4209803591?position=39&pageNum=0&refId=ibFksicuIccwlpaUAEHVKw%3D%3D&trackingId=UTaTOLg5l1DkASWImFHiWA%3D%3D"
        ],
        [
         "264",
         "Community Manager (Global Audience)",
         "Multi Bintang Indonesia",
         "Jakarta, Jakarta, Indonesia",
         " Indonesia",
         "Develop and implement sustainability strategies that align with Multi Bintang Indonesia’s business goals and HEINEKEN’s global sustainability vision. | Lead and manage sustainability programs focusing on carbon reduction, water conservation, and community empowerment. | Develop strong stakeholder relationships to ensure continued support and advocacy for sustainability initiatives. | Manage external agencies, consultants, and sustainability memberships, ensuring effective budget utilization and return on investment. | Lead and develop a high-performing sustainability team, fostering a culture of collaboration, innovation, and impact-driven results.",
         "Engage with government agencies and industry partners (e.g., PLN, PDAM, regency & central governments, international/multilateral organizations) to advocate for competitive carbon pricing, water conservation and community empowerment initiatives. | Drive the company’s Extended Producer Responsibility (EPR) efforts and lead advocacy strategies and compliance programs in line with prevailing environmental regulations & standards and emerging trends. | Support fundraising efforts and stakeholder engagement for the Sahabat Multi Bintang Indonesia Foundation, ensuring meaningful social impact. | Work collaboratively with internal departments through the Sustainability & Responsibility Working Groups (S&R Forum) to integrate sustainability into all business operations. | Utilize data and analytics to measure, report, and communicate sustainability performance. | Communicate sustainability initiatives and progress effectively to internal and external stakeholders. | Position Multi Bintang Indonesia as a leading sustainability-driven company, representing the organization in key industry events and sustainability forums. | Education: Bachelor’s Degree or higher in Environmental Science, Business, Public Policy, or a related field. . | Experience: | Skills & Competencies: | Protect yourself from scams on behalf of Multi Bintang Indonesia. We will NEVER ask for payment to process documents or anything during your job application process. If you need to verify directly with us to ensure your job application process remains secure, please feel free to get in touch with us at career.mbi@heineken.com (our official email only with the domain @heineken.com). | By submitting your job application, you acknowledge that Multi Bintang Indonesia may share your data with third-party entities appointed by MBI for recruitment purposes. Your information will be treated with confidentiality and in compliance with data protection laws. If you have concerns or wish to withdraw consent, contact us at career.mbi@heineken.com.",
         "https://id.linkedin.com/jobs/view/strategic-sustainability-manager-at-multi-bintang-indonesia-4207766373?position=10&pageNum=0&refId=3pflRLyxdFjf%2Bj8EQsuDCg%3D%3D&trackingId=HzntxMN2%2Br4XtX0FrUz14A%3D%3D"
        ],
        [
         "265",
         "Accountant",
         "Ogilvy New York",
         "Tangerang, Banten, Indonesia",
         " Indonesia",
         "Manage and monitor account payable verification and payment to vendors",
         "Bachelor (or above) degree in Accounting | Minimum GPA 3.25 | At least two to four years of experience in accounting | Good command of English both verbal and written | Ability to work independently, proactively, effectively and with team | Good knowledge in basic computer system such as microsoft excel, word, powerpoint, etc | Complete month end closing on accurate and timely manner | Record general ledger transactions and entries properly and reconcile to supporting information | Prepare and record journal adjustments | Prepare detailed monthly report, detailed listing and analysis | Assist with analyzing financial statements on a monthly basis and report on variances | Monitor, invoice and collect outstanding account receivable on regular basis | Assist in resolving billing issues | Verifies expense claim reimbursement and initiate payment | Assist in resolving payment issues | Assist in supporting annual financial audit and any ad-hoc assignment as needed | Prepare and maintain filling documentation",
         "https://id.linkedin.com/jobs/view/accountant-at-ogilvy-new-york-4233577211?position=18&pageNum=0&refId=KfxuNgVWJ%2FX9BJ8VNraL3Q%3D%3D&trackingId=T7peKMz%2FRvbZonfqDR6TFA%3D%3D"
        ],
        [
         "266",
         "Accounting & Tax Staff",
         "EY",
         "Kota Tangerang, Banten, Indonesia",
         " Indonesia",
         "Participate and assist in preparing for meetings with management teams | Develop and maintain productive working relationships with client personnel",
         "Work effectively as a member of a worldwide network of professional advisors, sharing responsibility, providing support, maintaining communication and updating senior team members on progress | Collaborate with a team of tax professionals to combine diverse cross-border experience with local tax knowledge across a broad spectrum of industries | Assist in preparing reports and schedules that will be delivered to clients and other parties | Build strong internal relationships within Tax and across other service lines | Contribute to people initiatives, including recruiting and retaining tax professionals | Maintain an educational program to develop personal skills on an ongoing basis | Understand and follow workplace policies and procedures | Candidate must possess at least a Bachelor's Degree, preferably in Accounting and Fiscal Administration from reputable overseas or local Universities, with minimum GPA 3.20 out of 4.00 or equivalent. | Brevet certification will be a distinct advantage | Should be capable of working effectively under pressure and meeting established goals & objectives within the specific deadline, while maintaining high quality at all times. | Excellent communication, presentation and interpersonal skills in dealing with people at all professional levels will also be highly valued. | Fluency in English is mandatory both verbal and written. | Should be proactive, highly motivated and able to work effectively in a team. | Familiarity with MS Office application (Excel, Word, PowerPoint) is essential. | Experience in a similar role in another reputable accounting firm will be a distinct advantage.",
         "https://id.linkedin.com/jobs/view/tax-consultant-at-ey-3940827630?position=16&pageNum=0&refId=6IHvDQP4HuOOtul2hSnVTw%3D%3D&trackingId=fLzwAm9BwhcO8K47PFMDOw%3D%3D"
        ],
        [
         "278",
         "Senior Accountant",
         "Apical",
         "Jakarta Metropolitan Area",
         "Jakarta Metropolitan Area",
         "Provide tax advisory and planning strategies to optimize tax liabilities.",
         "Prepare and file Corporate Income Tax (CIT) returns in compliance with local tax regulations. | Ensure timely and accurate tax reporting, including tax calculations and provisions. | Review financial statements to assess tax implications and reconcile tax accounts. | Handle tax audits, liaise with tax authorities, and respond to tax-related queries. | Monitor changes in tax laws and regulations, assessing their impact on the company. | Assist in transfer pricing documentation and compliance. | Coordinate with internal finance teams and external auditors regarding tax matters. | Maintain proper documentation and records for tax filing and compliance.",
         "https://id.linkedin.com/jobs/view/specialist-tax-at-apical-4149479719?position=57&pageNum=0&refId=Ug6HLt8tIXxlrqSssMcHSw%3D%3D&trackingId=yTppiAW%2FelQ9CfT5w4%2FLkw%3D%3D"
        ],
        [
         "288",
         "Senior Software Engineer - Fullstack",
         "Vascomm",
         "Jakarta, Jakarta, Indonesia",
         " Indonesia",
         "Pengalaman kerja minimal 2 tahun sebagai Fullstack Developer.",
         "Mengembangkan aplikasi berbasis backend menggunakan Golang. | Mengintegrasikan aplikasi dengan berbagai layanan pihak ketiga sesuai kebutuhan proyek. | Berkolaborasi dengan tim frontend dan backend untuk memastikan kualitas dan performa aplikasi. | Menganalisis kebutuhan sistem dan menerapkan solusi terbaik untuk mendukung tujuan proyek. | Mengoptimalkan aplikasi untuk performa dan skalabilitas tinggi. | Melakukan troubleshooting dan debugging pada aplikasi. | Penguasaan yang solid di Golang. | Pemahaman mendalam tentang REST API dan Microservices Architecture. | Pengalaman dengan database relasional (MySQL/PostgreSQL) dan/atau NoSQL (MongoDB, Redis). | Familiar dengan sistem kontrol versi seperti Git. | Kemampuan problem-solving yang baik dan dapat bekerja secara mandiri. | Siap bergabung secepatnya.",
         "https://id.linkedin.com/jobs/view/fullstack-developer-golang-at-vascomm-4078447705?position=38&pageNum=0&refId=ZrraVb83MgBJgTFbPKwlBQ%3D%3D&trackingId=QiGidYtklBR8YRLHHfmY2g%3D%3D"
        ],
        [
         "293",
         "Accounts Receivable Accountant (6-Months Contract)",
         "SEPHORA",
         "Central Jakarta, Jakarta, Indonesia",
         " Indonesia",
         "Taking responsibility for accounts payable tasks with efficiency and accuracy, including vendor invoice processing for a high volume of invoices and disbursements, vendor communication, internal control monitoring, developing and maintaining high quality and efficiency",
         "Ensuring proper controls on disbursements and electronic payments | Achieving required deadlines for monthly, quarterly, half-year and year-end close | A Bachelor’s degree in Finance, Business, Accounting, or related field preferred | At least 3 years in an accounting function | Large ERP AP System experience, SAP preferred | Fluent in English, experience working or studying in an English language environment is sufficient | Good communicator and able to build effective relationships with the team and vendors | Ability to work in a dynamic environment and is solution-oriented | The people. You will be surrounded by some of the most talented leaders and teams – people you can be proud to work with. | The learning. We invest in training and developing our teams, and you will continue evolving and building your skills through personalized career plans. | The culture. As a leading beauty retailer, backed by the LVMH luxury brand, our reach is broad and our impact is global. Yet there’s always room to explore. It’s in the Sephora DNA to champion a world of inspiration and inclusion where everyone can celebrate their beauty.",
         "https://id.linkedin.com/jobs/view/accounts-payable-accountant-6-month-contract-middle-east-team-at-sephora-4204586556?position=27&pageNum=0&refId=6IHvDQP4HuOOtul2hSnVTw%3D%3D&trackingId=Idqhnssxw1N9B8B9hOKAvw%3D%3D"
        ],
        [
         "312",
         "Fullstack Software Engineer",
         "KinderCastle Indonesia",
         "Jakarta, Indonesia",
         " Indonesia",
         "Design and implement scalable applications using various technologies. | Write clean and manageable code for frontend and backend systems. | Work closely with product managers, designers, and other engineers to deliver high-quality features and enhancements. | Contribute ideas and innovations that enhance our focus on early childhood development. | 0-2 years in full stack development with a solid understanding of both front-end and back-end technologies. | An interest in early childhood development and a desire to contribute to meaningful projects in this area.",
         "Participate in code reviews, providing and receiving constructive feedback. | Utilize cloud services to deploy, monitor, and scale applications effectively. | Experienced in Flutter, Node.Js, Typescript, and MySQL | Familiarity with cloud providers is a plus | Ability to learn and work with various technology stacks as project demands evolve. | Strong verbal and written communication skills to collaborate effectively with cross-functional teams.",
         "https://id.linkedin.com/jobs/view/fullstack-software-engineer-at-kindercastle-indonesia-4217291833?position=29&pageNum=0&refId=V5pthpj15mtUVUCao%2BvbNg%3D%3D&trackingId=YxxqElnPY9jc5BQdW%2BOVow%3D%3D"
        ],
        [
         "323",
         "Junior Tax",
         "Shopee",
         "Jakarta, Indonesia",
         " Indonesia",
         "Can manage large datasets in MS Excel with various functions and formulas.",
         "Ensure that the invoices, tax invoices and WHT receipt that we received are complete and correct according to tax regulations. | Determine a correct rate of WHT we must deduct from each invoice received. | Assist in paying and reporting the company taxes accurately and on time. | Help to recap and reconcile taxes accurately. | Assist to send tax documents to those who need it. | Seek information from the relevant internal departments if there are unclear transactions. | Minimum grade for all tax subjects is B. | Active in campus club/ organization while in college. | Understand the concept of WHT, VAT and KUP. | Strive to be the best, love to learn and innovate. | Approachable and can work in a team.",
         "https://id.linkedin.com/jobs/view/junior-tax-at-shopee-3834491549?position=2&pageNum=0&refId=KfxuNgVWJ%2FX9BJ8VNraL3Q%3D%3D&trackingId=TGp1d6N0Z%2BWTKqOgx4lj0w%3D%3D"
        ],
        [
         "324",
         "Researcher",
         "Aleph-Labs",
         "Jakarta, Jakarta, Indonesia",
         " Indonesia",
         "Collaborate with the internal project squad and the client’s stakeholders to define research goals and select the most effective approaches (interviews, FGDs, participatory design, usability testing, surveys, A/B testing, data analysis, etc). | Translate business questions into focused research plans and activities that generate actionable insights. | Lead end-to-end research: plan, recruit, conduct, analyze, and report — including managing research operations for the project. | Act as a user advocate in design discussions, participating in ideation and helping shape the UX. | Proven ability to run both qualitative and quantitative research independently and collaboratively : from planning, recruiting, conducting, analyzing, reporting, and managing research operations for the project.",
         "Present findings in clear, structured, and compelling formats (e.g., report documents, insight decks, or synthesis frameworks). | Co-define product success metrics and performance indicators with the team; help build a framework for ongoing tracking and optimization. | Ensure all research activities adhere to ethical and legal standards, especially around handling sensitive customer and financial data. | At least 2 - 3 years of full-time experience in UX or product research, ideally in client-facing roles or in complex digital environments such as banking, fintech, or other regulated domains. | Strong communication and storytelling skills, both in written and verbal formats, able to distill findings and influence both internal and external stakeholders. | Ability to operate several research tools (e.g., Maze, UsabilityHub), analytics platforms (e.g., Google Analytics, Hotjar, Amplitude), and data analysis tools (e.g., SPSS, R). | Comfortable interpreting data from BI tools and product analytics dashboards; familiar with product and UX performance metrics. | Experienced in facilitating ideation or co-creation workshops using several product frameworks (e.g. JTBD, Value Proposition Canvas, Opportunity Mapping) | Self-driven, detail-oriented, and passionate about high-quality research and meaningful outcomes. | Adaptable and resilient, able to work within tight timelines, shifting requirements, and complex stakeholder environments.",
         "https://id.linkedin.com/jobs/view/researcher-at-aleph-labs-4226613609?position=21&pageNum=0&refId=4GJgNlZ5FWoieYdUhyI06Q%3D%3D&trackingId=ct9K5bD4esfdmHVAdxNrqQ%3D%3D"
        ],
        [
         "348",
         "UI Solution Engineer 1 (Mekari Officeless)",
         "Mekari",
         "Jakarta, Jakarta, Indonesia",
         " Indonesia",
         "Develop user interfaces with React JS, understanding component-based architecture and optimizing performance. | Use Chakra UI to build responsive, accessible, and themeable component libraries for streamlined UI development. | Manage server-state with React Query, focusing on asynchronous data fetching, caching, and synchronization. | Familiarity with Axios for HTTP(S) interactions and React Query for server-state management.",
         "Customize vertical products based on clients' individual needs and specifications using OOS (Officeless Operating System). | Collaborate with Business Consultants to create specialized documents for each client, detailing all customizations made. | Ensure that the vertical product delivered uses all necessary OOS components. | Enhance the performance of the main front-end website (mobile and web) using OOS (Officeless Operating System). | Build sustainable JavaScript code that may be reused in the future. | Work with Business Consultants to provide cost and time estimates for clients requiring additional customizations. | Write clean, efficient, and maintainable JavaScript and TypeScript code, leveraging them for dynamic and interactive web applications. | Handle HTTP requests with Axios, integrating with backend APIs using promise-based approaches. | Implement dynamic routing and navigation using React Router DOM. | BachelorDegree in Computer Science, Engineering, MIS, or a related field, or a minimum of 2-year experience as a Fullstack Developer. | Proficiency in JavaScript and TypeScript. | Experience with React JS for building efficient and responsive user interfaces. | Hands-on experience with CSS frameworks like Chakra UI. | Proficiency in browser rendering behavior and performance optimization. | Understanding of Relational Database concepts. | Ability to work under tight deadlines, multitask effectively, and deliver high-quality results. | Capability to work independently and as part of a team. | Strong analytical and problem-solving skills. | Detail-oriented with a focus on producing maintainable code. | Competitive salary + daily allowance. | Premium private health insurance (outpatient, inpatient, maternity, dental). | Early access to salary + flex installment (employee loan) via Mekari Flex. | Allowance for sports activities and glasses/contact lenses. | Flexible working hours and remote work culture with free co-working space services. | Annual and unpaid leaves from day 1 of join date + unlimited sick leave with doctor note. | Notebook Ownership Program. | Strategic office location, accessible by MRT. | Friendly and dynamic work environment. | Opportunity to take part in growing Indonesia's no. 1 SaaS company",
         "https://id.linkedin.com/jobs/view/ui-solution-engineer-1-mekari-officeless-at-mekari-4031934257?position=43&pageNum=0&refId=V5pthpj15mtUVUCao%2BvbNg%3D%3D&trackingId=8S%2FAqv1dTW%2FRd8itnyRN0g%3D%3D"
        ],
        [
         "352",
         "Senior Fullstack Developer",
         "PT Astra International Tbk",
         "Jakarta, Jakarta, Indonesia",
         " Indonesia",
         "Membuat, memperbarui, dan memantau tugas yang akan dan telah dikerjakan menggunakan tools yang tersedia. | Memiliki pengalaman 3+ tahun dibidang Fullstack Developer.",
         "Membangun front-end web dan back-end API (fitur/sistem baru atau meningkatkan sistem yang sudah ada). | Berkolaborasi dengan tim lain untuk memastikan kualitas dan performa aplikasi sesuai dengan spesifikasi. | Mengidentifikasi potensi permasalahan dan menyelesaikan isu pada aplikasi. | Secara berkelanjutan mencari, mengevaluasi, dan mengimplementasikan teknologi baru guna memaksimalkan efisiensi pengembangan. | Melakukan pembuatan, commit, dan branching kode sumber ke dalam repository. | Membuat dan memelihara dokumentasi teknis terkait proses pengembangan dan proses teknis lainnya. | Selalu mengikuti tren industri terbaru terkait teknologi backend dan frontend web serta praktik terbaiknya. | Pendidikan minimal S1 di bidang Teknik Informatika, Sistem Informasi, Teknik Komputer, Ilmu Komputer, atau bidang terkait. | Memiliki pengalaman Microservice. | Menguasai JavaScript, React, Next.js dan Spring Boot. | Memiliki keahlian yang kuat dalam Node.js. | Berpengalaman dalam mengelola database MySQL. | Menguasai HTML dan CSS. | Mahir dalam pengembangan dan integrasi API. | Memiliki pemahaman mendalam tentang client-side rendering dan server-side rendering. | Memiliki keterampilan analisis, pemecahan masalah, dan komunikasi yang baik. | Mampu bekerja secara efektif dalam lingkungan kerja tim.",
         "https://id.linkedin.com/jobs/view/senior-fullstack-developer-at-pt-astra-international-tbk-4230110369?position=28&pageNum=0&refId=V5pthpj15mtUVUCao%2BvbNg%3D%3D&trackingId=7QARiu7aliRuIVswxdFoHw%3D%3D"
        ],
        [
         "364",
         "Accounting Manager",
         "YouApp",
         "South Jakarta, Jakarta, Indonesia",
         " Indonesia",
         "Prepare and analyze monthly, quarterly, and annual financial statements. | Manage the accounts payable and receivable processes. | Monitor and manage the company's cash flow.",
         "Ensure compliance with accounting standards and regulatory requirements. | Assist in the preparation of budgets and financial forecasts. | Monitor and report on variances between actual and budgeted figures. | Ensure timely payment of invoices and accurate recording of transactions. | Maintain and reconcile general ledger accounts. | Ensure accuracy and completeness of financial records. | Prepare and file tax returns in compliance with local regulations. | Liaise with external auditors and tax advisors as needed. | Prepare cash flow forecasts and recommend appropriate actions. | Implement and maintain internal controls to safeguard company assets. | Conduct regular audits to ensure compliance with internal policies. | Conduct financial analysis to support business decisions. | Provide insights and recommendations based on financial data. | Bachelor's degree in Accounting, Finance, or a related field. | Professional accounting qualification (e.g., ACCA, CPA, CIMA) is preferred. | Minimum of 3 years of relevant accounting experience. | Strong knowledge of accounting principles and standards. | Proficiency in accounting software and Microsoft Excel. | Excellent analytical and problem-solving skills. | Strong attention to detail and accuracy. | Good communication and interpersonal skills. | Ability to work independently and as part of a team. | Proficiency in English is mandatory. | Mandarin language skills are a plus.",
         "https://id.linkedin.com/jobs/view/accountant-at-youapp-4210951467?position=48&pageNum=0&refId=Ug6HLt8tIXxlrqSssMcHSw%3D%3D&trackingId=pAOEwGMTB0gI90AdlKY66A%3D%3D"
        ],
        [
         "374",
         "Strategy and Risk Analyst - SPX Express (Jakarta)",
         "Shopee",
         "Jakarta, Indonesia",
         " Indonesia",
         "Assign cases to agents and ensure timely resolution within designated timelines.",
         "Conduct in-depth data analysis to identify patterns in lost and damaged parcels. | Monitor and evaluate the performance of field agents. | Compile and consolidate daily reports on case findings and resolutions | Proven experience in project management. | Strong attention to detail and analytical skills. | Excellent problem-solving and critical thinking abilities. | Experience in leading teams or managing operations staff. | Proficiency in Excel modeling and data analysis. | Experience from any background in operations management or related fields is highly preferred",
         "https://id.linkedin.com/jobs/view/strategy-and-risk-analyst-spx-express-jakarta-at-shopee-4204063762?position=29&pageNum=0&refId=YZWh%2FYBSTDzrBECcRLYf8w%3D%3D&trackingId=6ltOqjXVkGE%2BWIe1W9H3uA%3D%3D"
        ],
        [
         "375",
         "Fullstack Developer Golang",
         "Vascomm",
         "Sidoarjo, East Java, Indonesia",
         " Indonesia",
         "Pengalaman kerja minimal 2 tahun sebagai Fullstack Developer.",
         "Mengembangkan aplikasi berbasis backend menggunakan Golang. | Mengintegrasikan aplikasi dengan berbagai layanan pihak ketiga sesuai kebutuhan proyek. | Berkolaborasi dengan tim frontend dan backend untuk memastikan kualitas dan performa aplikasi. | Menganalisis kebutuhan sistem dan menerapkan solusi terbaik untuk mendukung tujuan proyek. | Mengoptimalkan aplikasi untuk performa dan skalabilitas tinggi. | Melakukan troubleshooting dan debugging pada aplikasi. | Penguasaan yang solid di Golang. | Pemahaman mendalam tentang REST API dan Microservices Architecture. | Pengalaman dengan database relasional (MySQL/PostgreSQL) dan/atau NoSQL (MongoDB, Redis). | Familiar dengan sistem kontrol versi seperti Git. | Kemampuan problem-solving yang baik dan dapat bekerja secara mandiri. | Siap bergabung secepatnya.",
         "https://id.linkedin.com/jobs/view/fullstack-developer-golang-at-vascomm-4078447705?position=38&pageNum=0&refId=V5pthpj15mtUVUCao%2BvbNg%3D%3D&trackingId=H7jrxQocSmjJ25O8xHHprw%3D%3D"
        ],
        [
         "376",
         "Fullstack Developer Golang",
         "HTC Global Services",
         "Sidoarjo, East Java, Indonesia",
         " Indonesia",
         "Develop and maintain secure, scalable fullstack applications using Vue.js (frontend) and Spring/Spring Boot (backend) | Participate in system architecture design and contribute to technical decision-making",
         "Work closely with product managers, business analysts, and other developers to translate banking requirements into technical solutions | Ensure compliance with industry standards, including data security, privacy, and audit trails | Integrate with core banking systems, payment gateways, and third-party APIs | Build and consume RESTful APIs in a microservices environment | Maintain clean, testable, and well-documented code | Troubleshoot production issues and ensure system reliability and performance | Minimum 2 years of professional experience as a Fullstack Developer | Proficiency in Vue.js, Vue Router, Vuex, HTML5, CSS3, and JavaScript ES6+ | Strong backend experience using Java, Spring Framework, and Spring Boot | Experience working with RESTful APIs, JSON, and authentication/authorization mechanisms | Familiarity with banking domain standards (e.g., ISO 8583, ISO 20022, PCI-DSS) is a strong advantage | Experience with SQL databases such as PostgreSQL, Oracle, or MySQL | Understanding of version control (Git), CI/CD, and DevOps practices | Familiarity with containerization tools such as Docker | Strong problem-solving skills and attention to detail | Previous experience working on core banking systems, loan origination platforms, digital banking, or payment systems | Knowledge of regulatory compliance and financial data security | Experience with Agile/Scrum methodologies | Strong communication and teamwork skills",
         "https://id.linkedin.com/jobs/view/full-stack-developer-banking-at-htc-global-services-4232747701?position=41&pageNum=0&refId=BamY%2ByY7G22sCkmQVq%2FUnQ%3D%3D&trackingId=VJBXcqX2rOZeGbx8WaYdYQ%3D%3D"
        ],
        [
         "379",
         "Gojek - Senior Mobility Researcher - Transport",
         "RiDiK (a Subsidiary of CLPS. Nasdaq: CLPS)",
         "Jakarta, Jakarta, Indonesia",
         " Indonesia",
         "Design and execute global community strategies aligned with product vision, user needs, and brand goals across diverse international markets. | Develop and manage culturally relevant community content strategies tailored to a global audience, especially for platforms like Discord and Twitter. | Organize and manage global community engagement programs including webinars, live Q&A sessions, community challenges, ambassador or advocate programs, and more. | Work closely with content, localization, and design teams to ensure high-quality communication and consistency across regions and platforms. | Proven ability to grow and manage digital communities across multiple regions and time zones, especially on platforms like Discord, Telegram, and X (Twitter). | Familiarity with community management tools (e.g., Discord bots, Notion, Typeform) and analytics platforms.",
         "Build, grow, and maintain a strong and active presence across global community platforms such as Discord, X (Twitter), Telegram, Reddit, and regional channels where needed. | Lead both online and offline community-building initiatives to strengthen engagement, trust, and brand loyalty in multiple regions. | Monitor global community discussions, address questions and concerns with empathy, and maintain a consistent, friendly brand voice across all regions. | Actively collect and synthesize feedback and insights from community members worldwide, and collaborate with internal teams (product, marketing, support) to improve user experience. | Stay up-to-date with community trends, platform best practices, and local user behavior across different cultures and markets. | 1–3 years of experience as a Community Manager or in a similar role, preferably managing international or multi-language communities in the tech, startup, or SaaS space. | Excellent written and verbal communication skills in English (fluency in other languages is a plus). | Experience working with or around tech or AI products, with the ability to explain concepts in a clear, accessible, and culturally sensitive way. | Strong interpersonal and cross-cultural communication skills; highly empathetic and adept at resolving issues across diverse user groups. | Experience managing large, diverse online communities and understanding of different community dynamics globally. | Self-motivated, adaptable, and capable of working independently as well as across time zones with global cross-functional teams.",
         "https://id.linkedin.com/jobs/view/kol-manager-global-at-ridik-a-subsidiary-of-clps-nasdaq-clps-4231142259?position=20&pageNum=0&refId=3pflRLyxdFjf%2Bj8EQsuDCg%3D%3D&trackingId=o%2FfKV6NTNXzktfxv0Ai7yg%3D%3D"
        ],
        [
         "382",
         "Accounting, Finance | PT Putra Wijayakususma Sakti",
         "Shopee",
         "Malang, East Java, Indonesia",
         " Indonesia",
         "Prepare annual tax report & tax queries in collaboration with tax consultant/tax manager.",
         "Responsible for calculating and reporting the company's monthly and annual tax returns. | Ensure that the company has withheld accurate tax amounts on every invoice. | Accurately reconcile input VAT, output VAT and PMSE VAT. | Reconcile PPh 4(2), PPh 21, PPh 22, PPh 23, and PPh 26 accurately. | Supporting & giving advisory to other departments related to taxation. | Update on the local tax regulation & international tax that are related. | Prepare data for Tax Audit & any other litigations. | Maintain a good relationship with external parties to get the tax documents needed by the company. | Minimum bachelor's degree in Accounting/Fiscal Administration from reputable university | Minimum 3-6 years relevant working experience. Experienced in tax consulting firm would be an advantage. | Excellent knowledge of local tax regulation. | Having the certification of Brevet A/B/C or USKP is an advantage. | Fully understand the concept of taxation (corporate income tax, personal income tax, VAT, VAT Self-Assessed and KUP). | Having a basic understanding of accounting would be an advantage. | Expert in operating tax applications (e-invoicing, eButPot, unification SPT, etc.). | Familiar with calculating corporate income tax and filling out a corporate annual tax return and its attachments. | Having a good work ethic, good analytical skills & proactive in a demanding situation | An excellent team player, and respectful to others",
         "https://id.linkedin.com/jobs/view/tax-legal-finance-at-shopee-4010118301?position=50&pageNum=0&refId=ZesvrCOPlaMtUPA3YiW7GA%3D%3D&trackingId=aHsjpLbr%2BtWs5DAePAfbVg%3D%3D"
        ],
        [
         "386",
         "Retail Assistant Manager",
         "Torch",
         "Indonesia",
         "Indonesia",
         "Store Management: Oversee all aspects of our stores' operation, including staff management, inventory control, visual merchandising, promotion, and customer service. | Sales and Performance Analysis: Monitor and analyze sales performance across online and offline channels, use data analytics to identify trends, opportunities, and areas for improvement. | Inventory Management: Oversee inventory levels to ensure product availability and optimal stock levels across all channels, coordinate with supply chain and logistics teams to manage inventory transfers between online and offline stores. | Marketing and Promotions: Plan and execute integrated marketing campaigns to drive traffic and sales in both online and physical stores, collaborate with the marketing team to develop promotional activities that align with the brand's O2O strategy. | Expansion and New Store Openings: Assist in the planning and execution of new store openings and expansions, ensuring that new locations adhere to the brand's standards and operational procedures. | Financial Management: Develop and manage store budgets, monitor store performance against financial targets, and take corrective actions as needed. | Partnership Management: Build and maintain relationships with key stakeholders, including third-party vendors, technology partners, and other external collaborators. | Bachelor’s degree in Business Administration, Marketing, Retail Management, or a related field. | Proven track record in managing O2O initiatives or similar roles in the fashion retail industry. | Leadership and team management abilities, with the ability to handle multiple projects simultaneously. | Financial acumen for budget management and financial analysis.",
         "Strategy Development and Execution: Develop and implement O2O strategies to enhance customer experience and drive sales both online and in-store, coordinate with marketing, sales, and IT teams to ensure seamless integration of online and offline channels. | Customer Experience Management: Create and manage omnichannel customer journeys to ensure a consistent and personalized experience across all touchpoints, utilize customer data and feedback to improve service quality and customer satisfaction. | Technology Integration: Ensure the effective integration of technology solutions (e.g., CRM systems, e-commerce platforms) to support O2O initiatives, stay updated with the latest retail technology trends and recommend innovations to enhance O2O capabilities. | Min. 5 years of experience in LEADING area retail/O2O team, with min. 3 years of experience in fashion retail industry. | Strong understanding of retail operations, e-commerce, and omnichannel strategies. | Proficiency in data analysis. | In-depth knowledge of the fashion retail industry, including market trends and consumer behavior. | Knowledge of visual merchandising best practices and the ability to implement them effectively. | Familiarity with digital marketing, social media, and online sales strategies. | Innovative and proactive mindset. | Strong problem-solving skills and attention to detail. | Ability to adapt to a fast-paced and dynamic retail environment.",
         "https://id.linkedin.com/jobs/view/retail-assistant-manager-at-torch-4069748015?position=5&pageNum=0&refId=ibFksicuIccwlpaUAEHVKw%3D%3D&trackingId=7%2BGbCMCi9eowrzJ3Zjsvog%3D%3D"
        ],
        [
         "387",
         "Legal Commercial Manager",
         "PT Garuda Yamato Steel",
         "Cikarang Barat, West Java, Indonesia",
         " Indonesia",
         "Manage contract lifecycle from initiation through execution and renewal",
         "Drafting, reviewing, and negotiating a wide range of commercial contracts | Advise internal stakeholders on legal risks, obligations, and commercial policies | Ensuring compliance with legal and corporate policy requirements | Monitor changes in laws that affecting company's commercial operations | Master Degree in Law is a plus | License advocate with PERADI certificate | At least 8 years working experience with 4 years working in corporate law firm | Excellent understanding of legal issues | Strong interpersonal, English communication and stakeholder management skills | Willing to work onsite at Cikarang",
         "https://id.linkedin.com/jobs/view/legal-commercial-manager-at-pt-garuda-yamato-steel-4223790030?position=35&pageNum=0&refId=4GJgNlZ5FWoieYdUhyI06Q%3D%3D&trackingId=Mf4MDnPAW3BEcoQoYrFsZQ%3D%3D"
        ],
        [
         "388",
         "Accounting Manager",
         "Shopee",
         "South Jakarta, Jakarta, Indonesia",
         " Indonesia",
         "Prepare annual tax report & tax queries in collaboration with tax consultant/tax manager.",
         "Responsible for calculating and reporting the company's monthly and annual tax returns. | Ensure that the company has withheld accurate tax amounts on every invoice. | Accurately reconcile input VAT, output VAT and PMSE VAT. | Reconcile PPh 4(2), PPh 21, PPh 22, PPh 23, and PPh 26 accurately. | Supporting & giving advisory to other departments related to taxation. | Update on the local tax regulation & international tax that are related. | Prepare data for Tax Audit & any other litigations. | Maintain a good relationship with external parties to get the tax documents needed by the company. | Minimum bachelor's degree in Accounting/Fiscal Administration from reputable university | Minimum 3-6 years relevant working experience. Experienced in tax consulting firm would be an advantage. | Excellent knowledge of local tax regulation. | Having the certification of Brevet A/B/C or USKP is an advantage. | Fully understand the concept of taxation (corporate income tax, personal income tax, VAT, VAT Self-Assessed and KUP). | Having a basic understanding of accounting would be an advantage. | Expert in operating tax applications (e-invoicing, eButPot, unification SPT, etc.). | Familiar with calculating corporate income tax and filling out a corporate annual tax return and its attachments. | Having a good work ethic, good analytical skills & proactive in a demanding situation | An excellent team player, and respectful to others",
         "https://id.linkedin.com/jobs/view/tax-legal-finance-at-shopee-4010118301?position=50&pageNum=0&refId=6IHvDQP4HuOOtul2hSnVTw%3D%3D&trackingId=H%2BklnR4oHAQgMy5vFetiiA%3D%3D"
        ],
        [
         "392",
         "Production Supervisor",
         "Philips",
         "Sidoarjo, East Java, Indonesia",
         " Indonesia",
         "Develop efficiency and effectiveness inspection with a digitalization approach",
         "Conduct inspections and testing to ensure compliance with standard requirements. | Investigate quality issues, perform root cause analysis, and implement corrective & preventive actions. | Monitor production processes and suggest improvements to enhance efficiency and reduce defects. | Collaborate with cross-functional teams to drive continuous improvement initiatives | Currently pursuing a Bachelor's, D3 or D4 in Electrical, Mechanical, Robotics, Metrology, and Instrumentation | Eager to learn of Industry 4.0 technologies and their applications in manufacturing and production environments | Ability to work independently and as part of a team | Strong problem-solving skills and ability to translate business requirements into technical solutions | Effective written and verbal communication skills | Detail-oriented and organized | Learn more about our business. | Discover our rich and exciting history. | Learn more about our purpose.",
         "https://id.linkedin.com/jobs/view/quality-engineer-intership-at-philips-4219528452?position=51&pageNum=0&refId=8EqYm9nr3wCvvOACm7RdHw%3D%3D&trackingId=%2FdX5V%2FQ5I04zbLAJ5r8%2Bnw%3D%3D"
        ],
        [
         "395",
         "Data Analyst",
         "RedDoorz",
         "Central Jakarta, Jakarta, Indonesia",
         " Indonesia",
         "Design and deliver reports and dashboards to analyze key performance metrics",
         "Collaborate with business teams to transform data into actionable insights | Optimize revenue, profitability, and operations through data analysis. | Document data logic and tables for clear stakeholder understanding. | Bachelor's/Master’s degree in Engineering, Data Science, or Analytics. | 1-4 years of experience in Data Analytics or Data Science. | Proficiency in Excel/Google Sheets, SQL, and Superset/Tableau. | Strong initiative, task management, stakeholder collaboration and execution skills.",
         "https://id.linkedin.com/jobs/view/data-analyst-at-reddoorz-4221243334?position=49&pageNum=0&refId=YZWh%2FYBSTDzrBECcRLYf8w%3D%3D&trackingId=TcxEqL%2BlfrkoYEuk3vHeug%3D%3D"
        ],
        [
         "412",
         "Shop Manager",
         "ASTRO",
         "Mataram, West Nusa Tenggara, Indonesia",
         " Indonesia",
         "Check and analyze ordering from SC Category fit to budget and Stock Level Target | Collaborate the planning and execution of stock opname activities with related stakeholders | Ensure product stock is adequate for all distribution channels and liaise with demand planning team to ensure can cover direct demand from customers",
         "Collaborate with related stakeholders for rebalancing stock | Processes return as required, following established procedures. | Bachelor’s Degree in Business Administration. | Minimum 2 years working experience as an Inventory Management Associate. | Proficiency in Ms. Office preferably Ms. Excel. | Knowledge of apparel inventory control. | Knowledge of, or ability to learn quickly, numerous computerized systems used to track and process inventory.",
         "https://id.linkedin.com/jobs/view/inventory-excellence-analyst-at-astro-4073774573?position=16&pageNum=0&refId=472psk1mCs9vnyS5%2Fn35qg%3D%3D&trackingId=JQeLa5siQjbjvKAkLMn0eA%3D%3D"
        ],
        [
         "416",
         "Tax - Legal & Finance",
         "PT. SINOTRANS OVERSEAS INDONESIA",
         "Jakarta, Indonesia",
         " Indonesia",
         "Provide tax advice to management on a variety of tax matters. | Manage the company's tax audit process. | Develop and implement tax-saving strategies.",
         "Prepare and file corporate income tax returns, VAT returns, and other applicable tax returns. | Ensure compliance with all applicable tax laws and regulations. | Research and stay up-to-date on changes in tax laws and regulations.",
         "https://id.linkedin.com/jobs/view/tax-accountant-at-pt-sinotrans-overseas-indonesia-4190853765?position=54&pageNum=0&refId=6IHvDQP4HuOOtul2hSnVTw%3D%3D&trackingId=ZCDlO2qoX7wX9ReflCTmCQ%3D%3D"
        ]
       ],
       "shape": {
        "columns": 7,
        "rows": 1362
       }
      },
      "text/html": [
       "<div>\n",
       "<style scoped>\n",
       "    .dataframe tbody tr th:only-of-type {\n",
       "        vertical-align: middle;\n",
       "    }\n",
       "\n",
       "    .dataframe tbody tr th {\n",
       "        vertical-align: top;\n",
       "    }\n",
       "\n",
       "    .dataframe thead th {\n",
       "        text-align: right;\n",
       "    }\n",
       "</style>\n",
       "<table border=\"1\" class=\"dataframe\">\n",
       "  <thead>\n",
       "    <tr style=\"text-align: right;\">\n",
       "      <th></th>\n",
       "      <th>Title</th>\n",
       "      <th>Company</th>\n",
       "      <th>Location</th>\n",
       "      <th>Country</th>\n",
       "      <th>Job Description</th>\n",
       "      <th>Job Requirements</th>\n",
       "      <th>Link</th>\n",
       "    </tr>\n",
       "  </thead>\n",
       "  <tbody>\n",
       "    <tr>\n",
       "      <th>28</th>\n",
       "      <td>APAC Graduate Program-Leadership Experience an...</td>\n",
       "      <td>My Zahir</td>\n",
       "      <td>Kecamatan Bekasi Utara, West Java, Indonesia</td>\n",
       "      <td>Indonesia</td>\n",
       "      <td>Support religious development | Support employ...</td>\n",
       "      <td>Memiliki mindset untuk terus belajar | Up to d...</td>\n",
       "      <td>https://id.linkedin.com/jobs/view/fashion-desi...</td>\n",
       "    </tr>\n",
       "    <tr>\n",
       "      <th>33</th>\n",
       "      <td>Accountant</td>\n",
       "      <td>Givaudan</td>\n",
       "      <td>Tangerang, Banten, Indonesia</td>\n",
       "      <td>Indonesia</td>\n",
       "      <td>Manage month end closing for Indonesia.</td>\n",
       "      <td>Working closely with controller on SAP contrac...</td>\n",
       "      <td>https://id.linkedin.com/jobs/view/finance-acco...</td>\n",
       "    </tr>\n",
       "    <tr>\n",
       "      <th>35</th>\n",
       "      <td>Fullstack Developer (Banking Industry)</td>\n",
       "      <td>SIGMATECH</td>\n",
       "      <td>Jakarta, Jakarta, Indonesia</td>\n",
       "      <td>Indonesia</td>\n",
       "      <td>Familiar with Agile software development, micr...</td>\n",
       "      <td>Develop, deploy &amp; implement applications based...</td>\n",
       "      <td>https://id.linkedin.com/jobs/view/fullstack-de...</td>\n",
       "    </tr>\n",
       "    <tr>\n",
       "      <th>41</th>\n",
       "      <td>Tenant Relation Senior Manager</td>\n",
       "      <td>SuperAI (YC S22)</td>\n",
       "      <td>Jakarta Metropolitan Area</td>\n",
       "      <td>Jakarta Metropolitan Area</td>\n",
       "      <td>Design and execute global community strategies...</td>\n",
       "      <td>Build, grow, and maintain a strong and active ...</td>\n",
       "      <td>https://id.linkedin.com/jobs/view/community-ma...</td>\n",
       "    </tr>\n",
       "    <tr>\n",
       "      <th>48</th>\n",
       "      <td>B2B &amp; Complementary Procurement Staff</td>\n",
       "      <td>Torch</td>\n",
       "      <td>Indonesia</td>\n",
       "      <td>Indonesia</td>\n",
       "      <td>Collaborate with internal teams to understand ...</td>\n",
       "      <td>Identify and establish partnerships with relia...</td>\n",
       "      <td>https://id.linkedin.com/jobs/view/b2b-compleme...</td>\n",
       "    </tr>\n",
       "    <tr>\n",
       "      <th>...</th>\n",
       "      <td>...</td>\n",
       "      <td>...</td>\n",
       "      <td>...</td>\n",
       "      <td>...</td>\n",
       "      <td>...</td>\n",
       "      <td>...</td>\n",
       "      <td>...</td>\n",
       "    </tr>\n",
       "    <tr>\n",
       "      <th>5245</th>\n",
       "      <td>Customer Experience Manager</td>\n",
       "      <td>ShopBack</td>\n",
       "      <td>Purbalingga, Central Java, Indonesia</td>\n",
       "      <td>Indonesia</td>\n",
       "      <td>Design and strategy: | Support product manager...</td>\n",
       "      <td>Conduct user research and use quantitative and...</td>\n",
       "      <td>https://id.linkedin.com/jobs/view/ux-writer-at...</td>\n",
       "    </tr>\n",
       "    <tr>\n",
       "      <th>5246</th>\n",
       "      <td>Legal Counsel - Litigation &amp; Contentious Matters</td>\n",
       "      <td>ShopBack</td>\n",
       "      <td>Jakarta, Jakarta, Indonesia</td>\n",
       "      <td>Indonesia</td>\n",
       "      <td>Design and strategy: | Support product manager...</td>\n",
       "      <td>Conduct user research and use quantitative and...</td>\n",
       "      <td>https://id.linkedin.com/jobs/view/ux-writer-at...</td>\n",
       "    </tr>\n",
       "    <tr>\n",
       "      <th>5248</th>\n",
       "      <td>Account Manager - Attraction/Things-to-Do (B2C...</td>\n",
       "      <td>tiket.com</td>\n",
       "      <td>Jakarta, Jakarta, Indonesia</td>\n",
       "      <td>Indonesia</td>\n",
       "      <td>Manage and grow relationships with existing pa...</td>\n",
       "      <td>Acquire and onboard new experience providers b...</td>\n",
       "      <td>https://id.linkedin.com/jobs/view/account-mana...</td>\n",
       "    </tr>\n",
       "    <tr>\n",
       "      <th>5249</th>\n",
       "      <td>Software Engineer (Fullstack)</td>\n",
       "      <td>Mekari</td>\n",
       "      <td>Surabaya, East Java, Indonesia</td>\n",
       "      <td>Indonesia</td>\n",
       "      <td>Develop front-end &amp; back-end components on the...</td>\n",
       "      <td>Work closely with DevOps to maintain the appli...</td>\n",
       "      <td>https://id.linkedin.com/jobs/view/senior-softw...</td>\n",
       "    </tr>\n",
       "    <tr>\n",
       "      <th>5250</th>\n",
       "      <td>Quality Improvement Specialist</td>\n",
       "      <td>Shopee</td>\n",
       "      <td>Sidoarjo, East Java, Indonesia</td>\n",
       "      <td>Indonesia</td>\n",
       "      <td>Be involved in whole development life cycle an...</td>\n",
       "      <td>Functional testing via grey-box and white-box ...</td>\n",
       "      <td>https://id.linkedin.com/jobs/view/qa-engineer-...</td>\n",
       "    </tr>\n",
       "  </tbody>\n",
       "</table>\n",
       "<p>1362 rows × 7 columns</p>\n",
       "</div>"
      ],
      "text/plain": [
       "                                                  Title           Company  \\\n",
       "28    APAC Graduate Program-Leadership Experience an...          My Zahir   \n",
       "33                                           Accountant          Givaudan   \n",
       "35               Fullstack Developer (Banking Industry)         SIGMATECH   \n",
       "41                       Tenant Relation Senior Manager  SuperAI (YC S22)   \n",
       "48                B2B & Complementary Procurement Staff             Torch   \n",
       "...                                                 ...               ...   \n",
       "5245                        Customer Experience Manager          ShopBack   \n",
       "5246   Legal Counsel - Litigation & Contentious Matters          ShopBack   \n",
       "5248  Account Manager - Attraction/Things-to-Do (B2C...         tiket.com   \n",
       "5249                      Software Engineer (Fullstack)            Mekari   \n",
       "5250                     Quality Improvement Specialist            Shopee   \n",
       "\n",
       "                                          Location                    Country  \\\n",
       "28    Kecamatan Bekasi Utara, West Java, Indonesia                  Indonesia   \n",
       "33                    Tangerang, Banten, Indonesia                  Indonesia   \n",
       "35                     Jakarta, Jakarta, Indonesia                  Indonesia   \n",
       "41                       Jakarta Metropolitan Area  Jakarta Metropolitan Area   \n",
       "48                                       Indonesia                  Indonesia   \n",
       "...                                            ...                        ...   \n",
       "5245          Purbalingga, Central Java, Indonesia                  Indonesia   \n",
       "5246                   Jakarta, Jakarta, Indonesia                  Indonesia   \n",
       "5248                   Jakarta, Jakarta, Indonesia                  Indonesia   \n",
       "5249                Surabaya, East Java, Indonesia                  Indonesia   \n",
       "5250                Sidoarjo, East Java, Indonesia                  Indonesia   \n",
       "\n",
       "                                        Job Description  \\\n",
       "28    Support religious development | Support employ...   \n",
       "33              Manage month end closing for Indonesia.   \n",
       "35    Familiar with Agile software development, micr...   \n",
       "41    Design and execute global community strategies...   \n",
       "48    Collaborate with internal teams to understand ...   \n",
       "...                                                 ...   \n",
       "5245  Design and strategy: | Support product manager...   \n",
       "5246  Design and strategy: | Support product manager...   \n",
       "5248  Manage and grow relationships with existing pa...   \n",
       "5249  Develop front-end & back-end components on the...   \n",
       "5250  Be involved in whole development life cycle an...   \n",
       "\n",
       "                                       Job Requirements  \\\n",
       "28    Memiliki mindset untuk terus belajar | Up to d...   \n",
       "33    Working closely with controller on SAP contrac...   \n",
       "35    Develop, deploy & implement applications based...   \n",
       "41    Build, grow, and maintain a strong and active ...   \n",
       "48    Identify and establish partnerships with relia...   \n",
       "...                                                 ...   \n",
       "5245  Conduct user research and use quantitative and...   \n",
       "5246  Conduct user research and use quantitative and...   \n",
       "5248  Acquire and onboard new experience providers b...   \n",
       "5249  Work closely with DevOps to maintain the appli...   \n",
       "5250  Functional testing via grey-box and white-box ...   \n",
       "\n",
       "                                                   Link  \n",
       "28    https://id.linkedin.com/jobs/view/fashion-desi...  \n",
       "33    https://id.linkedin.com/jobs/view/finance-acco...  \n",
       "35    https://id.linkedin.com/jobs/view/fullstack-de...  \n",
       "41    https://id.linkedin.com/jobs/view/community-ma...  \n",
       "48    https://id.linkedin.com/jobs/view/b2b-compleme...  \n",
       "...                                                 ...  \n",
       "5245  https://id.linkedin.com/jobs/view/ux-writer-at...  \n",
       "5246  https://id.linkedin.com/jobs/view/ux-writer-at...  \n",
       "5248  https://id.linkedin.com/jobs/view/account-mana...  \n",
       "5249  https://id.linkedin.com/jobs/view/senior-softw...  \n",
       "5250  https://id.linkedin.com/jobs/view/qa-engineer-...  \n",
       "\n",
       "[1362 rows x 7 columns]"
      ]
     },
     "execution_count": 6,
     "metadata": {},
     "output_type": "execute_result"
    }
   ],
   "source": [
    "df_cleaned"
   ]
  },
  {
   "cell_type": "markdown",
   "metadata": {},
   "source": [
    "### **Langkah 3: Menyimpan Dataset Bersih**\n",
    "\n",
    "Terakhir, kita akan menyimpan DataFrame yang sudah bersih ini ke dalam sebuah file CSV baru bernama `jobs_cleaned.csv`. File inilah yang akan menjadi input untuk proses training model di *notebook* selanjutnya."
   ]
  },
  {
   "cell_type": "code",
   "execution_count": 7,
   "metadata": {
    "execution": {
     "iopub.execute_input": "2025-06-10T10:08:08.511453Z",
     "iopub.status.busy": "2025-06-10T10:08:08.510981Z",
     "iopub.status.idle": "2025-06-10T10:08:08.633680Z",
     "shell.execute_reply": "2025-06-10T10:08:08.632656Z",
     "shell.execute_reply.started": "2025-06-10T10:08:08.511399Z"
    },
    "trusted": true
   },
   "outputs": [
    {
     "name": "stdout",
     "output_type": "stream",
     "text": [
      "Dataset bersih berhasil disimpan di: 'dataset/jobs_cleaned.csv'\n",
      "Total baris data bersih yang disimpan: 1362\n"
     ]
    }
   ],
   "source": [
    "# Menyimpan ke file CSV baru di dalam folder dataset\n",
    "output_path = 'dataset/jobs_cleaned.csv'\n",
    "df_cleaned.to_csv(output_path, index=False)\n",
    "\n",
    "print(f\"Dataset bersih berhasil disimpan di: '{output_path}'\")\n",
    "print(f\"Total baris data bersih yang disimpan: {len(df_cleaned)}\")"
   ]
  },
  {
   "cell_type": "markdown",
   "metadata": {},
   "source": [
    "**Tindakan:**\n",
    "DataFrame `df_cleaned` yang telah melalui semua proses pembersihan kini disimpan menjadi sebuah file baru bernama `jobs_cleaned.csv`.\n",
    "\n",
    "**Alasan (Insight):**\n",
    "* **Checkpoint**: Menyimpan hasil pembersihan ke file terpisah adalah praktik yang baik. Ini menciptakan sebuah \"checkpoint\" dari data yang sudah bersih dan siap pakai.\n",
    "* **Efisiensi Alur Kerja**: *Notebook* atau *script* selanjutnya (seperti untuk training model) bisa langsung memuat file bersih ini tanpa perlu mengulang langkah-langkah pembersihan yang sama setiap saat, sehingga menghemat waktu dan sumber daya komputasi."
   ]
  }
 ],
 "metadata": {
  "kaggle": {
   "accelerator": "none",
   "dataSources": [
    {
     "datasetId": 7502377,
     "sourceId": 11933094,
     "sourceType": "datasetVersion"
    }
   ],
   "dockerImageVersionId": 31040,
   "isGpuEnabled": false,
   "isInternetEnabled": true,
   "language": "python",
   "sourceType": "notebook"
  },
  "kernelspec": {
   "display_name": "dsml",
   "language": "python",
   "name": "python3"
  },
  "language_info": {
   "codemirror_mode": {
    "name": "ipython",
    "version": 3
   },
   "file_extension": ".py",
   "mimetype": "text/x-python",
   "name": "python",
   "nbconvert_exporter": "python",
   "pygments_lexer": "ipython3",
   "version": "3.10.11"
  }
 },
 "nbformat": 4,
 "nbformat_minor": 4
}
